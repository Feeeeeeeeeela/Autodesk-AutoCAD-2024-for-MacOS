{
 "cells": [
  {
   "cell_type": "markdown",
   "metadata": {},
   "source": [
    "### Tlačítko na panelu\n",
    "Nyní si vyzkoušíme vytvořit tlačítko. Aby mělo nějakou užitečnou funkci tak vytvoříme tzv. exitbutton, který vypne naše okno."
   ]
  },
  {
   "cell_type": "code",
   "execution_count": 9,
   "metadata": {},
   "outputs": [],
   "source": [
    "import wx\n",
    "\n",
    "class MyFrame(wx.Frame):    \n",
    "    def __init__(self):\n",
    "        super().__init__(parent=None, title='First button')\n",
    "        self.Show()\n",
    "        panel = wx.Panel(self, size=(80,80))\n",
    "        button = wx.Button(panel, label=\"exit\", size=(60,60))\n",
    "        self.Bind(wx.EVT_BUTTON, self.closebutton, button)\n",
    "        \n",
    "    def closebutton(self, event):\n",
    "        self.Close(True)\n",
    "    \n",
    "\n",
    "if __name__ == \"__main__\": \n",
    "    app = wx.App()\n",
    "    frame = MyFrame()\n",
    "    app.MainLoop()\n",
    "        "
   ]
  },
  {
   "cell_type": "markdown",
   "metadata": {},
   "source": [
    "Jako první si musíme vytvořit `panel`, na který se ukládají ovládací prvky (není to soce nutné, ale panel se lépe organizuje než samotný `frame`). Opět všechny  parametry najdete v [Dokumentaci](https://wxpython.org/Phoenix/docs/html/wx.Panel.html), ale nám bude pouze stačit parametr pro jeho velikost."
   ]
  },
  {
   "cell_type": "raw",
   "metadata": {},
   "source": [
    "        panel = wx.Panel(self, size=(80,80))"
   ]
  },
  {
   "cell_type": "markdown",
   "metadata": {},
   "source": [
    "Dále si vytvoříme samotné `tlačítko`, které umístíme v parametrech na `panel`. V parametrech ještě nastavíme jeho zobrazovaný text `label` a velikost `size`. Další parametry `wx.Button` můžeme najít v [dokumentaci](https://wxpython.org/Phoenix/docs/html/wx.Button.html) <br> "
   ]
  },
  {
   "cell_type": "raw",
   "metadata": {},
   "source": [
    "        button = wx.Button(panel, label=\"exit\", size=(60,60))"
   ]
  },
  {
   "cell_type": "markdown",
   "metadata": {},
   "source": [
    "Tlačítko samo o sobě nic neumí a proto mu na dalším řádku přiřadíme 'event' pomocí [\"manipulátoru\" (handleru)](https://wxpython.org/Phoenix/docs/html/events_overview.html) `Bind()`. Před handler napíšeme `self`, protože se metoda nenachází přímo v objektu.<br>\n",
    "Do parametrů funkce jako první nastavíme typ eventu pomocí `wx.EVT_...`. Typů eventu je celá řada v [dokumentaci](https://wxpython.org/Phoenix/docs/html/wx.CommandEvent.html), ale nám bude stačit, že používáme event pro tlačítko `EVT_BUTTON` .<br>\n",
    "V dalším parametru bude vypsána naše metoda eventu `self.closebutton`, kterou později napíšeme do samostatné funkce, opět se `self`, protože se metoda nenachází v našem objektu. Posledním parametrem je naše proměnná `button`, kterou jsme si vytvořili a definovali samotné tlačítko."
   ]
  },
  {
   "cell_type": "raw",
   "metadata": {},
   "source": [
    "        self.Bind(wx.EVT_BUTTON, self.closebutton, button)"
   ]
  },
  {
   "cell_type": "markdown",
   "metadata": {},
   "source": [
    "Nakonec vytvoříme samotnou funkci pro event. Do parametrů nastavíme `self` a typ funkce `event`. Pro vypnutí nám vystačí jednoduchá metoda `Close()` s parametrem `True`."
   ]
  },
  {
   "cell_type": "raw",
   "metadata": {},
   "source": [
    "    def closebutton(self, event):\n",
    "        self.Close(True)"
   ]
  }
 ],
 "metadata": {
  "kernelspec": {
   "display_name": "Python 3",
   "language": "python",
   "name": "python3"
  },
  "language_info": {
   "codemirror_mode": {
    "name": "ipython",
    "version": 3
   },
   "file_extension": ".py",
   "mimetype": "text/x-python",
   "name": "python",
   "nbconvert_exporter": "python",
   "pygments_lexer": "ipython3",
   "version": "3.8.3"
  }
 },
 "nbformat": 4,
 "nbformat_minor": 4
}
