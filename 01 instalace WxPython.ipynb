{
 "cells": [
  {
   "cell_type": "markdown",
   "metadata": {},
   "source": [
    "# Instalace wxPython\n",
    "### Windows a macOS\n",
    "Instalace pomocí [pip](https://pypi.org/project/pip/)."
   ]
  },
  {
   "cell_type": "markdown",
   "metadata": {},
   "source": [
    "Pokud používáte Windows nebo macOS s již nainstalovaným Pythonem, níže uvedený příkaz v [příkazové řádce](https://wintip.cz/534-jak-spoustet-prikazovy-radek-klavesovou-zkratkou) stáhne příslušné soubory pro knihovnu `wx`, a nainstaluje je do vašeho prostředí. Nástroj pip, který při tom využijeme, by měl být obsažen při instalaci samotného Pythonu ve verzi 2.0 a vyšší."
   ]
  },
  {
   "cell_type": "raw",
   "metadata": {},
   "source": [
    "pip install wxPython"
   ]
  },
  {
   "cell_type": "markdown",
   "metadata": {},
   "source": [
    "Berte v potaz, že **Knihovna `wx` není zatím kompatibilní s pythonem 3.9** (listopad 2020)"
   ]
  },
  {
   "cell_type": "markdown",
   "metadata": {},
   "source": [
    "### Vývojová prostředí Conda nebo Anaconda\n",
    "Při práci v prostředích `Condy` nebo `Anacondy` (např. Spyder), můžete nainstalovat `wxPython` pomocí příkazu `conda install`."
   ]
  },
  {
   "cell_type": "raw",
   "metadata": {},
   "source": [
    "conda install -c anaconda wxpython"
   ]
  },
  {
   "cell_type": "markdown",
   "metadata": {},
   "source": [
    "Pokud máte nainstalovanou celou `Anacondu` ve svém počítači, můžete využít `Anaconda navigator`, kde si můžete vytvořít virtuální prostředí a v `CMD.exe Prompt` (který nainstalujete jedním kliknutím) můžete `wxpython` stáhnout pomocí zmíněného příkazu přes `pip`.    \n",
    "![Anaconda navigator](img/11.png)"
   ]
  },
  {
   "cell_type": "markdown",
   "metadata": {},
   "source": [
    "Úspěšnou instalaci `wxPython` můžete vyzkoušet zkopírováním a spuštěním následujících 5 řádků v prostředí s `Pythonem`: "
   ]
  },
  {
   "cell_type": "code",
   "execution_count": null,
   "metadata": {},
   "outputs": [],
   "source": [
    "import wx\n",
    "\n",
    "app = wx.App()\n",
    "frame = wx.Frame(parent=None, title='Hello World!')\n",
    "frame.Show()\n",
    "app.MainLoop()"
   ]
  },
  {
   "cell_type": "markdown",
   "metadata": {},
   "source": [
    "Program by vám měl spustit malé šedé okno.\n",
    "![Hello World!](img/14.png)"
   ]
  },
  {
   "cell_type": "markdown",
   "metadata": {},
   "source": [
    "Pokud se tak stane, tak jste nainstalovali `wxPython` správně. <br> Při zobrazení erroru, kdy program nerozeznává knihovnu `wx`, je důležité si zkontrolovat, zda pracujeve v prostředí, kde jste si `wxPython` stáhli a nainstalovali. <br>\n",
    "Co program specificky vytváří, si dále popíšeme v první `wx` lekci."
   ]
  },
  {
   "cell_type": "markdown",
   "metadata": {},
   "source": [
    "Odkaz na [Oficiální instalaci](https://wxpython.org/pages/downloads/index.html)"
   ]
  },
  {
   "cell_type": "markdown",
   "metadata": {},
   "source": [
    "### Závěr:\n",
    "První lekce za námi. Nyní máme `wx.Python` a `Jupyter Notebook` úspěšně nainstalovaný a spustitelný. V další lekci si projdeme *teoreticky* základy do objektově-orientovaného programování."
   ]
  }
 ],
 "metadata": {
  "kernelspec": {
   "display_name": "Python 3",
   "language": "python",
   "name": "python3"
  },
  "language_info": {
   "codemirror_mode": {
    "name": "ipython",
    "version": 3
   },
   "file_extension": ".py",
   "mimetype": "text/x-python",
   "name": "python",
   "nbconvert_exporter": "python",
   "pygments_lexer": "ipython3",
   "version": "3.8.6"
  }
 },
 "nbformat": 4,
 "nbformat_minor": 4
}
