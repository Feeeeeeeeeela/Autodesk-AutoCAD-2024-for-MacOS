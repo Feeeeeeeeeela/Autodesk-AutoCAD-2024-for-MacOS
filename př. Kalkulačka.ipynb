{
 "cells": [
  {
   "cell_type": "markdown",
   "metadata": {},
   "source": [
    "# Kalkulačka"
   ]
  },
  {
   "cell_type": "code",
   "execution_count": null,
   "metadata": {},
   "outputs": [],
   "source": [
    "import wx\n",
    "\n",
    "class MyFrame(wx.Frame):\n",
    "    def __init__(self, parent, title, size):\n",
    "        super().__init__(parent, title =title, size = size)\n",
    "        self.panel = MyPanel(self)\n",
    "        self.SetSizeHints(350, 375, 350, 500)\n",
    "\n",
    "class MyPanel(wx.Panel):\n",
    "    def __init__(self, parent):\n",
    "        super().__init__(parent)\n",
    "        self.Gui()\n",
    "\n",
    "    def Gui(self):\n",
    "        mainsizer = wx.BoxSizer(wx.VERTICAL)\n",
    "\n",
    "        self.textpanel = wx.TextCtrl(self, -1, style=wx.TE_RIGHT)\n",
    "        mainsizer.Add(self.textpanel, 0, wx.EXPAND|wx.ALL, 5)\n",
    "\n",
    "        buttons = ['7', '8', '9', '/', '4', '5', '6', '*', '1', '2', '3', '-', '.', '0', 'C', '+']\n",
    "\n",
    "        btnsizer = wx.GridSizer(4,4,10,10)\n",
    "        for label in buttons:\n",
    "            btnsizer.Add(wx.Button(self, label=label), 0, wx.EXPAND)\n",
    "            self.Bind(wx.EVT_BUTTON, self.onpress)\n",
    "        mainsizer.Add(btnsizer, 20, wx.ALIGN_CENTER)\n",
    "\n",
    "        self.SetSizer(mainsizer)\n",
    "\n",
    "        equal = wx.Button(self, label='=', size=(0,40))\n",
    "        mainsizer.Add(equal, 0, wx.EXPAND|wx.ALL, 5)\n",
    "\n",
    "        clearbtn = wx.Button(self, label='Clear', size=(0,40))\n",
    "        mainsizer.Add(clearbtn, 0, wx.EXPAND|wx.ALL, 5, )\n",
    "\n",
    "        self.SetSizer(mainsizer)\n",
    "\n",
    "    def onpress(self, event):\n",
    "        label = event.GetEventObject().GetLabel()\n",
    "        clearerror = self.textpanel.GetValue()\n",
    "\n",
    "        if clearerror == \"Error\":\n",
    "            self.textpanel.SetValue(\"\")\n",
    "\n",
    "        if label == \"Clear\":\n",
    "            self.textpanel.SetValue(\"\")\n",
    "        elif label == \"=\":\n",
    "            try:\n",
    "                rawresult = self.textpanel.GetValue()\n",
    "                result = eval(rawresult)\n",
    "                self.textpanel.SetValue(str(result))\n",
    "            except:\n",
    "                self.textpanel.SetValue(\"Error\")\n",
    "                \n",
    "        elif label == \"C\":\n",
    "            removelast = self.textpanel.GetValue()\n",
    "            removed = removelast[:-1]\n",
    "            self.textpanel.SetValue(removed)\n",
    "            \n",
    "        else:\n",
    "            self.textpanel.AppendText(label)\n",
    "\n",
    "class MyApp(wx.App):\n",
    "    def OnInit(self):\n",
    "        self.frame = MyFrame(parent=None, title=\"Kalkulačka\", size = (350, 375))\n",
    "        self.frame.Show()\n",
    "        return True\n",
    "\n",
    "app = MyApp()\n",
    "app.MainLoop()"
   ]
  },
  {
   "cell_type": "code",
   "execution_count": null,
   "metadata": {},
   "outputs": [],
   "source": []
  }
 ],
 "metadata": {
  "kernelspec": {
   "display_name": "Python 3",
   "language": "python",
   "name": "python3"
  },
  "language_info": {
   "codemirror_mode": {
    "name": "ipython",
    "version": 3
   },
   "file_extension": ".py",
   "mimetype": "text/x-python",
   "name": "python",
   "nbconvert_exporter": "python",
   "pygments_lexer": "ipython3",
   "version": "3.8.3"
  }
 },
 "nbformat": 4,
 "nbformat_minor": 4
}
