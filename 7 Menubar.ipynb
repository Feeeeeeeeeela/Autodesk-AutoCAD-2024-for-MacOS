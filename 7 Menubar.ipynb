{
 "cells": [
  {
   "cell_type": "markdown",
   "metadata": {},
   "source": [
    "# První menu\n",
    "Následujíci program je vzorový příklad pro základní funkce \"bar menu\" (lišty)."
   ]
  },
  {
   "cell_type": "markdown",
   "metadata": {},
   "source": [
    "Kód se nám tu rozrostů o celý další objekt, do kterého je lepší celé menu odděleně psát kvůli přehlednosti. <br>\n",
    "V základní `__init__` metodě jsme zapsali odkaz na využití naší nové funkce pomocí `self.Bar()`, která se musí napsat ještě před instanci pro zobrazení `self.Show()`."
   ]
  },
  {
   "cell_type": "code",
   "execution_count": 1,
   "metadata": {},
   "outputs": [],
   "source": [
    "import wx\n",
    "\n",
    "class MyFrame(wx.Frame):\n",
    "    def __init__(self):\n",
    "        super().__init__(parent=None, title='Basic menu')\n",
    "        \n",
    "        self.Bar()\n",
    "        self.Show()\n",
    "        \n",
    "    def Bar(self):\n",
    "        menubar = wx.MenuBar()\n",
    "        firstbutton = wx.Menu()\n",
    "        secondbutton = wx.Menu()\n",
    "        \n",
    "        exititem = firstbutton.Append(wx.ID_EXIT, 'exit')\n",
    "        anotheritem = firstbutton.Append(wx.ID_ANY, 'second in first')\n",
    "        anotheritem = secondbutton.Append(wx.ID_ANY, 'second in second')\n",
    "        \n",
    "        menubar.Append(firstbutton, 'File')\n",
    "        menubar.Append(secondbutton, 'Second')\n",
    "        \n",
    "        self.SetMenuBar(menubar)\n",
    "        \n",
    "        self.Bind(wx.EVT_MENU, self.closebutton, exititem)\n",
    "        \n",
    "        \n",
    "    def closebutton(self, event):\n",
    "        self.Close(True)\n",
    "        \n",
    "        \n",
    "        \n",
    "        \n",
    "        \n",
    "if __name__ == \"__main__\": \n",
    "    app = wx.App()\n",
    "    frame = MyFrame()\n",
    "    app.MainLoop()    \n",
    "    "
   ]
  },
  {
   "cell_type": "markdown",
   "metadata": {},
   "source": [
    "Na následujících třech řádcích jsme vytvořili celý základ menu. Na prvním řádku vytváříme samotný řádek (lištu) menu pomocí importované `wx` [metody](https://wxpython.org/Phoenix/docs/html/wx.MenuBar.html) `MenuBar()` a ukládáme ji do proměnné.<br> Na zbývajících řádcích jsme si podobným způsobem vytvořili 2 položky na našem menu, tentokrát pomocí [metody](https://wxpython.org/Phoenix/docs/html/wx.Menu.html) `wx.Menu()`."
   ]
  },
  {
   "cell_type": "raw",
   "metadata": {},
   "source": [
    "menubar = wx.MenuBar()\n",
    "firstbutton = wx.Menu()\n",
    "secondbutton = wx.Menu() "
   ]
  },
  {
   "cell_type": "markdown",
   "metadata": {},
   "source": [
    "Nyní si přidáme položky do naši rolovací lišty, kterou zobrazíme klikem na položky menu. <br>\n",
    "Položky si vytvoříme do proměnných a nejdříve jim nadefinujeme v jaké položce `menu` se budou zobrazovat. Přidáme je do menu pomocí metody [`Append()`](https://wxpython.org/Phoenix/docs/html/wx.Menu.html#wx.Menu.Append). <br> \n",
    "Parametry metody  jim jako první napíšeme `ID_...`, které funguje podobně jako `EVT_...` u tlačítka. Existuje mnoho `ID`, které opět najdeme v [dokumentaci](https://wxpython.org/Phoenix/docs/html/wx.StandardID.enumeration.html). My použijeme v našem kódu dvoje `ID`. Jako první `wx.ID_EXIT`, které logicky bude sloužit pro `exit`. <br> A pro ostatní tlačítka, které nemají žádný konkétní event, tak můžeme použít univerzální  `ID_ANY`. <br> \n",
    "Jako druhý parametr napíšeme zobrazovaný text ve `stringu`."
   ]
  },
  {
   "cell_type": "raw",
   "metadata": {},
   "source": [
    "exititem = firstbutton.Append(wx.ID_EXIT, 'exit')\n",
    "anotheritem = firstbutton.Append(wx.ID_ANY, 'second in first')\n",
    "anotheritem = secondbutton.Append(wx.ID_ANY, 'second in second')"
   ]
  },
  {
   "cell_type": "markdown",
   "metadata": {},
   "source": [
    "Zde děláme víceméně to stejné, co v předchozím odstavci, akorát místo přidávání položek do rolovací lišt položek `menu`, tak přidáváme na `menubar` přímo položky `menu`. Používá se znovu metoda `Append()`. Tentokrát s parametry názvu položky a zobrazovaného textu v menu."
   ]
  },
  {
   "cell_type": "markdown",
   "metadata": {},
   "source": [
    "menubar.Append(firstbutton, 'File')\n",
    "menubar.Append(secondbutton, 'Second')"
   ]
  },
  {
   "cell_type": "markdown",
   "metadata": {},
   "source": [
    "Nakonec použijeme [metodu](https://wxpython.org/Phoenix/docs/html/wx.Frame.html#wx.Frame.SetMenuBar) `SetMenuBar`, která říká `framu`, aby zobrazil danou lištu menu."
   ]
  },
  {
   "cell_type": "raw",
   "metadata": {},
   "source": [
    "self.SetMenuBar(menubar)"
   ]
  },
  {
   "cell_type": "markdown",
   "metadata": {},
   "source": [
    "V posledních řádcích použijeme již námi vytvořené tlačítko, které jsme si ukázali v minulé lekci. Metodu `Bind()` zde napíšeme úpně stejně až na formalitu v typu eventu, který přepíšeme na `wx.EVT_MENU`. "
   ]
  },
  {
   "cell_type": "raw",
   "metadata": {},
   "source": [
    "        self.Bind(wx.EVT_MENU, self.closebutton, exititem)\n",
    "        \n",
    "    def closebutton(self, event):\n",
    "        self.Close(True)"
   ]
  },
  {
   "cell_type": "code",
   "execution_count": null,
   "metadata": {},
   "outputs": [],
   "source": []
  }
 ],
 "metadata": {
  "kernelspec": {
   "display_name": "Python 3",
   "language": "python",
   "name": "python3"
  },
  "language_info": {
   "codemirror_mode": {
    "name": "ipython",
    "version": 3
   },
   "file_extension": ".py",
   "mimetype": "text/x-python",
   "name": "python",
   "nbconvert_exporter": "python",
   "pygments_lexer": "ipython3",
   "version": "3.8.3"
  }
 },
 "nbformat": 4,
 "nbformat_minor": 4
}
