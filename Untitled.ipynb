{
 "cells": [
  {
   "cell_type": "markdown",
   "metadata": {},
   "source": [
    "# test\n",
    "\n",
    "## Menší nadpis\n",
    "\n",
    "*Kurzíva*  \n",
    "\n",
    "**Tučný text**  \n",
    "\n",
    "### Seznamy:\n",
    "\n",
    "* Item 1\n",
    "* Item 2\n",
    "* Item 2a\n",
    "* Item 2b\n",
    "\n",
    "1. Item 1\n",
    "1. Item 2\n",
    "1. Item 3\n",
    "  1. Item 3a\n",
    "  1. Item 3b\n",
    "\n",
    "## Obrázky\n",
    "\n",
    "![Hello world!](img/41.png)\n",
    "\n",
    "## Odkazy\n",
    "\n",
    "[odkaz](https://nbviewer.jupyter.org/github/Feeeeeeeeeela/WxTutorial/blob/master/Main.ipynb).\n",
    "\n",
    "## Poznámky\n",
    "\n",
    "> Markdown is a lightweight markup language with plain-text-formatting syntax, created in 2004 by John Gruber with Aaron Swartz.\n",
    ">\n",
    ">> Markdown is often used to format readme files, for writing messages in online discussion forums, and to create rich text using a plain text editor.\n",
    "\n",
    "## Tabulky\n",
    "\n",
    "| Levá  | Pravá |\n",
    "| ------------- |:-------------:|\n",
    "| 1      | :)     |\n",
    "| 2      | :-)     |\n",
    "| 3      | :--)     |\n",
    "\n",
    "## Psaní kódu\n",
    "`import wx`\n",
    "\n",
    "### blok kódu\n",
    "```\n",
    "def pěknáfunkce(event, self):\n",
    "    self.Close(True)"
   ]
  },
  {
   "cell_type": "code",
   "execution_count": null,
   "metadata": {},
   "outputs": [],
   "source": [
    "name = str(input(\"Zadej své jméno \\n\"))"
   ]
  },
  {
   "cell_type": "markdown",
   "metadata": {},
   "source": [
    "# Poznámky\n",
    "text <br>\n",
    "text <br>\n",
    "text <br>\n",
    "text <br>"
   ]
  },
  {
   "cell_type": "code",
   "execution_count": null,
   "metadata": {},
   "outputs": [],
   "source": [
    "print(f\"Čau {name}\")"
   ]
  },
  {
   "cell_type": "code",
   "execution_count": null,
   "metadata": {},
   "outputs": [],
   "source": []
  }
 ],
 "metadata": {
  "kernelspec": {
   "display_name": "Python 3",
   "language": "python",
   "name": "python3"
  },
  "language_info": {
   "codemirror_mode": {
    "name": "ipython",
    "version": 3
   },
   "file_extension": ".py",
   "mimetype": "text/x-python",
   "name": "python",
   "nbconvert_exporter": "python",
   "pygments_lexer": "ipython3",
   "version": "3.8.6"
  }
 },
 "nbformat": 4,
 "nbformat_minor": 4
}
