{
 "cells": [
  {
   "cell_type": "markdown",
   "metadata": {},
   "source": [
    "### Komplikovanější zapsání\n",
    "Pro plné využití potenciálu `wx`, musíme kód přepsat tak, aby samotný rám `wx.Frame` měl vlastní `subclassu`. Program zobrazí úplně stejné okno jako předtím, ale samotný kód je nejenže přehlednější, ale dá se zároveň s ním lépe pracovat pro další úpravy."
   ]
  },
  {
   "cell_type": "code",
   "execution_count": 1,
   "metadata": {},
   "outputs": [],
   "source": [
    "import wx\n",
    "\n",
    "class MyFrame(wx.Frame):    \n",
    "    def __init__(self):\n",
    "        super().__init__(parent=None, title='Hello World')\n",
    "        self.Show()\n",
    "\n",
    "if __name__ == \"__main__\": \n",
    "    app = wx.App()\n",
    "    frame = MyFrame()\n",
    "    app.MainLoop()\n"
   ]
  },
  {
   "cell_type": "markdown",
   "metadata": {},
   "source": [
    "Inicializační metoda třídy `__init__` zajišťuje, abychom nemuseli při každé nové deklaraci vytvářet datové atributy ručně.\n",
    "Takhle se vyhneme errorům kvůli nedeklarovaným datovým hodnotám."
   ]
  },
  {
   "cell_type": "markdown",
   "metadata": {},
   "source": [
    "V kódu je využita funkce `super()`, která nám umožňuje se vyhnout výslovnému názvu třídy a zároveň umožňuje práci s více dědičnostmi."
   ]
  },
  {
   "cell_type": "markdown",
   "metadata": {},
   "source": [
    "Objevuje se zde i podmínka `if __name__ == \"__main__\":` je další zajimávou užitečnou úpravou, která funguje způsobem: <br>\n",
    "```if __name__ == \"__main__\": \n",
    "    print \"Provede se při přímém vyvolání\"\n",
    "else: \n",
    "    print \"Provede se při importu\"``` <br>\n",
    "Takže kód v téhle podmínce bloku bude spuštěn, pouze pokud je tento modul vstupním bodem do vašeho programu."
   ]
  },
  {
   "cell_type": "code",
   "execution_count": null,
   "metadata": {},
   "outputs": [],
   "source": []
  }
 ],
 "metadata": {
  "kernelspec": {
   "display_name": "Python 3",
   "language": "python",
   "name": "python3"
  },
  "language_info": {
   "codemirror_mode": {
    "name": "ipython",
    "version": 3
   },
   "file_extension": ".py",
   "mimetype": "text/x-python",
   "name": "python",
   "nbconvert_exporter": "python",
   "pygments_lexer": "ipython3",
   "version": "3.8.3"
  }
 },
 "nbformat": 4,
 "nbformat_minor": 4
}
