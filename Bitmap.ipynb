{
 "cells": [
  {
   "cell_type": "markdown",
   "metadata": {},
   "source": [
    "# [Bitmapa](https://wxpython.org/Phoenix/docs/html/wx.Bitmap.html)\n",
    "Jedná se o způsob zobrazení [rastrového](https://cs.wikipedia.org/wiki/Rastrov%C3%A1_grafika) obrázku.\n",
    "### [Wx.Icon:](https://wxpython.org/Phoenix/docs/html/wx.Icon.html)\n",
    "Ve `wx` se nejčastěji využívá ke změně ikonky hlavního framu.       \n",
    "![bez bitmapy](img/bitmap1.png)"
   ]
  },
  {
   "cell_type": "markdown",
   "metadata": {},
   "source": [
    "Daný obrázek pro ikonku musí být ve správném formátu (jpg nebo png fungují bez problémů) a veliký maximálně 16x16bitů.      \n",
    "příklad ikonky:     \n",
    "![python logo](img/bitlogo.png)      \n",
    "Příklad kódu:"
   ]
  },
  {
   "cell_type": "code",
   "execution_count": null,
   "metadata": {},
   "outputs": [],
   "source": [
    "import wx\n",
    "\n",
    "class MyFrame(wx.Frame):\n",
    "    def __init__(self, parent, title, size):\n",
    "        super().__init__(parent, title =title, size = size)\n",
    "        \n",
    "        icon = wx.Icon(\"img/bitlogo.png\", wx.BITMAP_TYPE_PNG)\n",
    "        self.SetIcon(icon)\n",
    "\n",
    "\n",
    "\n",
    "class MyApp(wx.App):\n",
    "    def OnInit(self):\n",
    "        self.frame = MyFrame(parent=None, title=\"S Ikonkou\", size = (300,300))\n",
    "        self.frame.Show()\n",
    "        return True\n",
    "\n",
    "if __name__ == \"__main__\":\n",
    "    app=MyApp()\n",
    "    app.MainLoop()"
   ]
  },
  {
   "cell_type": "markdown",
   "metadata": {},
   "source": [
    "Output:\n",
    "![Output](img/bitmap2.png)"
   ]
  },
  {
   "cell_type": "markdown",
   "metadata": {},
   "source": [
    "Popsané parametry widgetu najdeme [zde](https://nbviewer.jupyter.org/github/Feeeeeeeeeela/WxTutorial/blob/master/Z%C3%A1kladn%C3%AD%20widgety.ipynb#Icon:). Ikonku spustíme pomocí metody `SetIcon`. "
   ]
  }
 ],
 "metadata": {
  "kernelspec": {
   "display_name": "Python 3",
   "language": "python",
   "name": "python3"
  },
  "language_info": {
   "codemirror_mode": {
    "name": "ipython",
    "version": 3
   },
   "file_extension": ".py",
   "mimetype": "text/x-python",
   "name": "python",
   "nbconvert_exporter": "python",
   "pygments_lexer": "ipython3",
   "version": "3.8.6"
  }
 },
 "nbformat": 4,
 "nbformat_minor": 4
}
