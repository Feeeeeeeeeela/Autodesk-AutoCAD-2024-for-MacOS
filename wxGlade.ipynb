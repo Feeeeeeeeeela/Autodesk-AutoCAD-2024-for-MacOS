{
 "cells": [
  {
   "cell_type": "markdown",
   "metadata": {},
   "source": [
    "# wxGlade"
   ]
  },
  {
   "cell_type": "markdown",
   "metadata": {},
   "source": [
    "wxGlade je aplikace s grafickým rozhraním napsaný v Pythonu pro sadu nástrojů wxPython , která vám pomůže vytvářet grafické uživatelské rozhraní wxWidgets/wxPython. Může generovat kód do Pythonu, C ++, Perl, Lisp a XRC."
   ]
  },
  {
   "cell_type": "markdown",
   "metadata": {},
   "source": [
    "### Instalace\n",
    "Z [oficiálních stránek](http://wxglade.sourceforge.net/) přejdeme na stránku [sourceforge](https://sourceforge.net/projects/wxglade/files/wxglade/1.0.0/) odkud stáhneme `ZIP`. <br>\n",
    "`ZIP` extrahujeme a ve složce najdeme `wxglade.pyw`, který spustíme."
   ]
  },
  {
   "cell_type": "code",
   "execution_count": null,
   "metadata": {},
   "outputs": [],
   "source": []
  }
 ],
 "metadata": {
  "kernelspec": {
   "display_name": "Python 3",
   "language": "python",
   "name": "python3"
  },
  "language_info": {
   "codemirror_mode": {
    "name": "ipython",
    "version": 3
   },
   "file_extension": ".py",
   "mimetype": "text/x-python",
   "name": "python",
   "nbconvert_exporter": "python",
   "pygments_lexer": "ipython3",
   "version": "3.7.9"
  }
 },
 "nbformat": 4,
 "nbformat_minor": 4
}
