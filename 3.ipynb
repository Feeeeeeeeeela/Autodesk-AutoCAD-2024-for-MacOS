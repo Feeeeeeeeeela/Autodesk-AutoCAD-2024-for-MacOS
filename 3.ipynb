{
 "cells": [
  {
   "cell_type": "markdown",
   "metadata": {},
   "source": [
    "### Tlačítko na panelu\n",
    "Nyní si vyzkoušíme vytvořit tlačítko, aby mělo nějakou užitečnou funkci tak vytvoříme tzv. exitbutton."
   ]
  },
  {
   "cell_type": "code",
   "execution_count": 4,
   "metadata": {},
   "outputs": [],
   "source": [
    "import wx\n",
    "\n",
    "class MyFrame(wx.Frame):    \n",
    "    def __init__(self):\n",
    "        super().__init__(parent=None, title='First button')\n",
    "        self.Show()\n",
    "        \n",
    "        panel = wx.Panel(self, size=(80,80))\n",
    "        button = wx.Button(panel, label=\"exit\", size=(60,60))\n",
    "        self.Bind(wx.EVT_BUTTON, self.closebutton, button)\n",
    "        \n",
    "    def closebutton(self, event):\n",
    "        self.Close(True)\n",
    "    \n",
    "\n",
    "if __name__ == \"__main__\": \n",
    "    app = wx.App()\n",
    "    frame = MyFrame()\n",
    "    app.MainLoop()\n"
   ]
  },
  {
   "cell_type": "markdown",
   "metadata": {},
   "source": [
    "Jako první si musíme vytvořit panel, na který se ukládají ovládací prvky (není sice to nutné, ale panel se lépe organizuje).\n",
    "Dále si vytvoříme samotné tlačítko, které umístíme na panel. Tlačítko samo o sobě nic neumí a proto mu na dalším řádku přiřadíme 'event'."
   ]
  },
  {
   "cell_type": "markdown",
   "metadata": {},
   "source": [
    "K tomuhle nám pomůže funkce Bind(), která nám \"váže\" tlačítko s eventem. V parametrech nastavíme `wx.EVT_BUTTON`, který spustí event při kliknutí tlačítka, dále nastavíme samotnou funkci tlačítka `self.closebutton`a nakonec o jaké tlačítko se jedná`button`."
   ]
  },
  {
   "cell_type": "markdown",
   "metadata": {},
   "source": [
    "Nakonec vytvoříme samotnou funkci pro event. Do parametrů nastavíme `self` a `event` a funkci pro ukončení s hodnotou `True`."
   ]
  },
  {
   "cell_type": "code",
   "execution_count": null,
   "metadata": {},
   "outputs": [],
   "source": []
  }
 ],
 "metadata": {
  "kernelspec": {
   "display_name": "Python 3",
   "language": "python",
   "name": "python3"
  },
  "language_info": {
   "codemirror_mode": {
    "name": "ipython",
    "version": 3
   },
   "file_extension": ".py",
   "mimetype": "text/x-python",
   "name": "python",
   "nbconvert_exporter": "python",
   "pygments_lexer": "ipython3",
   "version": "3.8.3"
  }
 },
 "nbformat": 4,
 "nbformat_minor": 4
}
