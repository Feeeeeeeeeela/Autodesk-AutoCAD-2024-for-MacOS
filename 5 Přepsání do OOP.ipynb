{
 "cells": [
  {
   "cell_type": "markdown",
   "metadata": {},
   "source": [
    "### Komplikovanější zapsání\n",
    "Pro plné využití potenciálu `wx`, musíme kód přepsat do OOP, tak abychom vytvořili pro náš frame samostatnou třídu. Program zobrazí úplně stejné okno jako předtím, ale samotný kód je napsán objektově."
   ]
  },
  {
   "cell_type": "code",
   "execution_count": null,
   "metadata": {},
   "outputs": [],
   "source": [
    "import wx\n",
    "\n",
    "class MyFrame(wx.Frame):    \n",
    "    def __init__(self):\n",
    "        super().__init__(parent=None, title='Hello World')\n",
    "        self.Show()\n",
    "\n",
    "if __name__ == \"__main__\": \n",
    "    app = wx.App()\n",
    "    frame = MyFrame()\n",
    "    app.MainLoop()"
   ]
  },
  {
   "cell_type": "markdown",
   "metadata": {},
   "source": [
    "Jako první si nazveme naši třídu pro náš `frame`. Náše třída `frame` pro nás bude fungovat jako tzv. [rodičovská](https://cs.wikipedia.org/wiki/D%C4%9Bdi%C4%8Dnost_(objektov%C4%9B_orientovan%C3%A9_programov%C3%A1n%C3%AD)) komponenta (rodičovská znamená, že subjekt nedědí z žádného z našich vytvořených subjektů), do které budeme v budoucnu vkládat další objekty.  V parametru třídy budeme dědit z naimportované třídy `wx.Frame`.  <br>\n",
    "Dále provedeme standartně inicializační metodu třídy `__init__` s parametrem `self`. "
   ]
  },
  {
   "cell_type": "markdown",
   "metadata": {},
   "source": [
    "Dále kvůli dědění využijeme funkci `super()`, která nám vytáhne atributy děděné třídy `wx.Frame`. Všechny atributy `wx.Frame` můžete najít v [oficiální dokumentaci `wx`](https://wxpython.org/Phoenix/docs/html/wx.Frame.html#wx.Frame.__init__). Nám však budou pouze stačit parametry `parent=None`, který nastavujeme, že objekt nebude mít žádné rodiče a `title`."
   ]
  },
  {
   "cell_type": "markdown",
   "metadata": {},
   "source": [
    "Nakonec napíšeme podmínky  `if __name__ == \"__main__\":` naše nutné instance pro spuštění okna. Podmínka funguje způsobem: \n",
    "Takže kód v téhle podmínce bloku bude spuštěn, pouze pokud je tento modul vstupním bodem do vašeho programu."
   ]
  },
  {
   "cell_type": "raw",
   "metadata": {},
   "source": [
    "if __name__ == \"__main__\": \n",
    "    print \"Provede se při přímém vyvolání\"\n",
    "else: \n",
    "    print \"Provede se při importu\""
   ]
  },
  {
   "cell_type": "markdown",
   "metadata": {},
   "source": [
    "Takže kód v téhle podmínce bloku bude spuštěn, pouze pokud je tento modul vstupním bodem do vašeho programu."
   ]
  },
  {
   "cell_type": "markdown",
   "metadata": {},
   "source": [
    "Zatím nám bude zmíněný zápis pro pár lekcí stačit. V pokročilejších programech je potom praktičtější vytvořit pro instanci `wx.App` vlastní třídu."
   ]
  },
  {
   "cell_type": "markdown",
   "metadata": {},
   "source": [
    "### Velikost a pozice framu\n",
    "Velikost můžeme upravovat 2 způsoby. Buď přímo jako parametr našeho objektu/framu nebo funkcí `SetSize()`."
   ]
  },
  {
   "cell_type": "code",
   "execution_count": null,
   "metadata": {},
   "outputs": [],
   "source": [
    "import wx\n",
    "\n",
    "class MyFrame(wx.Frame):    \n",
    "    def __init__(self):\n",
    "        super().__init__(parent=None, title='Hello World', size=(400,600))\n",
    "        self.Show()\n",
    "\n",
    "if __name__ == \"__main__\": \n",
    "    app = wx.App()\n",
    "    frame = MyFrame()\n",
    "    app.MainLoop()"
   ]
  },
  {
   "cell_type": "markdown",
   "metadata": {},
   "source": [
    "V téhle aplikaci jsme nastavovali size parametr přímo objektu/framu na šířku 400px a výšku 60px."
   ]
  },
  {
   "cell_type": "markdown",
   "metadata": {},
   "source": [
    "Podobně můžeme i nastavit pozicování našeho okna na obrazovce. Ve výchozím stavu se okno většinou otevře v levé horní části obrazovky (někdy to může změnit operační systém nebo správce oken atd.). Existuje vícero způsobů, jak nastavit pozici. V dalším příkladě je použita funkce `Move(x,y)` ve které přímo nastavíme pozici pomocí pixelů."
   ]
  },
  {
   "cell_type": "code",
   "execution_count": null,
   "metadata": {},
   "outputs": [],
   "source": [
    "import wx\n",
    "\n",
    "class MyFrame(wx.Frame):    \n",
    "    def __init__(self):\n",
    "        super().__init__(parent=None, title='Hello World')\n",
    "        self.Show()\n",
    "        \n",
    "        self.Move(1000,500)\n",
    "\n",
    "if __name__ == \"__main__\": \n",
    "    app = wx.App()\n",
    "    frame = MyFrame()\n",
    "    app.MainLoop()"
   ]
  },
  {
   "cell_type": "markdown",
   "metadata": {},
   "source": [
    "Pokud chceme naši aplikaci vycentrovat na obrazovku, má `wxPython` šikovnou metodu `Center()`, která jednoduše vycentruje okno na obrazovce. Není třeba počítat šířku ani výšku obrazovky."
   ]
  },
  {
   "cell_type": "code",
   "execution_count": null,
   "metadata": {},
   "outputs": [],
   "source": [
    "import wx\n",
    "\n",
    "class MyFrame(wx.Frame):    \n",
    "    def __init__(self):\n",
    "        super().__init__(parent=None, title='Hello World')\n",
    "        self.Show()\n",
    "        \n",
    "        self.Centre()\n",
    "\n",
    "if __name__ == \"__main__\": \n",
    "    app = wx.App()\n",
    "    frame = MyFrame()\n",
    "    app.MainLoop()"
   ]
  }
 ],
 "metadata": {
  "kernelspec": {
   "display_name": "Python 3",
   "language": "python",
   "name": "python3"
  },
  "language_info": {
   "codemirror_mode": {
    "name": "ipython",
    "version": 3
   },
   "file_extension": ".py",
   "mimetype": "text/x-python",
   "name": "python",
   "nbconvert_exporter": "python",
   "pygments_lexer": "ipython3",
   "version": "3.8.6"
  }
 },
 "nbformat": 4,
 "nbformat_minor": 4
}
