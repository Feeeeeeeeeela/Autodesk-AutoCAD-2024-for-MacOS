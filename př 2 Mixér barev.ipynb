{
 "cells": [
  {
   "cell_type": "markdown",
   "metadata": {},
   "source": [
    "# Mixér barev"
   ]
  },
  {
   "cell_type": "code",
   "execution_count": null,
   "metadata": {},
   "outputs": [],
   "source": [
    "import wx\n",
    "\n",
    "class MyFrame(wx.Frame):\n",
    "    def __init__(self, parent, title, size):\n",
    "        super().__init__(parent, title =title, size = size)\n",
    "        self.panel = MyPanel(self)\n",
    "        self.SetSizeHints(300,200, 300,200)\n",
    "\n",
    "class MyPanel(wx.Panel):\n",
    "    def __init__(self, parent):\n",
    "        super().__init__(parent)\n",
    "        self.Gui()\n",
    "\n",
    "    def Gui(self):\n",
    "        mainsizer = wx.BoxSizer(wx.VERTICAL)\n",
    "        sidesizer = wx.BoxSizer(wx.HORIZONTAL)\n",
    "\n",
    "        self.first = wx.SpinCtrl(self, -1, \"\", size=(100,20))\n",
    "        self.first.SetRange(1, 255)\n",
    "        self.first.SetValue(1)\n",
    "\n",
    "        self.second = wx.SpinCtrl(self, -1, \"\", size=(100,20))\n",
    "        self.second.SetRange(1, 255)\n",
    "        self.second.SetValue(1)\n",
    "\n",
    "        self.third = wx.SpinCtrl(self, -1, \"\", size=(100,20))\n",
    "        self.third.SetRange(1, 255)\n",
    "        self.third.SetValue(1)\n",
    "\n",
    "        sidesizer.Add(self.first, wx.ALL, 5)\n",
    "        sidesizer.Add(self.second, wx.ALL, 5)\n",
    "        sidesizer.Add(self.third, wx.ALL, 5)\n",
    "\n",
    "        self.cpnl  = wx.Panel(self, size=(300, 110))\n",
    "        self.cpnl.SetBackgroundColour(\"black\")\n",
    "\n",
    "        self.btn = wx.Button(self, label='Change Color', size=(300,20))\n",
    "\n",
    "        mainsizer.Add(sidesizer)\n",
    "        mainsizer.Add(self.cpnl)\n",
    "        mainsizer.Add(self.btn, wx.ALIGN_CENTER)\n",
    "        self.SetSizer(mainsizer)\n",
    "\n",
    "class MyApp(wx.App):\n",
    "    def OnInit(self):\n",
    "        self.frame = MyFrame(parent=None, title=\"Color mixer\", size = (300,200))\n",
    "        self.frame.Show()\n",
    "        return True\n",
    "\n",
    "app = MyApp()\n",
    "app.MainLoop()"
   ]
  }
 ],
 "metadata": {
  "kernelspec": {
   "display_name": "Python 3",
   "language": "python",
   "name": "python3"
  },
  "language_info": {
   "codemirror_mode": {
    "name": "ipython",
    "version": 3
   },
   "file_extension": ".py",
   "mimetype": "text/x-python",
   "name": "python",
   "nbconvert_exporter": "python",
   "pygments_lexer": "ipython3",
   "version": "3.7.9"
  }
 },
 "nbformat": 4,
 "nbformat_minor": 4
}
