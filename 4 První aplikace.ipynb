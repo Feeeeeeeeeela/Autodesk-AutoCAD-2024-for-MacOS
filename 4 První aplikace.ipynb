{
 "cells": [
  {
   "cell_type": "markdown",
   "metadata": {},
   "source": [
    "# První program\n",
    "\n",
    "Začneme s [nejjednodušší aplikaci](https://wxpython.org/pages/overview/#hello-world) Hello World ve `wx`.\n",
    "Program toho moc neudělá, jen zobrazí malé okno. Jedná se hlavně o pokus, zda jsme `wxPython` nainstalovali správně."
   ]
  },
  {
   "cell_type": "code",
   "execution_count": null,
   "metadata": {
    "scrolled": true
   },
   "outputs": [],
   "source": [
    "import wx\n",
    "\n",
    "app = wx.App()\n",
    "frame = wx.Frame(parent=None, title='Hello World!')\n",
    "frame.Show()\n",
    "app.MainLoop()"
   ]
  },
  {
   "cell_type": "markdown",
   "metadata": {},
   "source": [
    "Output: <br>![Hello world!](img/helloworld_screen.png) <br>"
   ]
  },
  {
   "cell_type": "raw",
   "metadata": {},
   "source": [
    "import wx"
   ]
  },
  {
   "cell_type": "markdown",
   "metadata": {},
   "source": [
    "Tenhle řádek [importuje knihovnu](https://www.itnetwork.cz/python/zaklady/python-tutorial-knihovny-math-a-random)\n",
    "`wxPython`, která nám zpřístupní všechny potřebné funkce pro práci. Veškeré funkce knihovny se volají její předponou `wx`."
   ]
  },
  {
   "cell_type": "raw",
   "metadata": {},
   "source": [
    "app = wx.App()"
   ]
  },
  {
   "cell_type": "markdown",
   "metadata": {},
   "source": [
    "Zde vytvoříme \"základní kámen\" celé knihovny. Jedná se o instanci\n",
    "aplikace. Každá aplikace, která využívá knihovnu `wx` musí mít alespoň jednu instanci [wx.App](https://wxpython.org/Phoenix/docs/html/wx.App.html)\n",
    ", aby bylo zajištěno, že byla plně inicializována platforma gui a `wxWidgets`. Instanci ukládáme do proměnné `app`, abychom ji mohli na konci programu spustit."
   ]
  },
  {
   "cell_type": "raw",
   "metadata": {},
   "source": [
    "frame = wx.Frame(parent=None, title='Hello World')\n",
    "frame.Show()"
   ]
  },
  {
   "cell_type": "markdown",
   "metadata": {},
   "source": [
    "Zde jsme vytvořili a zobrazili základní objekt \"okno\" ([frame/rám](https://wxpython.org/Phoenix/docs/html/wx.Frame.html#methods)), do kterého budem vykreslovat další komponenty. [Parametr](https://www.tutorialspoint.com/wxpython/wx_frame_class.htm) `wx.Frame` jsme nastavili na `parent=None`, protože náš `frame` nám bude sloužit jako rodičovská komponenta, která není závislá na dalších objektech (rodičích). Dále nastavíme zobrazovaný název v parametru `title`.<br> Celou komponentu `wx.Frame` uložíme do proměnné `frame`, kterou pak zobrazíme funkcí `Show()`, abychom okno zobrazili. "
   ]
  },
  {
   "cell_type": "raw",
   "metadata": {},
   "source": [
    "app.MainLoop()"
   ]
  },
  {
   "cell_type": "markdown",
   "metadata": {},
   "source": [
    "A nakonec již zmíněnou instanci `wx.App` v proměnné `app` na posledním řádku dáme do funkce `MainLoop()`. [Funkce](https://wxpython.org/Phoenix/docs/html/wx.App.html#wx.App.MainLoop)\n",
    "vytváří pro aplikaci nekonečnoiu smyčku, která zachytává všechny události a předává je aplikaci."
   ]
  }
 ],
 "metadata": {
  "kernelspec": {
   "display_name": "Python 3",
   "language": "python",
   "name": "python3"
  },
  "language_info": {
   "codemirror_mode": {
    "name": "ipython",
    "version": 3
   },
   "file_extension": ".py",
   "mimetype": "text/x-python",
   "name": "python",
   "nbconvert_exporter": "python",
   "pygments_lexer": "ipython3",
   "version": "3.7.9"
  }
 },
 "nbformat": 4,
 "nbformat_minor": 4
}
