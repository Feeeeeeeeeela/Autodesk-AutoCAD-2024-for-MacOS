{
 "cells": [
  {
   "cell_type": "markdown",
   "metadata": {},
   "source": [
    "# wxGlade"
   ]
  },
  {
   "cell_type": "markdown",
   "metadata": {},
   "source": [
    "wxGlade je aplikace s grafickým rozhraním napsaný v Pythonu pro sadu nástrojů wxPython , která vám pomůže vytvářet grafické uživatelské rozhraní wxWidgets/wxPython. Může generovat kód do Pythonu, C ++, Perl, Lisp a XRC."
   ]
  },
  {
   "cell_type": "markdown",
   "metadata": {},
   "source": [
    "### Instalace\n",
    "Z [oficiálních stránek](http://wxglade.sourceforge.net/) přejdeme na stránku [sourceforge](https://sourceforge.net/projects/wxglade/files/wxglade/1.0.0/) odkud stáhneme `ZIP`. <br>\n",
    "`ZIP` extrahujeme a ve hlavní složce najdeme `wxglade.py`, který spustíme jako jakkoliv pythonovský soubor."
   ]
  },
  {
   "cell_type": "markdown",
   "metadata": {},
   "source": [
    "Po spuštění se zobrazí základní GUI programu:"
   ]
  },
  {
   "cell_type": "markdown",
   "metadata": {},
   "source": [
    "![WxGlade](img/wxglade_screen.png)"
   ]
  },
  {
   "cell_type": "markdown",
   "metadata": {},
   "source": [
    "V levé části je všechno potřebné objekty a nastavení pro vytvoření aplikace. Napravo je naše místo pro vytváření aplikace."
   ]
  },
  {
   "cell_type": "markdown",
   "metadata": {},
   "source": [
    "Práce s `wxGlade` je velmi jednoduchá a je tzv. \"blbůmvzdorná\". Přístup uživatele je ověřený a bude vám hlásit úplně všechny chyby. Kdyby jste měli problém se základní práci s `wxGlade` doporučuji shlédnout nějaký [tutorial](https://www.youtube.com/watch?v=fiiKtu9knpA)."
   ]
  },
  {
   "cell_type": "markdown",
   "metadata": {},
   "source": [
    "Pro názornou ukázku si úkážeme v příští lekci přetvořit mixér barev."
   ]
  }
 ],
 "metadata": {
  "kernelspec": {
   "display_name": "Python 3",
   "language": "python",
   "name": "python3"
  },
  "language_info": {
   "codemirror_mode": {
    "name": "ipython",
    "version": 3
   },
   "file_extension": ".py",
   "mimetype": "text/x-python",
   "name": "python",
   "nbconvert_exporter": "python",
   "pygments_lexer": "ipython3",
   "version": "3.8.6"
  }
 },
 "nbformat": 4,
 "nbformat_minor": 4
}
