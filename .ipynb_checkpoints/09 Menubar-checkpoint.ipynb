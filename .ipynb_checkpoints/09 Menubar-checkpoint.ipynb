{
 "cells": [
  {
   "cell_type": "markdown",
   "metadata": {},
   "source": [
    "# První menu\n",
    "Následujíci program je vzorový příklad pro základní položky lišty."
   ]
  },
  {
   "cell_type": "markdown",
   "metadata": {},
   "source": [
    "Kód se rozrostl o celý další objekt obsahující prvky lištu. Kvůli přehlednosti jsme pro lištu vytvořili nový objekt.<br>\n",
    "Nový objekt budeme spouštět v základní metodě `__init__`, kde vyvoláme nový objekt `self.Bar()` (podobně jako u funkce, ale s atributem `self`).<br> Vyvolání objektu musíme zapsat ještě před instancí pro zobrazení `self.Show()`."
   ]
  },
  {
   "cell_type": "code",
   "execution_count": 1,
   "metadata": {},
   "outputs": [],
   "source": [
    "import wx\n",
    "\n",
    "class MyFrame(wx.Frame):\n",
    "    def __init__(self):\n",
    "        super().__init__(parent=None, title='Basic menu')\n",
    "        \n",
    "        self.Bar()\n",
    "        self.Show()\n",
    "        \n",
    "    def Bar(self):\n",
    "        menubar = wx.MenuBar()\n",
    "        firstbutton = wx.Menu()\n",
    "        secondbutton = wx.Menu()\n",
    "        \n",
    "        exititem = firstbutton.Append(wx.ID_EXIT, 'exit')\n",
    "        anotheritem = firstbutton.Append(wx.ID_ANY, 'second in first')\n",
    "        anotheritem = secondbutton.Append(wx.ID_ANY, 'first in second')\n",
    "        \n",
    "        menubar.Append(firstbutton, 'File')\n",
    "        menubar.Append(secondbutton, 'Second')\n",
    "        \n",
    "        self.SetMenuBar(menubar)\n",
    "        \n",
    "        self.Bind(wx.EVT_MENU, self.closebutton, exititem)\n",
    "        \n",
    "        \n",
    "    def closebutton(self, event):\n",
    "        self.Close(True)\n",
    "        \n",
    "        \n",
    "        \n",
    "if __name__ == \"__main__\": \n",
    "    app = wx.App()\n",
    "    frame = MyFrame()\n",
    "    app.MainLoop()    "
   ]
  },
  {
   "cell_type": "markdown",
   "metadata": {},
   "source": [
    "Output:    \n",
    "![Output](img/91.png)"
   ]
  },
  {
   "cell_type": "markdown",
   "metadata": {},
   "source": [
    "Na následujících třech řádcích jsme vytvořili celý základ menu. <br>\n",
    "Prvním řádkem vytvoříme samotnu lištu menu pomocí [`wx.MenuBar()`](https://wxpython.org/Phoenix/docs/html/wx.MenuBar.html) a uložíme ji do proměnné.<br> Poté vytvoříme 2 položky (itemy) našeho menu pomocí [`wx.Menu()`](https://wxpython.org/Phoenix/docs/html/wx.Menu.html)."
   ]
  },
  {
   "cell_type": "raw",
   "metadata": {},
   "source": [
    "menubar = wx.MenuBar()\n",
    "firstbutton = wx.Menu()\n",
    "secondbutton = wx.Menu() "
   ]
  },
  {
   "cell_type": "markdown",
   "metadata": {},
   "source": [
    "Lišta:\n",
    "![lišta](img/94.png)"
   ]
  },
  {
   "cell_type": "markdown",
   "metadata": {},
   "source": [
    "Nyní si přidáme položky do tzv. rolovací lišty, kterou zobrazíme kliknutím na položky menu. <br>\n",
    "Samotné položky si vytvoříme do proměnných. Přidáme je do položek menu pomocí metody [`Append()`](https://wxpython.org/Phoenix/docs/html/wx.Menu.html#wx.Menu.Append). <br> \n",
    "Prvním parametrem je tzv. `ID_...`, které funguje podobně jako `EVT_...` u tlačítka.\n",
    "Existuje mnoho typů `ID`, které najdeme v [dokumentaci](https://wxpython.org/Phoenix/docs/html/wx.StandardID.enumeration.html).\n",
    "My použijeme v kódu dva typy `ID`. `wx.ID_EXIT`, které logicky bude sloužit pro `exit`. <br> Pro ostatní tlačítka, které nemají žádný konkétní event, využívejeme univerzální `ID_ANY`. <br> \n",
    "Jako druhý parametr napíšeme zobrazovaný text položky."
   ]
  },
  {
   "cell_type": "raw",
   "metadata": {},
   "source": [
    "exititem = firstbutton.Append(wx.ID_EXIT, 'exit')\n",
    "anotheritem = firstbutton.Append(wx.ID_ANY, 'second in first')\n",
    "anotheritem = secondbutton.Append(wx.ID_ANY, 'second in second')"
   ]
  },
  {
   "cell_type": "markdown",
   "metadata": {},
   "source": [
    "První | Druhý\n",
    "- | - \n",
    "![firstbutton](img/92.png) | ![secondbutton](img/93.png) "
   ]
  },
  {
   "cell_type": "markdown",
   "metadata": {},
   "source": [
    "Nyní opět využíjeme metodu `Append()` k přidání samotných položek lišty na `menubar`. Tentokrát s parametry názvu položky a zobrazovaného textu v menu."
   ]
  },
  {
   "cell_type": "raw",
   "metadata": {},
   "source": [
    "menubar.Append(firstbutton, 'File')\n",
    "menubar.Append(secondbutton, 'Second')"
   ]
  },
  {
   "cell_type": "markdown",
   "metadata": {},
   "source": [
    "Nakonec použijeme metodu [`SetMenuBar`()](https://wxpython.org/Phoenix/docs/html/wx.Frame.html#wx.Frame.SetMenuBar), která říká `framu`, aby zobrazil danou lištu menu."
   ]
  },
  {
   "cell_type": "raw",
   "metadata": {},
   "source": [
    "self.SetMenuBar(menubar)"
   ]
  },
  {
   "cell_type": "markdown",
   "metadata": {},
   "source": [
    "V posledních řádcích použijeme námi vytvořené tlačítko, které jsme si již ukázali v minulé lekci. Metodu `Bind()` zde napíšeme stejně až na formalitu v paremetech typu eventu, který přepíšeme na `wx.EVT_MENU`. "
   ]
  },
  {
   "cell_type": "raw",
   "metadata": {},
   "source": [
    "        self.Bind(wx.EVT_MENU, self.closebutton, exititem)\n",
    "        \n",
    "    def closebutton(self, event):\n",
    "        self.Close(True)"
   ]
  },
  {
   "cell_type": "markdown",
   "metadata": {},
   "source": [
    "### Závěr:\n",
    "Naučili jsme se syntaxi pro lištu framu. V příští lekci si přepíšeme kód pro instanci `wx.App`, aby se nacházela ve vlastní třídě."
   ]
  }
 ],
 "metadata": {
  "kernelspec": {
   "display_name": "Python 3",
   "language": "python",
   "name": "python3"
  },
  "language_info": {
   "codemirror_mode": {
    "name": "ipython",
    "version": 3
   },
   "file_extension": ".py",
   "mimetype": "text/x-python",
   "name": "python",
   "nbconvert_exporter": "python",
   "pygments_lexer": "ipython3",
   "version": "3.8.6"
  }
 },
 "nbformat": 4,
 "nbformat_minor": 4
}
