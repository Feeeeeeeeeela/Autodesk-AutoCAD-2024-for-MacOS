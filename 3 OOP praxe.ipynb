{
 "cells": [
  {
   "cell_type": "markdown",
   "metadata": {},
   "source": [
    "# Praxe v OOP\n",
    "Abychom nezůstali jen u teorie, tak si vytvoříme 2 třídy, přiřemž jednu bude dědit druhou."
   ]
  },
  {
   "cell_type": "markdown",
   "metadata": {},
   "source": [
    "Na začátek si zobrazíme základní funkci na vypisování hodnot nějakého zvířete."
   ]
  },
  {
   "cell_type": "code",
   "execution_count": 9,
   "metadata": {},
   "outputs": [],
   "source": [
    "class Animal:\n",
    "    def __init__(self, weight, height, name):\n",
    "        self.weight = weight\n",
    "        self.height = height\n",
    "        self.name = name\n",
    "        \n",
    "    def phyinfo(self):\n",
    "        print(self.weight)\n",
    "        print(self.height)\n",
    "        print(self.name)        "
   ]
  },
  {
   "cell_type": "markdown",
   "metadata": {},
   "source": [
    "Vytvoříme si název `třídy`. Pozor na správné odtabování. <br>\n",
    "Jako první funkci si definujeme tzv. [inicializační](http://howto.py.cz/cap12.htm) metodu `__init__`. Přesná definice `__init__` je velmi komplikovaná a zasahuje do až dob, kdy vznikalo OOP v jazyku C. Pro nás metoda dělá to, že se provede jako úplně **první** a jenom **jednou**. Takže do ní napíšeme všechny důležité atributy třídy.  Tahle metoda je pro programátory OOP takovým \"nepsaným pravidlem\", kterou vždy využijí jako první. <br>\n",
    "Velmi důležitým parametrem za metodou `__init__` je `self`, který metodě zpřístupňuje konkétní objekt. Bez parametru `self` tedy nemají objekty přístup k datům třídy. <br>\n",
    "Ostaní parametry jsme si již vytvořili my sami a zpřístupnili jsme je objektu tím, že jsme před ně dali `self` a vložili do proměnné. <br>\n",
    "Funkce `phyinfo` (physical information) jsme si vytvořili, aby vypisovala naše proměnné. Znovu použijeme parametr `self`. Do `print` vložíme proměnné se `self`, protože je přebíráme z jiného objektu."
   ]
  },
  {
   "cell_type": "code",
   "execution_count": 10,
   "metadata": {},
   "outputs": [
    {
     "name": "stdout",
     "output_type": "stream",
     "text": [
      "100\n",
      "180\n",
      "Jarda\n"
     ]
    }
   ],
   "source": [
    "jarda = Animal(100, 180, \"Jarda\")\n",
    "jarda.phyinfo()"
   ]
  },
  {
   "cell_type": "markdown",
   "metadata": {},
   "source": [
    "Nyní máme třídu hotovou. Pro vložení proměnných do třídy, používáme podobnou syntaxi jak u funkcí a proměnné si uložíme do naší proměnné, abychom ji mohli později zavolat. Do parametrů **musíme vložit** všechny naše vytvořené parametry, jinak se nám v outputu objeví error. <br>\n",
    "Na druhém řádku si vyvoláme funkci pro vypsání proměnných."
   ]
  },
  {
   "cell_type": "code",
   "execution_count": 11,
   "metadata": {},
   "outputs": [],
   "source": [
    "class Favfood(Animal):\n",
    "    def __init__(self, weight, height, name, fav_food):\n",
    "        super().__init__(weight, height, name)\n",
    "        self.fav_food = fav_food\n",
    "    \n",
    "    def  print_food(self):\n",
    "        print(f\"{self.name}'s favourite food is {self.fav_food}\")"
   ]
  },
  {
   "cell_type": "markdown",
   "metadata": {},
   "source": [
    "Nyní si vyzkoušíme dědičnost. Dědičnost se u tříd zapisuje hnedka u vytvoření třídy a píše se do závorek. <br>\n",
    "Musíme být opatrní a do `__init__` vypsat i děděné atributy. <br>\n",
    "V kódu je využita dále funkce `super()`, která nám umožňuje se vyhnout výslovnému názvu děděné třídy a zároveň umožňuje práci s více dědičnostmi. Konkétně zde, nám funkce `super()` dědí atributy třídy `Animal`. <br>\n",
    "Ve zbytku opakujem víceméně to stejné, co jsme dělali v předchozí třídě."
   ]
  },
  {
   "cell_type": "code",
   "execution_count": 12,
   "metadata": {},
   "outputs": [
    {
     "name": "stdout",
     "output_type": "stream",
     "text": [
      "200\n",
      "300\n",
      "Janda\n",
      "Janda's favourite food is Bramborový salát\n"
     ]
    }
   ],
   "source": [
    "janda = Favfood(200, 300, \"Janda\", \"Bramborový salát\")\n",
    "janda.phyinfo()\n",
    "janda.print_food()"
   ]
  },
  {
   "cell_type": "markdown",
   "metadata": {},
   "source": [
    "Pro zkoušku si nyní vyvoláme místo `Animal`novou třídu `Favfood` do které vložíme všechny parametry. V ukázce můžeme zjistit, že nám funguje i funkce z předchozí třídy. "
   ]
  },
  {
   "cell_type": "markdown",
   "metadata": {},
   "source": [
    "Možná to vypadá komplikovaně, ale tohle je úplný základ OOP. Je to docela velký skok oproti standardnímu programování, avšak tenhle styl vám otvírá mnoho možností a pokud OOP pochopíte, následující tutoriály popisující knihovnu `wx` pro vás budou velmi jednoduché."
   ]
  }
 ],
 "metadata": {
  "kernelspec": {
   "display_name": "Python 3",
   "language": "python",
   "name": "python3"
  },
  "language_info": {
   "codemirror_mode": {
    "name": "ipython",
    "version": 3
   },
   "file_extension": ".py",
   "mimetype": "text/x-python",
   "name": "python",
   "nbconvert_exporter": "python",
   "pygments_lexer": "ipython3",
   "version": "3.8.3"
  }
 },
 "nbformat": 4,
 "nbformat_minor": 4
}
