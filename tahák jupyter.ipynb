{
 "cells": [
  {
   "cell_type": "markdown",
   "metadata": {},
   "source": [
    "# title\n",
    "## major headings\n",
    "### subheadings\n",
    "#### 4th level subheadings\n",
    "__string__ <br>\n",
    "_string_ <br>\n",
    "**string** <br>\n",
    "*string* <br>\n",
    "$ mathematical symbols $ <br>\n",
    "<font color=blue>Text</font> <br>\n",
    "`jo` <br>\n",
    "<br>\n",
    "```for jo in range(12)\n",
    "        jo``` <br>\n",
    "[název odkazu](https://wxpython.org/pages/downloads/index.html) <br>\n",
    "**silný text**"
   ]
  },
  {
   "cell_type": "code",
   "execution_count": null,
   "metadata": {},
   "outputs": [],
   "source": []
  }
 ],
 "metadata": {
  "kernelspec": {
   "display_name": "Python 3",
   "language": "python",
   "name": "python3"
  },
  "language_info": {
   "codemirror_mode": {
    "name": "ipython",
    "version": 3
   },
   "file_extension": ".py",
   "mimetype": "text/x-python",
   "name": "python",
   "nbconvert_exporter": "python",
   "pygments_lexer": "ipython3",
   "version": "3.7.9"
  }
 },
 "nbformat": 4,
 "nbformat_minor": 4
}
