{
 "cells": [
  {
   "cell_type": "markdown",
   "metadata": {},
   "source": [
    "# Úvod do objektově orientované programování\n",
    "K používání `wx` budeme muset znát i základní fungování objekově orientovaného programování [(OOP)](https://cs.wikipedia.org/wiki/Objektov%C4%9B_orientovan%C3%A9_programov%C3%A1n%C3%AD)\n",
    "Objektově orientovaný přístup v programování je jeden ze způsobu myšlení, designu a implementace programu, kde hlavní myšlenkou je **znovupoužitelnost**. Jedná se o takovou \"programátorskou filozofii\"."
   ]
  },
  {
   "cell_type": "markdown",
   "metadata": {},
   "source": [
    "Příkladem rozdílu mezi \"standartním programováním\" a OOP je to, že kdybychom stavěli dům v normálním programování, tak bychom potřebovali **každou** cihlu definovat a vykreslit. Tenhle přístup je velmi neefektivní, protože budeme v kódu neustále opakovat parametry každé cihly. V OOP vytvoříme tuhle cihlu jenom **jednou**, nastavíme ji parametry a potom ji jednodušše voláme znova a znova. Kód se nám tady o hodně zefektivní, zkrátí a zestruční. Pokud je někde chyba, stačí ji opravit na **jednom místě**, nikoliv abychom opravovali všechny komponenty."
   ]
  },
  {
   "cell_type": "markdown",
   "metadata": {},
   "source": [
    "## Základní pojmy:\n",
    "#### Objekt a jeho vlastnosti\n",
    "Objekt je [entita](https://cs.wikipedia.org/wiki/Entita_(informatika)), která obsahuje data a funkce. <br>\n",
    "Hlavní pointa OOP je taková, že logika programu spočívá v interakci právě mezi těmito objekty. Objekty by měly být natolik uzavřené a soběstačné, aby stejný objekt šel použít i někde jinde v kódu a naopak aby objekt mohl být v aplikaci nahrazen jiným objektem. <br>\n",
    "U každého objektu dále popisujeme jeho vlastnosti. Tyhle vlastnosti se dají rozdělit na **data** a **funkce**(v OOP terminologii data = **atributy**, funkce = **metody**).  Atributy jsou tedy data, které mají nějaké hodnoty. A metoda je jakákoliv operace. (př: kdybychom vytvořili objekt \"Slon\". Atributy tohodle objektu by byla například zda je velký, šedý, vrásčitý atd. A metoda by byla, že dýchá, chodí, pije)  \n",
    "###### - "
   ]
  },
  {
   "cell_type": "markdown",
   "metadata": {},
   "source": [
    "http://pehapko.cz/oop/uvod\n",
    "https://www.itnetwork.cz/python/oop/python-tutorial-uvod-do-objektove-orientovaneho-programovani"
   ]
  }
 ],
 "metadata": {
  "kernelspec": {
   "display_name": "Python 3",
   "language": "python",
   "name": "python3"
  },
  "language_info": {
   "codemirror_mode": {
    "name": "ipython",
    "version": 3
   },
   "file_extension": ".py",
   "mimetype": "text/x-python",
   "name": "python",
   "nbconvert_exporter": "python",
   "pygments_lexer": "ipython3",
   "version": "3.8.3"
  }
 },
 "nbformat": 4,
 "nbformat_minor": 4
}
