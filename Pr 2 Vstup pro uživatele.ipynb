{
 "cells": [
  {
   "cell_type": "markdown",
   "metadata": {},
   "source": [
    "# Vstupy pro uživatele\n",
    "Nyní se už dostáváme do dosti obecné fáze, kde řešení problémů jde čím dál méně řešit obecně. `input` od uživatele můžeme ve získat `wx` mnoha způsoby. Protože způsob `inputu` závisí na konkrétních případech programů, tak si v téhle lekci ukážeme ty nejzákladnější a podle mě i nejobecnější."
   ]
  },
  {
   "cell_type": "markdown",
   "metadata": {},
   "source": [
    "### Textový řádek\n",
    "Vytvořený program nám spustí základní okno s dvěma prvky. První bude \"řádek textu\", který bude sloužit jako náš `input`. Druhý prvek bude tlačítko, které nám vypíše hodnotu s řádku textu. Pro přehlednost jsme si zde vytvořili nový objekt `Gui`, kam tyhle prvky napíšeme."
   ]
  },
  {
   "cell_type": "code",
   "execution_count": null,
   "metadata": {},
   "outputs": [],
   "source": [
    "import wx\n",
    "\n",
    "class MyFrame(wx.Frame):    \n",
    "    def __init__(self):\n",
    "        super().__init__(parent=None, title='Output')\n",
    "        \n",
    "        self.Gui()\n",
    "        self.Show()\n",
    "        \n",
    "    def Gui(self):\n",
    "        panel = wx.Panel(self)  \n",
    "        \n",
    "        self.text_ctrl = wx.TextCtrl(panel)\n",
    "        \n",
    "        pressbutton = wx.Button(panel, label='Press Me',pos=(1, 25), size=(60,20))\n",
    "        pressbutton.Bind(wx.EVT_BUTTON, self.on_press)\n",
    "        \n",
    "        \n",
    "    def on_press(self, event):\n",
    "        value = self.text_ctrl.GetValue()\n",
    "        print(value)\n",
    "        \n",
    "        \n",
    "\n",
    "if __name__ == '__main__':\n",
    "    app = wx.App()\n",
    "    frame = MyFrame()\n",
    "    app.MainLoop()"
   ]
  },
  {
   "cell_type": "markdown",
   "metadata": {},
   "source": [
    "První novou metodou je `wx.TextCtrl()`. Je to velmi komplexní metoda, která nejen slouží `input` pro uživatele, tak jako v našem programu, ale může i zobrazovat `str` hodnoty. Veškeré její funkce najdeme v [dokumentaci](https://wxpython.org/Phoenix/docs/html/wx.TextCtrl.html). V parametrech nám vystačí pouze umístění na `panel`. Metodu si ještě propojíme s proměnnou se `self`, protože budem s ní pracovat ve funkci eventu. <br>\n",
    "Když už máme vytvořený `input` pro uživatele, tak vytvoříme tlačítko `pressbutton`, které nám bude `input` zpracovávat.\n",
    "V parametrech tlačítka nám nově přibyl parametr pozice `pos=(1,25)`, aby se nám tlačítko a textpanel nepřekrývali. Když totiž nenastavíme u prvku parametr `pos`, tak se nám vždy dá na pozici `(0,0)`. <br>\n",
    "K více efektivnějšímu pozicování se dostaneme v budoucích lekcích."
   ]
  },
  {
   "cell_type": "markdown",
   "metadata": {},
   "source": [
    "Dále si pro tlačítko vytvoříme eventovou metodu `on_press`, kde si do proměnné uložíme text z textpanelu pomocí funkce `GetValue()`. Hodnotu si zde pouze vypíšeme v příkazovém řádku."
   ]
  },
  {
   "cell_type": "markdown",
   "metadata": {},
   "source": [
    "#### Zobrazení inputu přímo v programu\n",
    "Určitě jste zvyklí z klasického programování na jednoduché zobrazování hodnot pomocí `print()`, bohužel takhle jednodušše to ve `wx` knihovně nejde. Ale jak jsem si již zmínili v předchozím příkladě metodu `wx.TextCtrl`, že krom `vstupu`, může metoda fungovat i jako `výstup`."
   ]
  },
  {
   "cell_type": "code",
   "execution_count": null,
   "metadata": {},
   "outputs": [],
   "source": [
    "import wx\n",
    "\n",
    "\n",
    "class MyFrame(wx.Frame):    \n",
    "    def __init__(self):\n",
    "        super().__init__(parent=None, title='Output')\n",
    "        \n",
    "        self.Gui()\n",
    "        \n",
    "        self.Show()\n",
    "        \n",
    "    def Gui(self):\n",
    "        self.panel = wx.Panel(self)\n",
    "        \n",
    "        self.text_ctrl = wx.TextCtrl(self.panel, pos=(1,1))\n",
    "        \n",
    "        my_btn = wx.Button(self.panel, label='Press Me',pos=(1, 25), size=(60,20))\n",
    "        my_btn.Bind(wx.EVT_BUTTON, self.on_press)\n",
    "        \n",
    "        \n",
    "    def on_press(self, event):\n",
    "        \n",
    "        self.value = self.text_ctrl.GetValue()\n",
    "        \n",
    "        wx.TextCtrl(self.panel, value=self.value, pos=(1,50))\n",
    "        \n",
    "        \n",
    "\n",
    "if __name__ == '__main__':\n",
    "    app = wx.App()\n",
    "    frame = MyFrame()\n",
    "    app.MainLoop()"
   ]
  },
  {
   "cell_type": "markdown",
   "metadata": {},
   "source": [
    "Pro fungování `wx.TextCtrl()` jako `outputu` nám bude sloužit parametr `value`, který nám bude přímo zobrazovat hodnotu. <br>\n",
    "Způsob jak dosáhneme zobrazování, je podobný jako v předchozím příkladě, jen místo `print()` použíjeme již zmíněný `textový řádek` přímo v eventové metodě `on_press`, která se bude aktulualizovat stejně jako v předešlém v programu, kdykoliv při kliknutí. Tím, že budeme muset tenhle nový řádek umístit na náš `panel`, tak jej budeme muset všude přepsat na `self.panel`. <br>\n",
    "V eventové metodě si teda vytvoříme další řádek, kde napíšeme do parametru `value` naší uloženou proměnnou od uživatele `self.value`. Nakonec ještě nastavíme pozici, abychom se opět vyhnuli překrýváním našich prvků."
   ]
  },
  {
   "cell_type": "markdown",
   "metadata": {},
   "source": [
    "### Vstupní Dialog\n",
    "Další možností vstupu je tzv. `vstupní dialog`(`entry dialog`), který se nám spustí před zobrazením \"hlavního\" okna."
   ]
  },
  {
   "cell_type": "markdown",
   "metadata": {},
   "source": [
    "V následujícím programu jsme využili předběžné získání hodnoty z `entry dialogu` k tomu, že se nám mění `title` zobrazovaného okna."
   ]
  },
  {
   "cell_type": "code",
   "execution_count": null,
   "metadata": {},
   "outputs": [],
   "source": [
    "import wx\n",
    "\n",
    "class MyFrame(wx.Frame):    \n",
    "    def __init__(self):\n",
    "        super().__init__(parent=None)\n",
    "        \n",
    "        self.Gui()\n",
    "        self.Show()\n",
    "        \n",
    "    def Gui(self):\n",
    "        panel = wx.Panel(self)\n",
    "        \n",
    "        namebox = wx.TextEntryDialog(None, \"What's your name?\", \"Entry Dialog\",\"name\")\n",
    "        namebox.ShowModal()\n",
    "        \n",
    "        username = namebox.GetValue()\n",
    "                    \n",
    "        self.SetTitle(\"Welcome \"+username)\n",
    "        \n",
    "if __name__ == \"__main__\": \n",
    "    app = wx.App()\n",
    "    frame = MyFrame()\n",
    "    app.MainLoop()"
   ]
  },
  {
   "cell_type": "markdown",
   "metadata": {},
   "source": [
    "Celou logiku panelu, která zařídí aby se `entry dialog` zobrazil před hlavním oknem, není definování objektu `wx.TextEntryDialog`, ale je speciální metoda `ShowModal`, která je jednou z variací metody `Show()`. <br> \n",
    "Zmíněný `wx.TextEntryDialog` nám pouze dopomáhá tím, že se jedná o předvytvořený `frame` s `panelem` a `textovým řádkem`. Nastavenými parametry jsou `parent`, `text zobrazovaný na panelu`, `title framu` a nakonec `text, který již bude napsán při spuštění text panelu`. Více o něm zjistíte [zde](https://wxpython.org/Phoenix/docs/html/wx.TextEntryDialog.html). <br>\n",
    "![TextEntryDialog](img/TextEntryDialog_screen.png)\n",
    "<br>\n",
    "Dále si vytáhneme `input` do proměnné, kterou posléze využijeme pro změnu `titlu` hlavního framu, který přepíše `title` v parametrech `__init__` pomocí metody `SetTitle()`."
   ]
  }
 ],
 "metadata": {
  "kernelspec": {
   "display_name": "Python 3",
   "language": "python",
   "name": "python3"
  },
  "language_info": {
   "codemirror_mode": {
    "name": "ipython",
    "version": 3
   },
   "file_extension": ".py",
   "mimetype": "text/x-python",
   "name": "python",
   "nbconvert_exporter": "python",
   "pygments_lexer": "ipython3",
   "version": "3.8.6"
  }
 },
 "nbformat": 4,
 "nbformat_minor": 4
}
