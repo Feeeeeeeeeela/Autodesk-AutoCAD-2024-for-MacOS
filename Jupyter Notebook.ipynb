{
 "cells": [
  {
   "cell_type": "markdown",
   "metadata": {},
   "source": [
    "### Instalace a spuštění Notebooku\n",
    "\n",
    "Je mnoho způsobů, jak otevřít `Jupyter notebook`, který pracuje v prohlížeči. Můžete jej otevřít přímo na oficiálních [stránkách](https://jupyter.org/)\n",
    "nebo si jej nainstalujete přímo do počítače skrze [pip](https://pypi.org/project/pip/)\n",
    "v [příkazové řádce](https://wintip.cz/534-jak-spoustet-prikazovy-radek-klavesovou-zkratkou).\n",
    "\n",
    "`pip install notebook`\n",
    "\n",
    "Program se poté spouští v příkazovém řádku napsáním:\n",
    "\n",
    "`jupyter notebook`\n",
    "\n",
    "`Jupyter notebook` je též součástí programů `Anaconda`, která vám vytvoří přímého zástupce nebo ho spustíte pomocí `Anadonca navigatoru`.\n",
    "\n",
    "Windows 10:\n",
    "\n",
    "![Anaconda Zástupce](img/13.png)\n",
    "\n",
    "Pokud při instalaci přes `pip` na **Windows** proběhla instalace úspěšně, ale v příkazovém řádku se program `Jupyter` nerozpoznává a vrací vám chybovou hlášku:\n",
    "\n",
    "`'jupyter' is not recognized as an internal or external command, operable program or batch file`\n",
    "\n",
    "Jedná se o chybu, kdy Windows nemůže najít cestu k systémové proměnné `Jupyteru` nebo konkrétně k samotnému `Pythonu`, kde je `Jupyter` nainstalován.\n",
    "(jedná se většinou o špatně nastavenou `Path` pythonu ve vašem zařízení). Řešením je buď přenastavení \n",
    "[Path](https://geek-university.com/python/add-python-to-the-windows-path/), nebo můžete program spustit jednoduše upraveným příkazem:\n",
    "\n",
    "`python -m notebook`\n",
    "\n",
    "Po úspěšném spuštění by se vám měl zobrazit váš výchozí prohlížeč v uložišti, kde jste si `notebook` spustili. V průzkumínku souborů otevřete naklonovaný repositář, kde jsou lekce. Formát notebooku je `.ipynb`. Kliknutím na lekci ji otevřete na dalším panelu prohlížeče. Bližší ovládání `notebooku` naleznete v první lekci."
   ]
  }
 ],
 "metadata": {
  "kernelspec": {
   "display_name": "Python 3",
   "language": "python",
   "name": "python3"
  },
  "language_info": {
   "codemirror_mode": {
    "name": "ipython",
    "version": 3
   },
   "file_extension": ".py",
   "mimetype": "text/x-python",
   "name": "python",
   "nbconvert_exporter": "python",
   "pygments_lexer": "ipython3",
   "version": "3.8.6"
  }
 },
 "nbformat": 4,
 "nbformat_minor": 4
}
