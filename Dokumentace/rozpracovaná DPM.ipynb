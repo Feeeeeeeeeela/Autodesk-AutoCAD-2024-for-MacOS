{
 "cells": [
  {
   "cell_type": "markdown",
   "metadata": {},
   "source": [
    "# DPM úkoly:\n",
    "* [ ] abstrakt\n",
    "* [ ] úvod k pythonu\n",
    "* [ ] úvod do objektového programování\n",
    "* [ ] úvod k wxpythonu\n",
    "* [ ] úvod k jupyter notebooku"
   ]
  },
  {
   "cell_type": "markdown",
   "metadata": {},
   "source": [
    "## Abstrakt\n",
    "Cílem diplomové práce je vytvořit sbírku tutoriálů popisující základy knihovny wxWidgets v programovacím jazyce python. Samotná knihovna pythonu podporující wxWidgets se nazývá wxPython. Sbírka je určena pro studenty programování začínající s grafickým uživatelským rozhraní, kteří již mají za sebou základní zkušenosti s pythonem. Součástí tutoriálů je úvod do objektově orientovaného programování, které se při tvorbě grafického rozhraní využívá. Po dokončení základních tutoriálů je součástí sbírky i sada názorných příkladů, řešící základní jednoduché aplikace."
   ]
  },
  {
   "cell_type": "code",
   "execution_count": null,
   "metadata": {},
   "outputs": [],
   "source": []
  }
 ],
 "metadata": {
  "kernelspec": {
   "display_name": "Python 3",
   "language": "python",
   "name": "python3"
  },
  "language_info": {
   "codemirror_mode": {
    "name": "ipython",
    "version": 3
   },
   "file_extension": ".py",
   "mimetype": "text/x-python",
   "name": "python",
   "nbconvert_exporter": "python",
   "pygments_lexer": "ipython3",
   "version": "3.8.6"
  }
 },
 "nbformat": 4,
 "nbformat_minor": 4
}
