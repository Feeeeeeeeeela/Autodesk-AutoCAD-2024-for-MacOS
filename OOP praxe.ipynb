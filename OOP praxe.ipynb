{
 "cells": [
  {
   "cell_type": "code",
   "execution_count": 5,
   "metadata": {},
   "outputs": [],
   "source": [
    "class Animal:\n",
    "    def __init__(self, weight, height, name):\n",
    "        self.weight = weight\n",
    "        self.height = height\n",
    "        self.name = name\n",
    "        \n",
    "    def phyinfo(self):\n",
    "        print(self.weight)\n",
    "        print(self.height)\n",
    "        print(self.name)\n",
    "\n",
    "        "
   ]
  },
  {
   "cell_type": "code",
   "execution_count": 6,
   "metadata": {},
   "outputs": [
    {
     "name": "stdout",
     "output_type": "stream",
     "text": [
      "100\n",
      "180\n",
      "Jarda\n"
     ]
    }
   ],
   "source": [
    "jarda = Animal(100, 180, \"Jarda\")\n",
    "jarda.phyinfo()"
   ]
  },
  {
   "cell_type": "code",
   "execution_count": 7,
   "metadata": {},
   "outputs": [],
   "source": [
    "class Zirafa(Animal):\n",
    "    def __init__(self, weight, height, name, neck, fav_food):\n",
    "        super().__init__(weight, height, name)\n",
    "        self.neck = neck\n",
    "        self.fav_food = fav_food\n",
    "    \n",
    "    def  print_food(self):\n",
    "        print(f\"{self.name}'s favourite food is {self.fav_food}\")"
   ]
  },
  {
   "cell_type": "code",
   "execution_count": 8,
   "metadata": {},
   "outputs": [
    {
     "name": "stdout",
     "output_type": "stream",
     "text": [
      "200\n",
      "201\n",
      "Janda\n",
      "Janda's favourite food is Bramborový salát\n"
     ]
    }
   ],
   "source": [
    "janda = Zirafa(200, 201, \"Janda\", 80, \"Bramborový salát\")\n",
    "janda.phyinfo()\n",
    "janda.print_food()"
   ]
  },
  {
   "cell_type": "code",
   "execution_count": null,
   "metadata": {},
   "outputs": [],
   "source": []
  }
 ],
 "metadata": {
  "kernelspec": {
   "display_name": "Python 3",
   "language": "python",
   "name": "python3"
  },
  "language_info": {
   "codemirror_mode": {
    "name": "ipython",
    "version": 3
   },
   "file_extension": ".py",
   "mimetype": "text/x-python",
   "name": "python",
   "nbconvert_exporter": "python",
   "pygments_lexer": "ipython3",
   "version": "3.8.3"
  }
 },
 "nbformat": 4,
 "nbformat_minor": 4
}
