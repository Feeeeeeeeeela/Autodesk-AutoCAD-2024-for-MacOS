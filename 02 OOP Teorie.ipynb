{
 "cells": [
  {
   "cell_type": "markdown",
   "metadata": {},
   "source": [
    "# Úvod do objektově orientovaného programování\n",
    "K používání `wx` budeme muset znát i základní fungování objektově orientovaného programování [(OOP)](https://cs.wikipedia.org/wiki/Objektov%C4%9B_orientovan%C3%A9_programov%C3%A1n%C3%AD).\n",
    "Objektově orientovaný přístup v programování je jeden ze způsobu myšlení, designu a funkčnosti programu, kde hlavní myšlenkou je **znovupoužitelnost**. <br>\n",
    "Jedná se o jednu z tzv. \"programátých filozofií\"."
   ]
  },
  {
   "cell_type": "markdown",
   "metadata": {},
   "source": [
    "Příklad rozdílu mezi \"standardním programováním\" a OOP, by se dal v praxi popsat při postupu \"vykrajování perníku z těsta\". <br> \n",
    "Dejme tomu, že bychom si chtěli z těsta vykrojit sněhuláka. Ve \"standartním programování\" bychom si vzali nůž a začli vykrajovat jeho tvar. Na konci bychom tedy měli úspěšně vykrojeného sněhuláka. Ale co kdybychom takového sněhuláka potřebovali **podruhé, potřetí atd.**? Budeme muset znova vzít nůž a vykrojit jej **znova**. <br> Nyní situaci převedeme do OOP, kde bychom si místo pracného vykrajování nožem, vytvořili **vykrajovátko** sněhuláka, které můžeme využívat/praktikovat donekonečna."
   ]
  },
  {
   "cell_type": "markdown",
   "metadata": {},
   "source": [
    "#### Pointa:\n",
    "V obou případech dosáhneme daného cíle. Jenže nezáleží na konečném cíli, ale na efektivním provedení. Ve standardním programování bychom došli ke stejnému cíli. Avšak nevýhodou by bylo, kdybychom chtěli daný kód v určitém bodě rozšířit. Vzniká nám riziko nefunkčnosti programu při přepisování a především opakujeme a využíváme již jednou použitý kód. Kód se zvětšuje, znepřehledňuje a špatně se v něm hledají a opravují chyby. <br>\n",
    "V OOP naopak danou věc nadefinujeme jen **jednou** a můžeme ji používat donekonečna, různě ji ohýbat atd. Kód je poté přehlednější, stručnější a bez značného opakování."
   ]
  },
  {
   "cell_type": "markdown",
   "metadata": {},
   "source": [
    "## Základní pojmy:\n"
   ]
  },
  {
   "cell_type": "markdown",
   "metadata": {},
   "source": [
    "#### Objekt a jeho vlastnosti\n",
    "Základní jednotkou OOP je [Objekt](https://cs.wikipedia.org/wiki/Objekt_(informatika)), který obsahuje data a funkce. <br>\n",
    "Pointa OOP je, že hlavní logika programu spočívá v interakci právě mezi těmito objekty. Objekty by měly být natolik uzavřené a soběstačné, aby stejný objekt mohl být využit i někde jinde v programu a naopak, aby objekt mohl být v aplikaci nahrazen jiným objektem. <br>\n",
    "U každého objektu dále popisujeme jeho vlastnosti. Vlastnosti se dají rozdělit na **data** a **funkce**(v OOP terminologii data = **atributy**, funkce = **metody**).  Atributy jsou tedy data, které nabývají nějaké hodnoty. Metodou je jakákoliv operace. "
   ]
  },
  {
   "cell_type": "markdown",
   "metadata": {},
   "source": [
    "Př: kdybychom vytvořili objekt \"Slon\". <br>Atributy tohodle objektu by byly např. zda je velký, šedý, vrásčitý atd.<br> Metoda by byla, že dýchá, chodí nebo pije."
   ]
  },
  {
   "cell_type": "markdown",
   "metadata": {},
   "source": [
    "#### Třída\n",
    "Třída je množina objektů s určitými vlastnostmi. Samotná třída **nedefinuje žádné objekty**, nýbrž udává jaké vlastnosti budou mít objekty dané třídy."
   ]
  },
  {
   "cell_type": "markdown",
   "metadata": {},
   "source": [
    "#### Instance/Objekt\n",
    "[Instance](https://www.python-course.eu/python3_class_and_instance_attributes.php) je naopak od třídy **jeden konkrétní objekt**."
   ]
  },
  {
   "cell_type": "markdown",
   "metadata": {},
   "source": [
    "Příkladem rozdílu mezi třídou a instancí je, že třída která zastupuje mobilní telefony bude mít atribut *Barva*. Instance poté atributu přidává hodnotu barvy. Takže mobil bude např. *modrý*. "
   ]
  },
  {
   "cell_type": "markdown",
   "metadata": {},
   "source": [
    "Dalšími důležitými pojmy jsou:\n",
    "#### Zapouzdření \n",
    "Které umožňuje skrýt některé metody a atributy tak, aby byly atributy použity pouze pro třídu\n",
    "zevnitř.\n",
    "#### Skládání\n",
    "Znamená, že třídy mohou obsahovat instance jiných tříd. Př: Třída bude používat atribut jiné třídy.\n",
    "#### Dědičnost\n",
    "Dědičnost znamená, že určitý objekt \"pod\"třídy, která je závislá na atributech jiné \"vyšší\" třídy. Pak objekt **dědí** atributy (nad)třídy (viz další lekce)."
   ]
  },
  {
   "cell_type": "markdown",
   "metadata": {},
   "source": [
    "Odkazy pro další studium:<br> \n",
    "[itnetwork](https://www.itnetwork.cz/python/oop/python-tutorial-uvod-do-objektove-orientovaneho-programovani)<br>\n",
    "[pehapko](http://pehapko.cz/oop/uvod) <br>\n",
    "[jaksenaucitprogramovat](http://jaksenaucitprogramovat.py.cz/cztutclass.html)"
   ]
  },
  {
   "cell_type": "markdown",
   "metadata": {},
   "source": [
    "### Závěr:\n",
    "Tímto jsme si prošli základy toerie OOP, nyní přejdeme k **důležitější části** a to je obecné využití v praxi v další lekci."
   ]
  }
 ],
 "metadata": {
  "kernelspec": {
   "display_name": "Python 3",
   "language": "python",
   "name": "python3"
  },
  "language_info": {
   "codemirror_mode": {
    "name": "ipython",
    "version": 3
   },
   "file_extension": ".py",
   "mimetype": "text/x-python",
   "name": "python",
   "nbconvert_exporter": "python",
   "pygments_lexer": "ipython3",
   "version": "3.8.6"
  }
 },
 "nbformat": 4,
 "nbformat_minor": 4
}
