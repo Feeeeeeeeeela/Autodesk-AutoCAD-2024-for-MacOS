{
 "cells": [
  {
   "cell_type": "markdown",
   "metadata": {},
   "source": [
    "# Instalace wxPython\n",
    "Originál instalace najdete [zde](https://wxpython.org/pages/downloads/index.html)"
   ]
  },
  {
   "cell_type": "markdown",
   "metadata": {},
   "source": [
    "### Windows a macOS\n",
    "Instalace pomocí [pip](https://pypi.org/project/pip/)."
   ]
  },
  {
   "cell_type": "raw",
   "metadata": {},
   "source": [
    "pip install -U wxPython"
   ]
  },
  {
   "cell_type": "markdown",
   "metadata": {},
   "source": [
    "Pokud používáte Windows nebo macOS s kompatibilním Pythonem, výše uvedený příkaz stáhne příslušné soubory, nejnovější verzi `wx`, a nainstaluje jej do prostředí Python nebo do virtuálního prostředí. Nástroj pip by jste měli mít již nainstalovaný, pokud již vaše zařízení obsahuje python verze 2.0 a vyšší."
   ]
  },
  {
   "cell_type": "markdown",
   "metadata": {},
   "source": [
    "### Conda nebo Anaconda\n",
    "Pokud používáte prostředí Pythonu spravované Condou nebo Anacondou, můžete nainstalovat wxPython pomocí nástroje conda stejně, jako byste nainstalovali jakýkoli jiný balíček."
   ]
  },
  {
   "cell_type": "raw",
   "metadata": {},
   "source": [
    "conda install -c anaconda wxpython"
   ]
  },
  {
   "cell_type": "markdown",
   "metadata": {},
   "source": [
    "Úspěšnou instalaci `wxPython` můžete vyzkoušet zkopírováním a spuštěním následujících 6 řádků: "
   ]
  },
  {
   "cell_type": "raw",
   "metadata": {},
   "source": [
    "import wx\n",
    "\n",
    "app = wx.App()\n",
    "frame = wx.Frame(parent=None, title='Hello World!')\n",
    "frame.Show()\n",
    "app.MainLoop()"
   ]
  },
  {
   "cell_type": "markdown",
   "metadata": {},
   "source": [
    "Program vám spustí malé šedé okno, tak jste nainstalovali správně `wxPython`, pokud na vás vyskočil error z příkazového řádku, je důležité si zkontrolovat, zda pracujeve v prostředí, kde jste si `wxPython` stáhli a nainstalovali. Co program dělá si vysvětlíme v první `wx` lekci."
   ]
  },
  {
   "cell_type": "markdown",
   "metadata": {},
   "source": [
    "# Jupyter notebook\n",
    "Jupyter notebook je webová aplikace s otevřeným zdrojovým kódem, která vám umožňuje vytvářet a sdílet dokumenty, které obsahují živý kód, rovnice, vizualizace atd."
   ]
  },
  {
   "cell_type": "markdown",
   "metadata": {},
   "source": [
    "Výhodou Jupyteru je aji to, že kód může být rozepsaný ve více \"buňkách\", takže mezi částmi kódu se dají jednodušše vložit vysvětlivky atd."
   ]
  },
  {
   "cell_type": "markdown",
   "metadata": {},
   "source": [
    "Nevýhodou avšak je, že `Jupyter notebook` neobsahuje skripta `pythonw`, které podporují GUI programy. Tohle má za následek to, že v pozdějších lekcích, kde se objevuje více tříd, `Kernel` (terminál Jupyteru) spustí úšpětně program jen jednou a napodruhé se okno zamrazí (je to způsobené nevymazáním Cache). Dá se tomu předejít, když po prvním spuštěním kódu manuálně restartujeme `Kernela`."
   ]
  },
  {
   "cell_type": "markdown",
   "metadata": {},
   "source": [
    "![Restart Kernera](img/restartkerner_screen.png)"
   ]
  },
  {
   "cell_type": "markdown",
   "metadata": {},
   "source": [
    "## Instalace a spuštění\n",
    "Je mnoho způsobů jak otevřít `Jupyter notebook`, který pracuje v prohlížeči. Můžete ho otevřít přímo na oficiálních [stránkách](https://jupyter.org/) nebo si ho nainstalujete přímo do počítače skrze [pip](https://pypi.org/project/pip/)."
   ]
  },
  {
   "cell_type": "raw",
   "metadata": {},
   "source": [
    "pip install notebook"
   ]
  },
  {
   "cell_type": "markdown",
   "metadata": {},
   "source": [
    "Program se poté spouští do příkazovou řádkou napsáním:"
   ]
  },
  {
   "cell_type": "raw",
   "metadata": {},
   "source": [
    "jupyter notebook"
   ]
  },
  {
   "cell_type": "markdown",
   "metadata": {},
   "source": [
    "Jupyter notebook je též součást programů Anaconda, která vám vytvoří přímého zástupce."
   ]
  },
  {
   "cell_type": "markdown",
   "metadata": {},
   "source": [
    "Pokud při instalaci přes `pip` na **Windows** proběhla instalace úspěšně, ale příkazová řádka program `Jupyter` nepoznává a vrací vám chybovou hlášku:"
   ]
  },
  {
   "cell_type": "raw",
   "metadata": {},
   "source": [
    "'jupyter' is not recognized as an internal or external command,\n",
    "operable program or batch file"
   ]
  },
  {
   "cell_type": "markdown",
   "metadata": {},
   "source": [
    "Jedná se o chybu, kdy Windows nemůže najít cestu k systémové proměnné `Jupyteru`. Program se poté dá jednodušše spustit trošku jiným příkazem:"
   ]
  },
  {
   "cell_type": "raw",
   "metadata": {},
   "source": [
    "python -m notebook"
   ]
  }
 ],
 "metadata": {
  "kernelspec": {
   "display_name": "Python 3",
   "language": "python",
   "name": "python3"
  },
  "language_info": {
   "codemirror_mode": {
    "name": "ipython",
    "version": 3
   },
   "file_extension": ".py",
   "mimetype": "text/x-python",
   "name": "python",
   "nbconvert_exporter": "python",
   "pygments_lexer": "ipython3",
   "version": "3.8.3"
  }
 },
 "nbformat": 4,
 "nbformat_minor": 4
}
