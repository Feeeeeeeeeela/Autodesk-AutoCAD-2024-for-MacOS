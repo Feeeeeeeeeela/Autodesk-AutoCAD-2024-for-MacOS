{
 "cells": [
  {
   "cell_type": "markdown",
   "metadata": {},
   "source": [
    "# Kalkulačka"
   ]
  },
  {
   "cell_type": "markdown",
   "metadata": {},
   "source": [
    "Jako první si musíme promyslet celkové rozvržení naši kalkulačky. <br>\n",
    "Tahle kalkulačka bude mít jedno textové pole, kde se bude zapisovat a po sléze vypisovat výsledek (využijeme `wx.TextCtrl`).\n",
    "<br> Pod textem vytvoříme pole tlačítek 4x4, kam dáme 0-9, se základními operacemi. <br> Nakonec přidáme tlačítka pro \" Clear \" a výsledek \" = \". <br>\n",
    "![main](img/kal1.png)\n",
    "Nyní k samotnému kódu."
   ]
  },
  {
   "cell_type": "code",
   "execution_count": 1,
   "metadata": {},
   "outputs": [],
   "source": [
    "import wx\n",
    "\n",
    "class MyFrame(wx.Frame):\n",
    "    def __init__(self, parent, title, size):\n",
    "        super().__init__(parent, title =title, size = size)\n",
    "        self.panel = MyPanel(self)\n",
    "        self.SetSizeHints(350, 375)\n",
    "\n",
    "class MyPanel(wx.Panel):\n",
    "    def __init__(self, parent):\n",
    "        super().__init__(parent)\n",
    "        self.Gui()\n",
    "\n",
    "    def Gui(self):\n",
    "        mainsizer = wx.BoxSizer(wx.VERTICAL)\n",
    "\n",
    "        self.textpanel = wx.TextCtrl(self, style=wx.TE_RIGHT)\n",
    "        mainsizer.Add(self.textpanel, 0, wx.EXPAND|wx.ALL , 5)\n",
    "        \n",
    "        btnsizer = wx.GridSizer(4,4,10,10)\n",
    "        buttons = ['7', '8', '9', '/','4', '5', '6', '*','1', '2', '3', '-', '.', '0', 'C', '+']\n",
    "        for label in buttons:\n",
    "            btnsizer.Add(wx.Button(self, label=label), 1, wx.EXPAND)\n",
    "        mainsizer.Add(btnsizer, 2, wx.ALL | wx.EXPAND, 5)\n",
    "        \n",
    "        Sizer = wx.BoxSizer(wx.HORIZONTAL)\n",
    "\n",
    "        self.equal = wx.Button(self, label='=')\n",
    "        self.clearbtn = wx.Button(self, label='Clear') \n",
    "        Sizer.Add(self.clearbtn, 1, wx.ALL | wx.EXPAND, 5)\n",
    "        Sizer.Add(self.equal, 1, wx.ALL | wx.EXPAND, 5)\n",
    "        mainsizer.Add(Sizer, 1, wx.EXPAND)\n",
    "        self.SetSizer(mainsizer)\n",
    "        \n",
    "        self.Bind(wx.EVT_BUTTON, self.onpress)\n",
    "\n",
    "    def onpress(self, event):\n",
    "        label = event.GetEventObject().GetLabel()\n",
    "        clearerror = self.textpanel.GetValue()\n",
    "\n",
    "        if clearerror == \"Error\":\n",
    "            self.textpanel.SetValue(\"\")\n",
    "\n",
    "        if label == \"Clear\":\n",
    "            self.textpanel.SetValue(\"\")\n",
    "            \n",
    "        elif label == \"=\":\n",
    "            try:\n",
    "                rawresult = self.textpanel.GetValue()\n",
    "                result = eval(rawresult)\n",
    "                self.textpanel.SetValue(str(result))\n",
    "            except:\n",
    "                self.textpanel.SetValue(\"Error\")\n",
    "                \n",
    "        elif label == \"C\":\n",
    "            removelast = self.textpanel.GetValue()\n",
    "            removed = removelast[:-1]\n",
    "            self.textpanel.SetValue(removed)\n",
    "            \n",
    "        else:\n",
    "            self.textpanel.AppendText(label)\n",
    "\n",
    "class MyApp(wx.App):\n",
    "    def OnInit(self):\n",
    "        self.frame = MyFrame(parent=None, title=\"Kalkulačka\", size = (350, 375))\n",
    "        self.frame.Show()\n",
    "        return True\n",
    "\n",
    "if __name__ == \"__main__\": \n",
    "    app=MyApp()\n",
    "    app.MainLoop()"
   ]
  },
  {
   "cell_type": "markdown",
   "metadata": {},
   "source": [
    "### GUI"
   ]
  },
  {
   "cell_type": "markdown",
   "metadata": {},
   "source": [
    "Pro GUI kalkulačky vytvoříme samostatnou funkci ve třídě `wx.Panel`. <br>"
   ]
  },
  {
   "cell_type": "markdown",
   "metadata": {},
   "source": [
    "Vytvoříme si hlavní vertikální `BoxSizer`, do kterého vložíme všechny naše prvky. <br>\n",
    "Stejně tak si vytvoříme náš textový panel `wx.TextCtrl` který uložíme do proměnné se `self`, protože ji budem používat v jiných funkcích. V parametrech `wx.TextCtrl` nastavíme styl, aby se text zobrazoval na pravé straně. <br>\n",
    "Nakonec přidáme prvek do sizeru. S parametry proporce na `0`, aby neměnil svoji výšku. Nastavíme `flag` na `wx.EXPAND`. Nastavíme i ohraničení ze všech stran s `wx.ALL`, které napíšeme ke flagu s `|` (roura), posledním číslem je velikost odstazení v pixelech."
   ]
  },
  {
   "cell_type": "code",
   "execution_count": null,
   "metadata": {},
   "outputs": [],
   "source": [
    "        mainsizer = wx.BoxSizer(wx.VERTICAL)\n",
    "\n",
    "        self.textpanel = wx.TextCtrl(self, style=wx.TE_RIGHT)\n",
    "        mainsizer.Add(self.textpanel, 0, wx.EXPAND|wx.ALL , 5)"
   ]
  },
  {
   "cell_type": "markdown",
   "metadata": {},
   "source": [
    "Nyní si vytvoříme seznam se všemi tlačítky. Vytvořili jsme si jich 16, abychom udělali pole s 4x4 tlačítky. <br>\n",
    "Vytvoříme si náš `GridSizer` a poté pomocí funkce `for`vytvoříme všech 16 tlačítek, které přímo přidáme do sizeru. <br>\n",
    "![GridSizer](img/kal2.png)\n",
    "Poté náš nově vytvořený sizer dáme do hlavního sizeru. S Parametry podobnými jako předešle až na parametr proporce, kde nastavíme `2` (protože budeme chtít, aby sizer zabíral více místa než poslední sizer, který si teprve vytvoříme)."
   ]
  },
  {
   "cell_type": "code",
   "execution_count": null,
   "metadata": {},
   "outputs": [],
   "source": [
    "        btnsizer = wx.GridSizer(4,4,10,10)\n",
    "        buttons = ['7', '8', '9', '/','4', '5', '6', '*','1', '2', '3', '-', '.', '0', 'C', '+']\n",
    "        for label in buttons:\n",
    "            btnsizer.Add(wx.Button(self, label=label), 1, wx.EXPAND)\n",
    "        mainsizer.Add(btnsizer, 2, wx.EXPAND|wx.ALL, 5)"
   ]
  },
  {
   "cell_type": "markdown",
   "metadata": {},
   "source": [
    "Teďka přidáme další 2 zbývající tlačítka pro \" = \" a \" Clear \". Přidáme je opět do sizeru. Proporci u obou nastavíme na `1`, aby při roztahování zabírali stejné místo. Sizer přidáme do hlavního sizeru s proporcí `1`. Zobrazíme hlavní sizer."
   ]
  },
  {
   "cell_type": "code",
   "execution_count": null,
   "metadata": {},
   "outputs": [],
   "source": [
    "        Sizer = wx.BoxSizer(wx.HORIZONTAL)\n",
    "\n",
    "        self.equal = wx.Button(self, label='=')\n",
    "        self.clearbtn = wx.Button(self, label='Clear') \n",
    "        Sizer.Add(self.clearbtn, 1, wx.ALL | wx.EXPAND, 5)\n",
    "        Sizer.Add(self.equal, 1, wx.ALL | wx.EXPAND, 5)\n",
    "        \n",
    "        mainsizer.Add(Sizer, 1, wx.EXPAND)\n",
    "        self.SetSizer(mainsizer)"
   ]
  },
  {
   "cell_type": "markdown",
   "metadata": {},
   "source": [
    "Nakonec přidáme metodu pro bindování tlačítek. Více v části Logiky."
   ]
  },
  {
   "cell_type": "code",
   "execution_count": null,
   "metadata": {},
   "outputs": [],
   "source": [
    "        self.Bind(wx.EVT_BUTTON, self.onpress)"
   ]
  },
  {
   "cell_type": "markdown",
   "metadata": {},
   "source": [
    "### Logika\n",
    "V `GridSizeru` jsme si ulehčili práci s vytvářením tlačítek pomocí cyklu `for`, avšak nevýhodou je, že tlačítka nejsou uložené v proměnných. <br>\n",
    "Proto celá logika programu bude, že při stisknutí tlačítka se zjistí jeho `label` a podle tlačítko zareaguje."
   ]
  },
  {
   "cell_type": "markdown",
   "metadata": {},
   "source": [
    "Logika tlačítek je taková, že si buď vytáhneme hodnotu `labelu` tlačítka a podle zmáčklého tlačítka se přidá hodnota nebo se spustí speciální event. <br>\n",
    "Speciálně definujeme tlačítka \"Clear\", \"=\" a \"C\". <br>\n",
    "Logika výpočtu samotného vyřešíme jednodušše pomocí metody `eval()`, která převádí (podobně jako `int()` nebo `str()`) datový typ stringu do \"python výrazu\" (expression). Např: `eval(\"2 * 3\")` outputem bude `6`. Samotná metoda je velmi komplexní a nedoporučuje se používat v programech s přístupem do OS. Další využití najdete [zde](https://www.programiz.com/python-programming/methods/built-in/eval)<br>"
   ]
  },
  {
   "cell_type": "markdown",
   "metadata": {},
   "source": [
    "Nyní teda k praxi. Label stisklého tlačítka vytáhneme pomocí `GetLabel()`, ale protože konkrétní tlačítka nemáme definované , použiujeme metodu `event.GetEventObject()`, jedná se o metodu [`wx.Eventu`](https://wxpython.org/Phoenix/docs/html/wx.Event.html), kdy nám tahle funkce zjistí tlačítko, které jsme stistkli."
   ]
  },
  {
   "cell_type": "code",
   "execution_count": null,
   "metadata": {},
   "outputs": [],
   "source": [
    "label = event.GetEventObject().GetLabel()"
   ]
  },
  {
   "cell_type": "markdown",
   "metadata": {},
   "source": [
    "Samotná podmínka má 5 částí: <br>\n",
    "1. zjištění zda text obsahuje \"Error\" a jeho následné smazání v panelu\n",
    "2. funkce pro tlačítko \" Clear \", které smaže text v panelu\n",
    "3. samotná vyhodnocující funkce, kdy jsme využili `eval()` i pro kontrolu vstupu uživatele => Pokud bude v kalkulačce zadané neplatný či nesmyslný výpočet, tak funkce `eval()` vyhodí error. Využili jsme [Try a Except](https://www.w3schools.com/python/python_try_except.asp). Je důležité si ještě ohlídat, že `eval()` vrací hodnotu v `int`, ale v text panelu zadáváme `str`\n",
    "4. funkce pro tlačítko smazání posledního charakteru.\n",
    "5. do else jsme vložili funkci přidání text pro tlačítka 0-9, +, -, * a /."
   ]
  },
  {
   "cell_type": "code",
   "execution_count": null,
   "metadata": {},
   "outputs": [],
   "source": [
    "        clearerror = self.textpanel.GetValue()\n",
    "        if clearerror == \"Error\":\n",
    "            self.textpanel.SetValue(\"\")\n",
    "\n",
    "        if label == \"Clear\":\n",
    "            self.textpanel.SetValue(\"\")\n",
    "            \n",
    "        elif label == \"=\":\n",
    "            try:\n",
    "                rawresult = self.textpanel.GetValue()\n",
    "                result = eval(rawresult)\n",
    "                self.textpanel.SetValue(str(result))\n",
    "            except:\n",
    "                self.textpanel.SetValue(\"Error\")\n",
    "                \n",
    "        elif label == \"C\":\n",
    "            removelast = self.textpanel.GetValue()\n",
    "            removed = removelast[:-1]\n",
    "            self.textpanel.SetValue(removed)\n",
    "            \n",
    "        else:\n",
    "            self.textpanel.AppendText(label)"
   ]
  }
 ],
 "metadata": {
  "kernelspec": {
   "display_name": "Python 3",
   "language": "python",
   "name": "python3"
  },
  "language_info": {
   "codemirror_mode": {
    "name": "ipython",
    "version": 3
   },
   "file_extension": ".py",
   "mimetype": "text/x-python",
   "name": "python",
   "nbconvert_exporter": "python",
   "pygments_lexer": "ipython3",
   "version": "3.8.6"
  }
 },
 "nbformat": 4,
 "nbformat_minor": 4
}
