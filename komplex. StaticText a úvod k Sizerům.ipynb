{
 "cells": [
  {
   "cell_type": "markdown",
   "metadata": {},
   "source": [
    "# StaticText()\n",
    "Jedná se o základní metodu `wx` pro zobrazování \"stringů\"."
   ]
  },
  {
   "cell_type": "markdown",
   "metadata": {},
   "source": [
    "Nejdůležitějšími [Parametry](https://wxpython.org/Phoenix/docs/html/wx.StaticText.html#methods) je `parent` a samotný text `label`. Dále text můžeme upravovat pomocí `style`, všechny styly můžeme najít v [dokumentaci](https://wxpython.org/Phoenix/docs/html/wx.StaticText.html#styles-window-styles). "
   ]
  },
  {
   "cell_type": "markdown",
   "metadata": {},
   "source": [
    "# Základ Sizerů\n",
    "Existují 2 typy pozicování. Absolutní, kdy zadáváme přímo x a y každému objektu. Tenhle postup není samozřejmě efektnivní, když se nám velikost oken mění. Od toho existuje relativní pozicování, které se \"adaptuje\" podle velikosti okna."
   ]
  },
  {
   "cell_type": "markdown",
   "metadata": {},
   "source": [
    "Na pomoc nám tu přichází \"Sizer\", který slouží jako \"abstrakní\" třída užívaná k rozložení dílčích prvků v oknech. Existují 2 typy Sizeru. <br> [`wx.BoxSizer`](https://wxpython.org/Phoenix/docs/html/wx.BoxSizer.html#wx-boxsizer) a [`wx.GridSizer`](https://wxpython.org/Phoenix/docs/html/wx.GridSizer.html#wx-gridsizer).<br>\n",
    "`wx.BoxSizer` nám slouží pro jednoduché rozložení, většinou do sloupců a řádků. Oproti tomu `wx.GridSizer` vytváří takovou dvourozměrnou \"mřížku\", kde pole téhle mřížky mají stejnou velikost. Šířka každého pole je šířka nejširšího prvku a výška každého pole je výška nejvyššího prvku."
   ]
  },
  {
   "cell_type": "markdown",
   "metadata": {},
   "source": [
    "### BoxSizer()\n",
    "Jedná se o \"jednodušší\" sizer. Vytváříme ho pomocí metody `wx.BoxSizer()`, u kterého zde můžeme zvolit pouze mezi dvěma parametry. A to `wx.VERTICAL` a `wx.HORIZONTAL`. V praxi se víceméně setkáme jenom s HORIZONTÁLNÍMI."
   ]
  },
  {
   "cell_type": "code",
   "execution_count": null,
   "metadata": {},
   "outputs": [],
   "source": [
    "import wx\n",
    "\n",
    "class MyFrame(wx.Frame):\n",
    "    def __init__(self, parent, title):\n",
    "        super(MyFrame, self).__init__(parent, title=title, size=(600,600))\n",
    "        MyPanel(self)\n",
    "        \n",
    "class MyPanel(wx.Panel):\n",
    "    def __init__(self, parent):\n",
    "        super().__init__(parent)\n",
    "        \n",
    "        vbox = wx.BoxSizer(wx.VERTICAL)\n",
    "        hbox = wx.BoxSizer(wx.HORIZONTAL)\n",
    "        \n",
    "        label1 = wx.StaticText(self, label=\"First in vertical\", style=wx.ALIGN_CENTER)\n",
    "        vbox.Add(label1, 0, wx.EXPAND)\n",
    "\n",
    "        label2 = wx.StaticText(self, label=\"Second in vertical\", style=wx.ALIGN_CENTER)\n",
    "        vbox.Add(label2, 0, wx.EXPAND)\n",
    "        \n",
    "        label3 = wx.StaticText(self, label=\"First in hotizontal\")\n",
    "        hbox.Add(label3,0, wx.EXPAND)\n",
    "        \n",
    "        label4 = wx.StaticText(self, label=\"Second in hotizontal\")\n",
    "        hbox.Add(label4,0, wx.EXPAND)\n",
    "        \n",
    "        vbox.Add(hbox)\n",
    "        self.SetSizer(vbox)     \n",
    "        \n",
    "class MyApp(wx.App):\n",
    "    def OnInit(self):\n",
    "        self.frame = MyFrame(parent=None, title=\"Panel Window\")\n",
    "        self.frame.Show()\n",
    "        return True\n",
    " \n",
    " \n",
    " \n",
    "app = MyApp()\n",
    "app.MainLoop()"
   ]
  },
  {
   "cell_type": "markdown",
   "metadata": {},
   "source": [
    "V našem programu jsme si vytvořili v `Panelu` na začátek oba typy sizerů. Pro obsah jsme vytvořili 4 `wx.StaticText()`. U těch které dáváme do vertikálního sizeru si pro zkoušku přidáme `style=wx.ALIGN_CENTER`, abychom si zkusili, že při měnění velikosti okna, text zůstává vycentrován.\n",
    "<br> \n",
    "Do sizerů jsme objekty přidali pomocí metody `Add()`, kdy [parametry](https://wxpython.org/Phoenix/docs/html/wx.Sizer.html#wx.Sizer.Add) jsou `window`, `proportion` a `flag`. <br> `window` nám označuje přidávaný objekt. <br>\n",
    "`propotion` je speciální parametr používaný jen při `BoxSizerech`. Slouží k označení zda prvek bude měnit svoji velikost při měnění velikosti okna. Kdy `0` popisuje něměnnou hodnotu a čísla `0+` slouží při tom, kdy máme více položek v sizeru a chceme, aby se velikost měnili jen určité položky. <br>\n",
    "Poslední našim užívaným parametrem je tzv. `flag`, které nastavuje chování. Celý seznam můžete najít [zde](https://wxpython.org/Phoenix/docs/html/wx.Sizer.html#phoenix-title-sizer-flags). V našem případě `wx.EXPAND` zařizuje, že se položka \"roztáhne\" do celé velikosti, kdykoliv bude okno dostatečně veliké pro její zobrazení."
   ]
  },
  {
   "cell_type": "markdown",
   "metadata": {},
   "source": [
    "Pro vykreslení Sizeru máme metodu `SetSizer()` s předponou `self`, abychom ji vyvolali v nášem `framu`. Znovu se nám v kódu objevuje funkce `Add()` ale tentokrát přidáváme sizer k sizeru, protože kdybychom je vyvolali oba, tak by se překrývaly. V praxi se tedy nejčastěji používá jeden sizer, který obsahuje jako položky další sizery."
   ]
  },
  {
   "cell_type": "markdown",
   "metadata": {},
   "source": [
    "V příkladě jsme si ukázali pouze jednoduchou aplikaci, ale téma pozicování a konkrétně sizerů je velmi rozsáhlé a nastavuje se vždy ke konkrétním aplikacím. Různá rozvržení můžeme najít na internetu nebo autoři `wx` vytvořili pár [příkladů](https://wxpython.org/Phoenix/docs/html/sizers_overview.html#wx-sizers-the-visual-approach)"
   ]
  },
  {
   "cell_type": "markdown",
   "metadata": {},
   "source": [
    "# GridSizer()"
   ]
  },
  {
   "cell_type": "code",
   "execution_count": null,
   "metadata": {},
   "outputs": [],
   "source": []
  },
  {
   "cell_type": "code",
   "execution_count": null,
   "metadata": {},
   "outputs": [],
   "source": []
  }
 ],
 "metadata": {
  "kernelspec": {
   "display_name": "Python 3",
   "language": "python",
   "name": "python3"
  },
  "language_info": {
   "codemirror_mode": {
    "name": "ipython",
    "version": 3
   },
   "file_extension": ".py",
   "mimetype": "text/x-python",
   "name": "python",
   "nbconvert_exporter": "python",
   "pygments_lexer": "ipython3",
   "version": "3.8.3"
  }
 },
 "nbformat": 4,
 "nbformat_minor": 4
}
