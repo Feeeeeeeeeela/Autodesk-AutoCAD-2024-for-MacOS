{
 "cells": [
  {
   "cell_type": "markdown",
   "metadata": {},
   "source": [
    "# Mixér barev"
   ]
  },
  {
   "cell_type": "markdown",
   "metadata": {},
   "source": [
    "Názorný příklad pro mixování barev. Každá barva se dá namíchat pomocí červené, zelené a modré (RGB), přičemž každá barva má intenzitu od 0 do 255. "
   ]
  },
  {
   "cell_type": "code",
   "execution_count": null,
   "metadata": {},
   "outputs": [],
   "source": [
    "import wx\n",
    "\n",
    "class MyFrame(wx.Frame):\n",
    "    def __init__(self, parent, title, size):\n",
    "        super().__init__(parent, title =title, size = size)\n",
    "        self.panel = MyPanel(self)\n",
    "        self.SetSizeHints(315,250, 315,250)\n",
    "\n",
    "class MyPanel(wx.Panel):\n",
    "    def __init__(self, parent):\n",
    "        super().__init__(parent)\n",
    "        self.Gui()\n",
    "\n",
    "    def Gui(self):\n",
    "        mainsizer = wx.BoxSizer(wx.VERTICAL)\n",
    "        sidesizer = wx.BoxSizer(wx.HORIZONTAL)\n",
    "        textsizer = wx.BoxSizer(wx.HORIZONTAL)\n",
    "\n",
    "        textsizer.Add(wx.StaticText(self, label=\"Red:\", size=(100,20)))\n",
    "        textsizer.Add(wx.StaticText(self, label=\"Green:\", size=(100,20)))\n",
    "        textsizer.Add(wx.StaticText(self, label=\"Blue:\", size=(100,20)))\n",
    "\n",
    "        self.first = wx.SpinCtrl(self, size=(100,20))\n",
    "        self.first.SetRange(0, 255)\n",
    "        self.first.SetValue(0)\n",
    "\n",
    "        self.second = wx.SpinCtrl(self, size=(100,20))\n",
    "        self.second.SetRange(0, 255)\n",
    "        self.second.SetValue(0)\n",
    "\n",
    "        self.third = wx.SpinCtrl(self, size=(100,20))\n",
    "        self.third.SetRange(0, 255)\n",
    "        self.third.SetValue(0)\n",
    "\n",
    "        sidesizer.Add(self.first)\n",
    "        sidesizer.Add(self.second)\n",
    "        sidesizer.Add(self.third)\n",
    "\n",
    "        self.cpnl  = wx.Panel(self, size=(300, 110))\n",
    "        self.cpnl.SetBackgroundColour(\"black\")\n",
    "\n",
    "        btn = wx.Button(self, label='Change Color', size=(300,20))\n",
    "        self.Bind(wx.EVT_BUTTON, self.onpress, btn)\n",
    "\n",
    "        self.idhex = wx.TextCtrl(self, value=\"#000000\", size=(300,20), style=wx.TE_CENTRE)\n",
    "\n",
    "        mainsizer.Add(textsizer)\n",
    "        mainsizer.Add(sidesizer)\n",
    "        mainsizer.Add(self.cpnl)\n",
    "        mainsizer.Add(btn, wx.ALIGN_CENTER)\n",
    "        mainsizer.Add(self.idhex)\n",
    "        self.SetSizer(mainsizer)\n",
    "\n",
    "    def onpress(self, event):\n",
    "        rn = self.first.GetValue()\n",
    "        gn = self.second.GetValue()\n",
    "        bn = self.third.GetValue()\n",
    "        hexnumber = '#%02x%02x%02x' % (rn, gn, bn)\n",
    "        self.cpnl.SetBackgroundColour(hexnumber)\n",
    "        self.cpnl.Refresh()\n",
    "        self.idhex.SetValue(hexnumber)\n",
    "\n",
    "class MyApp(wx.App):\n",
    "    def OnInit(self):\n",
    "        self.frame = MyFrame(parent=None, title=\"Color mixer\", size = (315,250))\n",
    "        self.frame.Show()\n",
    "        return True\n",
    "\n",
    "if __name__ == \"__main__\":\n",
    "    app=MyApp()\n",
    "    app.MainLoop()"
   ]
  },
  {
   "cell_type": "markdown",
   "metadata": {},
   "source": [
    "### GUI"
   ]
  },
  {
   "cell_type": "markdown",
   "metadata": {},
   "source": [
    "V tomhle programu jsme pro \"jednoduchost\" zakázali měnění velikosti (ve `wxGlade` lekci je mixér barev nastaven i na měnění velikosti). Objekty které budem potřebovat budou 3 inputy pro uživatele, dále panel pro zobrazování barvy a tlačítko pro aktualizaci barvy."
   ]
  },
  {
   "cell_type": "markdown",
   "metadata": {},
   "source": [
    "Na začátek si vytvoříme 1 vertikální sizer a 2 horizontální. Kdy do horizontálních vložíme popisky a samotná tlačítka vedle sebe na řádek. <br>\n",
    "Pro tlačítka využijeme speciální tlačítko `wx.SpinCtrl`, které bude pro využití vkládání čísel ideální. <br>\n",
    "[`wx.SpinCtrl`](https://wxpython.org/Phoenix/docs/html/wx.SpinCtrl.html) kombinuje klasický `wx.TextCtrl` s `wx.SpinButton` (šipky). Samotný prvek má již v sobě nastavenej event pro obě šipky, takže kliknutím na šipku se nám přidá +/- 1. Kdybychom si šipky vytvářeli skrz `wx.SpinButton` museli bychom vytvořit pro ně event."
   ]
  },
  {
   "cell_type": "markdown",
   "metadata": {},
   "source": [
    "![wx.SpinCtrl](img/SpinCtrl.png)"
   ]
  },
  {
   "cell_type": "markdown",
   "metadata": {},
   "source": [
    "Výhodou také je, že si můžeme pomocí funkce `SetRange` nastavíme minimální a maximální hodnotu, která když se přesáhne, tak automaticky přepíše k nejbližšímu \"dovolenému\" číslu. Metoda taky zajišťuje, že do něj uživatel může napsat pouze čísla. Tudíž tlačítko samotné nám řeší i problematiku kontroly vstupu pro uživatele."
   ]
  },
  {
   "cell_type": "markdown",
   "metadata": {},
   "source": [
    "V parametrech `wx.SpinCtrl` využijeme pouze velikost. Vyvoláme metodu zmíněnou `SetRange` od 0 do 255 a nastavíme základní hodnotu pomocí `SetValue`. Všechna tlačítka poté vložíme do sizeru. Nad ně ještě vytvoříme popisky pomocí `wx.StaticText` pro jednoduchost s pozicováním s parametrem `size` stejným jako u funkčních tlačítek."
   ]
  },
  {
   "cell_type": "raw",
   "metadata": {},
   "source": [
    "    def Gui(self):\n",
    "        mainsizer = wx.BoxSizer(wx.VERTICAL)\n",
    "        sidesizer = wx.BoxSizer(wx.HORIZONTAL)\n",
    "        textsizer = wx.BoxSizer(wx.HORIZONTAL)\n",
    "\n",
    "        textsizer.Add(wx.StaticText(self, label=\"Red:\", size=(100,20)))\n",
    "        textsizer.Add(wx.StaticText(self, label=\"Green:\", size=(100,20)))\n",
    "        textsizer.Add(wx.StaticText(self, label=\"Blue:\", size=(100,20)))\n",
    "\n",
    "        self.first = wx.SpinCtrl(self, size=(100,20))\n",
    "        self.first.SetRange(0, 255)\n",
    "        self.first.SetValue(0)\n",
    "\n",
    "        self.second = wx.SpinCtrl(self, size=(100,20))\n",
    "        self.second.SetRange(0, 255)\n",
    "        self.second.SetValue(0)\n",
    "\n",
    "        self.third = wx.SpinCtrl(self, size=(100,20))\n",
    "        self.third.SetRange(0, 255)\n",
    "        self.third.SetValue(0)\n",
    "\n",
    "        sidesizer.Add(self.first)\n",
    "        sidesizer.Add(self.second)\n",
    "        sidesizer.Add(self.third)"
   ]
  },
  {
   "cell_type": "markdown",
   "metadata": {},
   "source": [
    "Nyní si vytvoříme panel pro zobrazování barev. Nastavíme mu pouze velikost tak, aby zaplňovala celý `frame`. Dále nastavíme barvu na nulovou hodnotu RGB => #000000 neboli černá. Panel jsme vložili do proměnné se `self`, abychom mohli barvu měnit po spuštění `eventu`."
   ]
  },
  {
   "cell_type": "raw",
   "metadata": {},
   "source": [
    "        self.cpnl  = wx.Panel(self, size=(300, 110))\n",
    "        self.cpnl.SetBackgroundColour(\"black\")"
   ]
  },
  {
   "cell_type": "markdown",
   "metadata": {},
   "source": [
    "Dalším prvkem bude eventové tlačítko pro měnění barvy a nabindujeme mu event."
   ]
  },
  {
   "cell_type": "raw",
   "metadata": {},
   "source": [
    "        btn = wx.Button(self, label='Change Color', size=(300,20))\n",
    "        self.Bind(wx.EVT_BUTTON, self.onpress, btn)"
   ]
  },
  {
   "cell_type": "markdown",
   "metadata": {},
   "source": [
    "Ještě využijeme toho, že náš event převádí RGB do HEX a vytvoříme ještě `wx.TextCtrl`, které bude zobrazovat hex barvy."
   ]
  },
  {
   "cell_type": "raw",
   "metadata": {},
   "source": [
    "        self.idhex = wx.TextCtrl(self, value=\"#000000\", size=(300,20), style=wx.TE_CENTRE)"
   ]
  },
  {
   "cell_type": "markdown",
   "metadata": {},
   "source": [
    "Nakonec všechny prvky a sizery dáme do našeho hlavního vertikálního sizeru v pořádí v jakém je chceme mít."
   ]
  },
  {
   "cell_type": "markdown",
   "metadata": {},
   "source": [
    "### Logika"
   ]
  },
  {
   "cell_type": "markdown",
   "metadata": {},
   "source": [
    "Logikou našeho programu budou 3 vstupy, kdy do každého uživatel zadá čísla od 0 do 255. Tenhle input poté skrz jiné tlačítko převedeme z RGB do HEX, abychom mohli zobrazit barvu. Barvu zobrazíme v background barvě panelu uvnitř našeho hlavního panelu a ještě vytvoříme panel pro zobrazení HEX čísla. <br>\n",
    "U panelu si jedině musíme dát pozor, protože `panel` není tlačítko a tudíž se event automaticky neprovede. Toho docílíme pomocí metody `Refresh()`."
   ]
  },
  {
   "cell_type": "raw",
   "metadata": {},
   "source": [
    "    def onpress(self, event):\n",
    "        rn = self.first.GetValue()\n",
    "        gn = self.second.GetValue()\n",
    "        bn = self.third.GetValue()\n",
    "        hexnumber = '#%02x%02x%02x' % (rn, gn, bn)\n",
    "        self.cpnl.SetBackgroundColour(hexnumber)\n",
    "        self.cpnl.Refresh()\n",
    "        self.idhex.SetValue(hexnumber)"
   ]
  },
  {
   "cell_type": "markdown",
   "metadata": {},
   "source": [
    "Použili jsme jednoduchý převodník \"RGB to HEX\", který je přístupný na internetu, tudíž se nemusíme zabývat výpočty a řešením formátu."
   ]
  }
 ],
 "metadata": {
  "kernelspec": {
   "display_name": "Python 3",
   "language": "python",
   "name": "python3"
  },
  "language_info": {
   "codemirror_mode": {
    "name": "ipython",
    "version": 3
   },
   "file_extension": ".py",
   "mimetype": "text/x-python",
   "name": "python",
   "nbconvert_exporter": "python",
   "pygments_lexer": "ipython3",
   "version": "3.8.6"
  }
 },
 "nbformat": 4,
 "nbformat_minor": 4
}
