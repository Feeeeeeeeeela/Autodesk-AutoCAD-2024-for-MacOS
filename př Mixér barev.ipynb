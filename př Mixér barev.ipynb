{
 "cells": [
  {
   "cell_type": "markdown",
   "metadata": {},
   "source": [
    "# Mixér barev"
   ]
  },
  {
   "cell_type": "markdown",
   "metadata": {},
   "source": [
    "Názorný příklad programu pro mixování barev. Každá barva se dá namíchat pomocí červené, zelené a modré (RGB), přičemž každá barva má intenzitu od 0 do 255.\n",
    "![Vzhled programu](img/mix1.png)"
   ]
  },
  {
   "cell_type": "markdown",
   "metadata": {},
   "source": [
    "Celý kód:"
   ]
  },
  {
   "cell_type": "code",
   "execution_count": 1,
   "metadata": {},
   "outputs": [],
   "source": [
    "import wx\n",
    "\n",
    "class MyFrame(wx.Frame):\n",
    "    def __init__(self, parent, title, size):\n",
    "        super().__init__(parent, title =title, size = size)\n",
    "        self.panel = MyPanel(self)\n",
    "        self.SetSizeHints(300,250)\n",
    "\n",
    "class MyPanel(wx.Panel):\n",
    "    def __init__(self, parent):\n",
    "        super().__init__(parent)\n",
    "        self.Gui()\n",
    "\n",
    "    def Gui(self):\n",
    "        mainsizer = wx.BoxSizer(wx.VERTICAL)\n",
    "\n",
    "        textsizer = wx.BoxSizer(wx.HORIZONTAL)\n",
    "        \n",
    "        textsizer.Add(wx.StaticText(self, label=\"Red:\"),1)\n",
    "        textsizer.Add(wx.StaticText(self, label=\"Green:\"),1)\n",
    "        textsizer.Add(wx.StaticText(self, label=\"Blue:\"),1)\n",
    "\n",
    "        sidesizer = wx.BoxSizer(wx.HORIZONTAL)\n",
    "        \n",
    "        self.first = wx.SpinCtrl(self, wx.ID_ANY, \"0\", min=0, max=255)\n",
    "        self.second = wx.SpinCtrl(self, wx.ID_ANY, \"0\", min=0, max=255)\n",
    "        self.third = wx.SpinCtrl(self, wx.ID_ANY, \"0\", min=0, max=255)\n",
    "\n",
    "        sidesizer.Add(self.first,1)\n",
    "        sidesizer.Add(self.second,1)\n",
    "        sidesizer.Add(self.third,1)\n",
    "\n",
    "        self.cpnl  = wx.Panel(self)\n",
    "        self.cpnl.SetBackgroundColour(\"black\")\n",
    "\n",
    "        btnsizer = wx.BoxSizer(wx.VERTICAL)\n",
    "\n",
    "        btn = wx.Button(self, label='Change Color')\n",
    "        self.Bind(wx.EVT_BUTTON, self.onpress, btn)\n",
    "        self.idhex = wx.TextCtrl(self, value=\"#000000\", style=wx.TE_CENTRE)\n",
    "\n",
    "        btnsizer.Add(btn, 1, wx.EXPAND)\n",
    "        btnsizer.Add(self.idhex, 0, wx.EXPAND)\n",
    "\n",
    "        mainsizer.Add(textsizer, 0, wx.EXPAND)\n",
    "        mainsizer.Add(sidesizer, 0, wx.EXPAND)\n",
    "        mainsizer.Add(self.cpnl, 2, wx.EXPAND)\n",
    "        mainsizer.Add(btnsizer, 1, wx.EXPAND)\n",
    "        self.SetSizer(mainsizer)\n",
    "\n",
    "    def onpress(self, event):\n",
    "        rn = self.first.GetValue()\n",
    "        gn = self.second.GetValue()\n",
    "        bn = self.third.GetValue()\n",
    "        hexnumber = '#%02x%02x%02x' % (rn, gn, bn)\n",
    "        self.cpnl.SetBackgroundColour(hexnumber)\n",
    "        self.cpnl.Refresh()\n",
    "        self.idhex.SetValue(hexnumber)\n",
    "\n",
    "class MyApp(wx.App):\n",
    "    def OnInit(self):\n",
    "        self.frame = MyFrame(parent=None, title=\"Color mixer\", size = (315,250))\n",
    "        self.frame.Show()\n",
    "        return True\n",
    "\n",
    "if __name__ == \"__main__\":\n",
    "    app=MyApp()\n",
    "    app.MainLoop()"
   ]
  },
  {
   "cell_type": "markdown",
   "metadata": {},
   "source": [
    "### GUI"
   ]
  },
  {
   "cell_type": "markdown",
   "metadata": {},
   "source": [
    "Na začátek si ve framu nastavíme nejmenší možnou velikost okna."
   ]
  },
  {
   "cell_type": "code",
   "execution_count": null,
   "metadata": {},
   "outputs": [],
   "source": [
    "        self.SetSizeHints(300,250)"
   ]
  },
  {
   "cell_type": "markdown",
   "metadata": {},
   "source": [
    "Veškeré naše GUI vypíšeme do třídy panelu, kde si vytvoříme funkci `GUI`."
   ]
  },
  {
   "cell_type": "markdown",
   "metadata": {},
   "source": [
    "Podle obrázku můžeme vidět, že budeme potřebovat 3 inputy pro uživatele s popisky, panel pro vykreslení barvy, update tlačítko a text pro výpis hex čísla barvy."
   ]
  },
  {
   "cell_type": "markdown",
   "metadata": {},
   "source": [
    "Pro rozvržení objektů využijeme:\n",
    "* mainsizer - hlavní sizer, do kterého vložíme všechny prvky\n",
    "* textsizer - slouží k popiskům sidesizeru\n",
    "* sidesizer - jsou v něm obsaženy číselné inputy uživatele\n",
    "* btnsizer - obsahuje zbylé prvky (update tlačítka a text řádek)"
   ]
  },
  {
   "cell_type": "markdown",
   "metadata": {},
   "source": [
    "Vytvoříme si tedy mainsizer."
   ]
  },
  {
   "cell_type": "code",
   "execution_count": null,
   "metadata": {},
   "outputs": [],
   "source": [
    "        mainsizer = wx.BoxSizer(wx.VERTICAL)"
   ]
  },
  {
   "cell_type": "markdown",
   "metadata": {},
   "source": [
    "Nyní sizer pro popisky. Tlačítka slouží jen pro zobrazení textu, takže si je nemusíme ukládat do proměnných. Důležitým parametrem v metodě `Add` je `1` po definování tlačítka. Jedná se o již zmíněnou `proporci`. Musíme všem objektům proporci nastavit na stejné kladné číslo, abychom využili potenciál adaptování sizeru."
   ]
  },
  {
   "cell_type": "code",
   "execution_count": null,
   "metadata": {},
   "outputs": [],
   "source": [
    "        textsizer = wx.BoxSizer(wx.HORIZONTAL)\n",
    "        \n",
    "        textsizer.Add(wx.StaticText(self, label=\"Red:\"),1)\n",
    "        textsizer.Add(wx.StaticText(self, label=\"Green:\"),1)\n",
    "        textsizer.Add(wx.StaticText(self, label=\"Blue:\"),1)"
   ]
  },
  {
   "cell_type": "markdown",
   "metadata": {},
   "source": [
    "Nyní vyřešíme vstupy pro uživatele. <br> Pro vstup využijeme speciální tlačítko `wx.SpinCtrl`. <br>\n",
    "[`wx.SpinCtrl`](https://wxpython.org/Phoenix/docs/html/wx.SpinCtrl.html) kombinuje klasický `wx.TextCtrl` s `wx.SpinButton` (šipky). Samotný prvek má již v sobě nastavený event pro obě šipky, takže kliknutím na šipku se nám přidá +/- 1. Kdybychom si šipky vytvářeli skrz `wx.SpinButton` museli bychom vytvořit pro ně event. <br>\n",
    "Výhodou také je, že si v paramtrech nastavíme minimální a maximální hodnotu, která když se přesáhne, tak automaticky přepíše k nejbližšímu \"dovolenému\" číslu. Metoda taky zajišťuje, že do něj uživatel může napsat pouze čísla. Tudíž tlačítko samotné nám řeší i problematiku kontroly vstupu pro uživatele. <br>\n",
    "Při využívání \"specifických převytvořených\" tlačítek od `wx` musíme striktně dodržet první parametr `ID`. Dále nastavíme základní hodnotu a min/max hodnotu tlačítka. <br>\n",
    "Opět vše přidáme do sizeru jak při minulém `textsizeru`."
   ]
  },
  {
   "cell_type": "code",
   "execution_count": null,
   "metadata": {},
   "outputs": [],
   "source": [
    "        sidesizer = wx.BoxSizer(wx.HORIZONTAL)\n",
    "        \n",
    "        self.first = wx.SpinCtrl(self, wx.ID_ANY, \"0\", min=0, max=255)\n",
    "        self.second = wx.SpinCtrl(self, wx.ID_ANY, \"0\", min=0, max=255)\n",
    "        self.third = wx.SpinCtrl(self, wx.ID_ANY, \"0\", min=0, max=255)\n",
    "        \n",
    "        sidesizer.Add(self.first,1)\n",
    "        sidesizer.Add(self.second,1)\n",
    "        sidesizer.Add(self.third,1)"
   ]
  },
  {
   "cell_type": "markdown",
   "metadata": {},
   "source": [
    "Nyní si vytvoříme panel pro zobrazování barev do proměnné se `self`, kvůli eventu. \n",
    "Nastavíme ještě barvu při spuštění programu na černou, protože program se spustí s nulovými hodnotami (#000000 = černá)."
   ]
  },
  {
   "cell_type": "code",
   "execution_count": null,
   "metadata": {},
   "outputs": [],
   "source": [
    "        self.cpnl  = wx.Panel(self)\n",
    "        self.cpnl.SetBackgroundColour(\"black\")"
   ]
  },
  {
   "cell_type": "markdown",
   "metadata": {},
   "source": [
    "Vytvoříme nyní sizer pro 2 zbývající objekty. \n",
    "Prvním je hlavní tlačítko pro update, u kterého nabindujeme event. <br>\n",
    "Druhým je `TextCtrl` v proměnné se `self`, protože ho využijeme v eventové funkci. Nastavíme mu nulovou hodnotu \"černé\" a nastavíme formátování na střed. <br>\n",
    "V přidávání do sizeru použijeme u obou `flag` `wx.EXPAND` pro maximální roztáhnutí. Nenulovou proporci nastavíme pouze u tlačítka, protože nechceme, aby `TextCtrl` měnil svoji výšku. "
   ]
  },
  {
   "cell_type": "code",
   "execution_count": null,
   "metadata": {},
   "outputs": [],
   "source": [
    "        btnsizer = wx.BoxSizer(wx.VERTICAL)\n",
    "\n",
    "        btn = wx.Button(self, label='Change Color')\n",
    "        self.Bind(wx.EVT_BUTTON, self.onpress, btn)\n",
    "        self.idhex = wx.TextCtrl(self, value=\"#000000\", style=wx.TE_CENTRE)\n",
    "\n",
    "        btnsizer.Add(btn, 1, wx.EXPAND)\n",
    "        btnsizer.Add(self.idhex, 0, wx.EXPAND)"
   ]
  },
  {
   "cell_type": "markdown",
   "metadata": {},
   "source": [
    "Nakonec všechny naše sizery a panel vložíme do `mainsizeru`. V `Add` po názvu objektu nastavujeme opět parametr proporce a u každého objektu chceme, aby se roztáhl do největšího rozměru pomocí flagu `wx.EXPAND`. Proporci `textsizeru` a `sidesizer` nastavíme na neměnnou `0`. Zbylé objekty se roztahovat již mohou a panelu nastavíme proporci na `2`, aby zabíral nejvíce prostoru."
   ]
  },
  {
   "cell_type": "code",
   "execution_count": null,
   "metadata": {},
   "outputs": [],
   "source": [
    "        mainsizer.Add(textsizer, 0, wx.EXPAND)\n",
    "        mainsizer.Add(sidesizer, 0, wx.EXPAND)\n",
    "        mainsizer.Add(self.cpnl, 2, wx.EXPAND)\n",
    "        mainsizer.Add(btnsizer, 1, wx.EXPAND)\n",
    "        self.SetSizer(mainsizer)"
   ]
  },
  {
   "cell_type": "markdown",
   "metadata": {},
   "source": [
    "### Logika"
   ]
  },
  {
   "cell_type": "markdown",
   "metadata": {},
   "source": [
    "Logikou našeho programu jsou 3 vstupy, kdy každé obsahuje čísla od 0 do 255. Tenhle input poté skrz update tlačítko převedeme z RGB do HEX, abychom mohli zobrazit barvu. Barvu zobrazíme v background barvě panelu uvnitř našeho hlavního panelu a ještě přepíšeme text pro zobrazení HEX čísla. <br>\n",
    "U panelu si jedině musíme dát pozor, protože `panel` není tlačítko a tudíž se event automaticky neprovede. Toho docílíme pomocí metody `Refresh()`."
   ]
  },
  {
   "cell_type": "code",
   "execution_count": null,
   "metadata": {},
   "outputs": [],
   "source": [
    "    def onpress(self, event):\n",
    "        rn = self.first.GetValue()\n",
    "        gn = self.second.GetValue()\n",
    "        bn = self.third.GetValue()\n",
    "        hexnumber = '#%02x%02x%02x' % (rn, gn, bn)\n",
    "        self.cpnl.SetBackgroundColour(hexnumber)\n",
    "        self.cpnl.Refresh()\n",
    "        self.idhex.SetValue(hexnumber)"
   ]
  },
  {
   "cell_type": "markdown",
   "metadata": {},
   "source": [
    "Použili jsme jednoduchý převodník \"RGB to HEX\", který je přístupný na internetu, tudíž se nemusíme zabývat výpočty a řešením formátu."
   ]
  },
  {
   "cell_type": "markdown",
   "metadata": {},
   "source": [
    "# Mixér barev bez update tlačítka\n",
    "Další možností jak vylepšit program je oddělání update tlačítka, přičemž se program bude aktualizovat při změnách ve vstupech. K tomuhle nám poslouží jediný event `SpinCtrl` [EVT_SPINCTRL](https://docs.wxpython.org/wx.SpinCtrl.html#events-events-emitted-by-this-class), který proběhne při jakémkoliv \"updatu\" vstupu.      \n",
    "![Mixér barev](img/mix3.png)"
   ]
  },
  {
   "cell_type": "markdown",
   "metadata": {},
   "source": [
    "Jedinou změnou bylo odstranění tlačítka a vyřešení logiky pomocí `wx.EVT_SPINCTRL`."
   ]
  },
  {
   "cell_type": "code",
   "execution_count": null,
   "metadata": {},
   "outputs": [],
   "source": [
    "        self.Bind(wx.EVT_SPINCTRL, self.onpress)"
   ]
  },
  {
   "cell_type": "markdown",
   "metadata": {},
   "source": [
    "Celý kód:"
   ]
  },
  {
   "cell_type": "code",
   "execution_count": 1,
   "metadata": {},
   "outputs": [],
   "source": [
    "import wx\n",
    "\n",
    "class MyFrame(wx.Frame):\n",
    "    def __init__(self, parent, title, size):\n",
    "        super().__init__(parent, title =title, size = size)\n",
    "        self.panel = MyPanel(self)\n",
    "        self.SetSizeHints(300,250)\n",
    "\n",
    "class MyPanel(wx.Panel):\n",
    "    def __init__(self, parent):\n",
    "        super().__init__(parent)\n",
    "        self.Gui()\n",
    "\n",
    "    def Gui(self):\n",
    "        mainsizer = wx.BoxSizer(wx.VERTICAL)\n",
    "\n",
    "        textsizer = wx.BoxSizer(wx.HORIZONTAL)\n",
    "\n",
    "        textsizer.Add(wx.StaticText(self, label=\"Red:\"),1)\n",
    "        textsizer.Add(wx.StaticText(self, label=\"Green:\"),1)\n",
    "        textsizer.Add(wx.StaticText(self, label=\"Blue:\"),1)\n",
    "\n",
    "        sidesizer = wx.BoxSizer(wx.HORIZONTAL)\n",
    "\n",
    "        self.first = wx.SpinCtrl(self, wx.ID_ANY, \"0\", min=0, max=255)\n",
    "        self.second = wx.SpinCtrl(self, wx.ID_ANY, \"0\", min=0, max=255)\n",
    "        self.third = wx.SpinCtrl(self, wx.ID_ANY, \"0\", min=0, max=255)\n",
    "\n",
    "        sidesizer.Add(self.first,1)\n",
    "        sidesizer.Add(self.second,1)\n",
    "        sidesizer.Add(self.third,1)\n",
    "\n",
    "        self.cpnl  = wx.Panel(self)\n",
    "        self.cpnl.SetBackgroundColour(\"black\")\n",
    "\n",
    "        btnsizer = wx.BoxSizer(wx.VERTICAL)\n",
    "\n",
    "        self.idhex = wx.TextCtrl(self, value=\"#000000\", style=wx.TE_CENTRE)\n",
    "\n",
    "        btnsizer.Add(self.idhex, 0, wx.EXPAND)\n",
    "\n",
    "        mainsizer.Add(textsizer, 0, wx.EXPAND)\n",
    "        mainsizer.Add(sidesizer, 0, wx.EXPAND)\n",
    "        mainsizer.Add(self.cpnl, 1, wx.EXPAND)\n",
    "        mainsizer.Add(btnsizer, 0, wx.EXPAND)\n",
    "        self.SetSizer(mainsizer)\n",
    "\n",
    "        self.Bind(wx.EVT_SPINCTRL, self.onpress)\n",
    "\n",
    "    def onpress(self, event):\n",
    "        rn = self.first.GetValue()\n",
    "        gn = self.second.GetValue()\n",
    "        bn = self.third.GetValue()\n",
    "        hexnumber = '#%02x%02x%02x' % (rn, gn, bn)\n",
    "        self.cpnl.SetBackgroundColour(hexnumber)\n",
    "        self.cpnl.Refresh()\n",
    "        self.idhex.SetValue(hexnumber)\n",
    "\n",
    "class MyApp(wx.App):\n",
    "    def OnInit(self):\n",
    "        self.frame = MyFrame(parent=None, title=\"Color mixer\", size = (315,250))\n",
    "        self.frame.Show()\n",
    "        return True\n",
    "\n",
    "if __name__ == \"__main__\":\n",
    "    app=MyApp()\n",
    "    app.MainLoop()"
   ]
  }
 ],
 "metadata": {
  "kernelspec": {
   "display_name": "Python 3",
   "language": "python",
   "name": "python3"
  },
  "language_info": {
   "codemirror_mode": {
    "name": "ipython",
    "version": 3
   },
   "file_extension": ".py",
   "mimetype": "text/x-python",
   "name": "python",
   "nbconvert_exporter": "python",
   "pygments_lexer": "ipython3",
   "version": "3.8.6"
  }
 },
 "nbformat": 4,
 "nbformat_minor": 4
}
