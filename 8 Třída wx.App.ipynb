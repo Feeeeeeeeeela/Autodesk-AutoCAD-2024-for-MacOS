{
 "cells": [
  {
   "cell_type": "markdown",
   "metadata": {},
   "source": [
    "# Třída wx.App\n",
    "Jak jsme si zmínili při našem prvním přepsání do OOP, tak je pro další práci výhodnější vytvořit pro třídu, která přímo dědí z `wx.App`. Tohle nám později zjednodušší pozicování všech objektů, neboť si je budeme moct vypsat do samostatných tříd. Kód tím nejenže neztratí žádnou funkcionalitu, ale zároveň bude přehlednější."
   ]
  },
  {
   "cell_type": "code",
   "execution_count": null,
   "metadata": {},
   "outputs": [],
   "source": [
    "import wx\n",
    "\n",
    "class MyFrame(wx.Frame):\n",
    "    def __init__(self, parent, title, size):\n",
    "        super().__init__(parent, title = title, size = size)\n",
    "        \n",
    " \n",
    " \n",
    "class MyApp(wx.App):\n",
    "    def OnInit(self):\n",
    "        self.frame = MyFrame(parent=None, title=\"App\", size = (600,600))\n",
    "        self.frame.Show()\n",
    "        return True\n",
    "\n",
    "if __name__ == \"__main__\": \n",
    "    app=MyApp()\n",
    "    app.MainLoop()"
   ]
  },
  {
   "cell_type": "markdown",
   "metadata": {},
   "source": [
    "Úpravy oproti našemu dřívějšímu zapsání třídy `MyFrame` jsou takové, že nyní si parametry `parent`, `title` a `size` přepíšeme tak, abychom je mohli upravovat v nové třídě `MyApp`. <br>\n",
    "Třída `MyApp` dědí imporovanou třídu `wx.App`. Název první metody může být libovolný, ale podle nepsaných pravidel se nazývá `OnInit`. <br>\n",
    "Na dalších řádcích již upravujeme atributy `Framu`, které následně zobrazíme pomocí `Show()`. <br>\n",
    "Protože `wx.App` musí být v každém našem `wx` programu, tak nastavíme `return` metody na `True`. <br>\n",
    "Konečná podmínka zůstává stejná až na to, že do proměnné ukládáme celou třídu, kterou potom dáváme do `MainLoopu`."
   ]
  },
  {
   "cell_type": "markdown",
   "metadata": {},
   "source": [
    "### Přidání panelu\n",
    "Nyní si pro ukázku přidáme třídu pro `wx.Panel`."
   ]
  },
  {
   "cell_type": "code",
   "execution_count": null,
   "metadata": {},
   "outputs": [],
   "source": [
    "import wx\n",
    "\n",
    "class MyFrame(wx.Frame):\n",
    "    def __init__(self, parent, title, size):\n",
    "        super().__init__(parent, title =title, size = size)\n",
    "        self.panel = MyPanel(self)\n",
    " \n",
    " \n",
    "class MyPanel(wx.Panel):\n",
    "    def __init__(self, parent):\n",
    "        super().__init__(parent)\n",
    " \n",
    " \n",
    "class MyApp(wx.App):\n",
    "    def OnInit(self):\n",
    "        self.frame = MyFrame(parent=None, title=\"Panel Window\", size = (600,600))\n",
    "        self.frame.Show()\n",
    "        return True\n",
    " \n",
    "app = MyApp()\n",
    "app.MainLoop()"
   ]
  },
  {
   "cell_type": "markdown",
   "metadata": {},
   "source": [
    "Jediné změny proběhli u `MyFrame`, kde jsme připsali `panel`. <br>\n",
    "Dále samotná třída `MyPanel` vypadá podobně jako `MyFrame`, akorát si pro ukázku nenastavíme parametry. <br>\n",
    "Program je tedy připravený pro další práci."
   ]
  }
 ],
 "metadata": {
  "kernelspec": {
   "display_name": "Python 3",
   "language": "python",
   "name": "python3"
  },
  "language_info": {
   "codemirror_mode": {
    "name": "ipython",
    "version": 3
   },
   "file_extension": ".py",
   "mimetype": "text/x-python",
   "name": "python",
   "nbconvert_exporter": "python",
   "pygments_lexer": "ipython3",
   "version": "3.8.3"
  }
 },
 "nbformat": 4,
 "nbformat_minor": 4
}
