{
 "cells": [
  {
   "cell_type": "markdown",
   "metadata": {},
   "source": [
    "# První menu\n",
    "Následujíci program je vzorový příklad pro základní funkce \"bar menu\" (lišty)."
   ]
  },
  {
   "cell_type": "code",
   "execution_count": 3,
   "metadata": {},
   "outputs": [],
   "source": [
    "import wx\n",
    "\n",
    "class MyFrame(wx.Frame):\n",
    "    def __init__(self):\n",
    "        super().__init__(parent=None, title='Basic menu and status bar')\n",
    "        \n",
    "        self.Bar()\n",
    "        \n",
    "    def Bar(self):\n",
    "        menubar = wx.MenuBar()\n",
    "        firstbutton = wx.Menu()\n",
    "        secondbutton = wx.Menu()\n",
    "        \n",
    "        exititem = firstbutton.Append(wx.ID_EXIT, 'exit')\n",
    "        anotheritem = firstbutton.Append(wx.ID_ANY, 'second in first')\n",
    "        anotheritem = secondbutton.Append(wx.ID_ANY, 'second in second')\n",
    "        \n",
    "        menubar.Append(firstbutton, 'File')\n",
    "        menubar.Append(secondbutton, 'Second')\n",
    "        \n",
    "        self.SetMenuBar(menubar)\n",
    "        \n",
    "        self.Bind(wx.EVT_MENU, self.closebutton, exititem)\n",
    "        \n",
    "        self.Show()\n",
    "        \n",
    "    def closebutton(self, event):\n",
    "        self.Close(True)\n",
    "        \n",
    "        \n",
    "        \n",
    "        \n",
    "        \n",
    "if __name__ == \"__main__\": \n",
    "    app = wx.App()\n",
    "    frame = MyFrame()\n",
    "    app.MainLoop()    \n",
    "    "
   ]
  },
  {
   "cell_type": "markdown",
   "metadata": {},
   "source": [
    "Kód se nám tu rozrost o celou definici, do které je lepší celé menu psat, kvůli přehlednosti. <br>\n",
    "V základní `__init__` funkci jsme zapsali odkaz na využití naší nové funkce pomocí `self.Bar()` a funkci vykreslení `self.Show()` jsme dali na konec funkce menu. <br>"
   ]
  },
  {
   "cell_type": "markdown",
   "metadata": {},
   "source": [
    "```\n",
    "menubar = wx.MenuBar()\n",
    "firstbutton = wx.Menu()\n",
    "secondbutton = wx.Menu()``` <br>\n",
    "Na těhle třech řádcích jsme vytvořili celý základ menu. Aplikujeme zde funkce přímo z `wx`. Na prvním řádku vytváříme samotný řádek (lištu) menu a ukládáme ji do proměnné se kterou budem dál pracovat. Na zbývajících řádcích jsme si stejným způsobem vytvořili 2 položky na našem menu."
   ]
  },
  {
   "cell_type": "markdown",
   "metadata": {},
   "source": [
    "```\n",
    "exititem = firstbutton.Append(wx.ID_EXIT, 'exit', 'status')\n",
    "anotheritem = firstbutton.Append(wx.ID_ANY, 'second in first')\n",
    "anotheritem = secondbutton.Append(wx.ID_ANY, 'second in second')```<br>\n",
    "Na těhle řádcích přidáváme položky do rolovací lišty, které zobrazíme klikem na položky menu. <br>\n",
    "Napíšeme jim jejich jméno, které se může i opakovat v různých položkách menu, potom je přidáme do položek menu pomocí funkce `Append()`. Ve funkci jim definujeme `ID`. ID si rozebereme později, ale ve většině situací vždy stačí napsat `wx.ID_ANY`. Po ID již jen napíšeme text, který si bude zobrazovat."
   ]
  },
  {
   "cell_type": "markdown",
   "metadata": {},
   "source": [
    "```\n",
    "menubar.Append(firstbutton, 'File')\n",
    "menubar.Append(secondbutton, 'Second')``` Zde děláme víceméně to stejné, co v předchozím odstavci, akorát místo přidávání položek do rolovací lišty položek menu. Přidáváme samotné položky menu na lištu menu. Používá se znovu funkce `Append()`. Tentokrát s atributem názvu řádku a zobrazovaného textu v menu."
   ]
  },
  {
   "cell_type": "markdown",
   "metadata": {},
   "source": [
    "`self.SetMenuBar(menubar)` Tenhle řádek již neupravuje menu, ale spíše slouží pro Frame, aby se dozvěděl, že má zobrazit danou lištu nabídky."
   ]
  },
  {
   "cell_type": "markdown",
   "metadata": {},
   "source": [
    "Nakonec jsme přidali ještě event tlačítku, které jsme si ukázali v minulé lekci. Funkce `Bind()` zde napíšeme úpně stejně až na typ eventu `wx.EVT_MENU`. "
   ]
  },
  {
   "cell_type": "code",
   "execution_count": null,
   "metadata": {},
   "outputs": [],
   "source": []
  },
  {
   "cell_type": "code",
   "execution_count": null,
   "metadata": {},
   "outputs": [],
   "source": []
  }
 ],
 "metadata": {
  "kernelspec": {
   "display_name": "Python 3",
   "language": "python",
   "name": "python3"
  },
  "language_info": {
   "codemirror_mode": {
    "name": "ipython",
    "version": 3
   },
   "file_extension": ".py",
   "mimetype": "text/x-python",
   "name": "python",
   "nbconvert_exporter": "python",
   "pygments_lexer": "ipython3",
   "version": "3.8.3"
  }
 },
 "nbformat": 4,
 "nbformat_minor": 4
}
