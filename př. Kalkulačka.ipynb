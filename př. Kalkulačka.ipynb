{
 "cells": [
  {
   "cell_type": "markdown",
   "metadata": {},
   "source": [
    "# Kalkulačka"
   ]
  },
  {
   "cell_type": "code",
   "execution_count": null,
   "metadata": {},
   "outputs": [],
   "source": [
    "import wx\n",
    "\n",
    "class MyFrame(wx.Frame):\n",
    "    def __init__(self, parent, title, size):\n",
    "        super().__init__(parent, title =title, size = size)\n",
    "        self.panel = MyPanel(self)\n",
    "\n",
    "\n",
    "class MyPanel(wx.Panel):\n",
    "    def __init__(self, parent):\n",
    "        super().__init__(parent)\n",
    "        self.Gui()\n",
    "\n",
    "    def Gui(self):\n",
    "        mainsizer = wx.BoxSizer(wx.VERTICAL)\n",
    "\n",
    "        self.textpanel = wx.TextCtrl(self,-1, style=wx.TE_RIGHT)\n",
    "        self.textpanel.Disable()\n",
    "        mainsizer.Add(self.textpanel, 0, wx.EXPAND|wx.ALL, 5)\n",
    "\n",
    "        self.running = wx.StaticText(self)\n",
    "        mainsizer.Add(self.running, 0, wx.ALIGN_RIGHT)\n",
    "\n",
    "        buttons = ['7', '8', '9', '/','4', '5', '6', '*','1', '2', '3', '-','.', '0', '', '+']\n",
    "\n",
    "        btnsizer = wx.GridSizer(4,4,10,10)\n",
    "        for label in buttons:\n",
    "            btnsizer.Add(wx.Button(self, label=label), 0, wx.EXPAND)\n",
    "            #button.Bind(wx.EVT_BUTTON, updatebuttons)\n",
    "        mainsizer.Add(btnsizer, 1, wx.ALIGN_CENTER)\n",
    "\n",
    "        self.SetSizer(mainsizer)\n",
    "\n",
    "        equal = wx.Button(self, label='=')\n",
    "        #equal.Bind(wx.EVT_BUTTON, clear)\n",
    "        mainsizer.Add(equal, 0, wx.EXPAND|wx.ALL, 5)\n",
    "\n",
    "        clearbtn = wx.Button(self, label='Clear')\n",
    "        #clearbtn.Bind(wx.EVT_BUTTON, total)\n",
    "        mainsizer.Add(clearbtn, 0, wx.EXPAND|wx.ALL, 5)\n",
    "\n",
    "        self.SetSizer(mainsizer)\n",
    "\n",
    "    #def clear():\n",
    "\n",
    "    #def total()\n",
    "\n",
    "\n",
    "\n",
    "\n",
    "class MyApp(wx.App):\n",
    "    def OnInit(self):\n",
    "        self.frame = MyFrame(parent=None, title=\"Kalkulačka\", size = (400,400))\n",
    "        self.frame.Show()\n",
    "        return True\n",
    "\n",
    "app = MyApp()\n",
    "app.MainLoop()"
   ]
  }
 ],
 "metadata": {
  "kernelspec": {
   "display_name": "Python 3",
   "language": "python",
   "name": "python3"
  },
  "language_info": {
   "codemirror_mode": {
    "name": "ipython",
    "version": 3
   },
   "file_extension": ".py",
   "mimetype": "text/x-python",
   "name": "python",
   "nbconvert_exporter": "python",
   "pygments_lexer": "ipython3",
   "version": "3.8.3"
  }
 },
 "nbformat": 4,
 "nbformat_minor": 4
}
