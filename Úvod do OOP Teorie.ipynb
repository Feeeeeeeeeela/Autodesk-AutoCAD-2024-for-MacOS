{
 "cells": [
  {
   "cell_type": "markdown",
   "metadata": {},
   "source": [
    "# Úvod do objektově orientované programování\n",
    "K používání `wx` budeme muset znát i základní fungování objekově orientovaného programování [(OOP)](https://cs.wikipedia.org/wiki/Objektov%C4%9B_orientovan%C3%A9_programov%C3%A1n%C3%AD)\n",
    "Objektově orientovaný přístup v programování je jeden ze způsobu myšlení, designu a implementace programu, kde hlavní myšlenkou je **znovupoužitelnost**. Jedná se o takovou \"programátorskou filozofii\"."
   ]
  },
  {
   "cell_type": "markdown",
   "metadata": {},
   "source": [
    "Příkladem rozdílu mezi \"standartním programováním\" a OOP je to, že kdybychom stavěli dům v normálním programování, tak bychom potřebovali **každou** cihlu definovat a vykreslit. Tenhle přístup je velmi neefektivní, protože budeme v kódu neustále opakovat parametry každé cihly. V OOP vytvoříme tuhle cihlu jenom **jednou**, nastavíme ji parametry a potom ji jednodušše voláme znova a znova. Kód se nám tady o hodně zefektivní, zkrátí a zestruční. Pokud je někde chyba, stačí ji opravit na **jednom místě**, nikoliv abychom opravovali všechny komponenty."
   ]
  },
  {
   "cell_type": "markdown",
   "metadata": {},
   "source": [
    "## Základní pojmy:\n"
   ]
  },
  {
   "cell_type": "markdown",
   "metadata": {},
   "source": [
    "#### Objekt a jeho vlastnosti\n",
    "Základní jednotkou OOP je [Objekt](https://cs.wikipedia.org/wiki/Objekt_(informatika)), který obsahuje data a funkce.\n",
    "Z hlediska češtiny s objektem spočívá ještě jeden pojem a to je [entita](https://cs.wikipedia.org/wiki/Entita_(informatika)), která znamená náhodný objekt.  <br>\n",
    "Hlavní pointa OOP je taková, že hlavní logika programu spočívá v interakci právě mezi těmito objekty. Objekty by měly být natolik uzavřené a soběstačné, aby stejný objekt šel použít i někde jinde v kódu a naopak aby objekt mohl být v aplikaci nahrazen jiným objektem. <br>\n",
    "U každého objektu dále popisujeme jeho vlastnosti. Tyhle vlastnosti se dají rozdělit na **data** a **funkce**(v OOP terminologii data = **atributy**, funkce = **metody**).  Atributy jsou tedy data, které mají nějaké hodnoty. A metoda je jakákoliv operace. "
   ]
  },
  {
   "cell_type": "markdown",
   "metadata": {},
   "source": [
    "Př: kdybychom vytvořili objekt \"Slon\". Atributy tohodle objektu by byly například zda je velký, šedý, vrásčitý atd.<br> Metoda by byla, že dýchá, chodí nebo třeba pije."
   ]
  },
  {
   "cell_type": "markdown",
   "metadata": {},
   "source": [
    "#### Třída\n",
    "Třída je množina objektů s určitými vlastnostmi. Samotná třída **nedefinuje žádné objekty**, nýbrž udává jaké vlastnosti budou mít objekty dané třídy"
   ]
  },
  {
   "cell_type": "markdown",
   "metadata": {},
   "source": [
    "#### Instance\n",
    "[Instance](https://www.python-course.eu/python3_class_and_instance_attributes.php) je naopak od třídy **jeden konkrétní objekt**."
   ]
  },
  {
   "cell_type": "markdown",
   "metadata": {},
   "source": [
    "Příklad rozdílu mezi třídou a instancí by byl takový, že třída která nám zastupuje mobilní telefony bude mít atribut *Barva*. Instance poté atributu přidává hodnotu barvy. Takže třeba mobil bude *černý*. "
   ]
  },
  {
   "cell_type": "markdown",
   "metadata": {},
   "source": [
    "Dalšími důležitými pojmy jsou:\n",
    "#### Zapouzdření \n",
    "Které umožňuje skrýt některé metody a atributy tak, aby byli pouze použity jen pro třídu zevnitř.\n",
    "#### Skládání\n",
    "Jedná se o to, že třídy mohou mezi sebou navzájem sdílet metody a atributy. Př: Třída bude používat atribut jiné třídy.\n",
    "#### Dědičnost\n",
    "Dědičnost znamená to, že nějaký objekt (pod)třídy, která je závislá na atributech jiné \"vyšší\" třídy. Tak objekt **dědí** atributy té (nad)třídy"
   ]
  },
  {
   "cell_type": "markdown",
   "metadata": {},
   "source": [
    "Odkazy:<br> \n",
    "[Itnetwork](https://www.itnetwork.cz/python/oop/python-tutorial-uvod-do-objektove-orientovaneho-programovani)<br>\n",
    "http://pehapko.cz/oop/uvod"
   ]
  }
 ],
 "metadata": {
  "kernelspec": {
   "display_name": "Python 3",
   "language": "python",
   "name": "python3"
  },
  "language_info": {
   "codemirror_mode": {
    "name": "ipython",
    "version": 3
   },
   "file_extension": ".py",
   "mimetype": "text/x-python",
   "name": "python",
   "nbconvert_exporter": "python",
   "pygments_lexer": "ipython3",
   "version": "3.8.3"
  }
 },
 "nbformat": 4,
 "nbformat_minor": 4
}
