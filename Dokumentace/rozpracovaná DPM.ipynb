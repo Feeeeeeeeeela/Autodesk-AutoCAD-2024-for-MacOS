{
 "cells": [
  {
   "cell_type": "markdown",
   "metadata": {},
   "source": [
    "# DPM úkoly:\n",
    "* [x] abstrakt\n",
    "* [ ] úvod k pythonu\n",
    "* [ ] úvod do objektového programování\n",
    "* [ ] úvod k wxpythonu\n",
    "* [ ] úvod k jupyter notebooku"
   ]
  },
  {
   "cell_type": "markdown",
   "metadata": {},
   "source": [
    "## Abstrakt\n",
    "Cílem diplomové práce je vytvořit sbírku tutoriálů popisující základy knihovny wxWidgets v programovacím jazyce python. Samotná knihovna pythonu podporující wxWidgets se nazývá wxPython. Sbírka je určena pro studenty programování začínající s grafickým uživatelským rozhraní, kteří již mají za sebou základní zkušenosti s pythonem. Součástí tutoriálů je úvod do objektově orientovaného programování, které se při tvorbě grafického rozhraní využívá. Po dokončení základních tutoriálů je součástí sbírky i sada názorných příkladů, řešící základní jednoduché aplikace."
   ]
  },
  {
   "cell_type": "markdown",
   "metadata": {},
   "source": [
    "## úvod k pythonu\n",
    "Cílem této kapitoly je obecný úvod programovacího jazyka python.\n",
    "### Historie:\n",
    "Programovací jazyk Python byl navrhnut mezi roky 1990-1991 holaňdanem Guidem van Rossumem v národním výzkumném institutu pro matiku a informatiku ([CWI](https://cs.qaz.wiki/wiki/Centrum_Wiskunde_%26_Informatica)) v Amsterdamu. Samotné pojmenování pythonu nemá nic společného s druhem hada, neboť Van Rossum pojmenoval python po televizním pořadu anglické BBC [Monty Pythonův létající kruh](https://cs.qaz.wiki/wiki/Monty_Python%27s_Flying_Circus).\n",
    "\n",
    "První verzi kódu zveřejnil Van Rossum v únoru roku 1991 (verze 0.9.0). Již v této fázi vývoje bylo možné v pythonu pracovat s třídy a dědičnostmi. K dispozici již také byli i základní datové typy jako string, list či dict. V počátečním vydání obsahoval python [modulový systém](https://cs.qaz.wiki/wiki/Modular_programming).\n",
    "\n",
    "Python dosáhl verze 1 v lednu 1994. Novými funkcemi byla lambda a práce s [mapováním](https://cs.qaz.wiki/wiki/Map_(higher-order_function)), [filtrováním](https://cs.qaz.wiki/wiki/Filter_(higher-order_function)) a [redukování](https://cs.qaz.wiki/wiki/Fold_(higher-order_function)) [vyšších řádů](https://cs.qaz.wiki/wiki/Higher-order_function) (Funkce vyšších řádů berou jednu nebo více funkcí nebo atributů a jako výsledek vrací jednu funkci). Později Van Rossum opouští CWI a pokračuje na pythonu ve [CNRI](https://cs.qaz.wiki/wiki/Corporation_for_National_Research_Initiatives) (Korporace pro národní výzkumné iniciativy) ve Virginii. Další důležitou verzí je 1.4, kde se objevili [pojmenované parametry](https://cs.qaz.wiki/wiki/Named_parameter) nebo podpora komplexních čísel.\n",
    "\n",
    "Během Van Rossumova pobytu ve CNRI se institut snažil o zpřístupnění možnosti programování pro veřejnost se základním vzdělání. Tohle mělo později za následek menší \"šachování\" mezi licencemi pythonu 1.6, které měli za cíl získání [licence svobodného softwaru](https://cs.qaz.wiki/wiki/Free-software_license). Další verze 1.6.1 sice neobsahovala žádné důležité funkce, ale měla změněnou licenci na [GPL](https://cs.qaz.wiki/wiki/GNU_General_Public_License) (General Public License neboli bezplatná softwarová licence)."
   ]
  },
  {
   "cell_type": "code",
   "execution_count": null,
   "metadata": {},
   "outputs": [],
   "source": []
  }
 ],
 "metadata": {
  "kernelspec": {
   "display_name": "Python 3",
   "language": "python",
   "name": "python3"
  },
  "language_info": {
   "codemirror_mode": {
    "name": "ipython",
    "version": 3
   },
   "file_extension": ".py",
   "mimetype": "text/x-python",
   "name": "python",
   "nbconvert_exporter": "python",
   "pygments_lexer": "ipython3",
   "version": "3.8.6"
  }
 },
 "nbformat": 4,
 "nbformat_minor": 4
}
