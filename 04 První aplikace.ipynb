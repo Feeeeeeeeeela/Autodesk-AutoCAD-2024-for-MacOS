{
 "cells": [
  {
   "cell_type": "markdown",
   "metadata": {},
   "source": [
    "# První program\n",
    "Začneme nejjednodušší aplikací. Hello World! <br>\n",
    "Jedná se o pokus, zda jsme `wxPython` nainstalovali správně. Program zobrazí malé šedé okno. "
   ]
  },
  {
   "cell_type": "code",
   "execution_count": null,
   "metadata": {
    "scrolled": true
   },
   "outputs": [],
   "source": [
    "import wx\n",
    "\n",
    "app = wx.App()\n",
    "frame = wx.Frame(parent=None, title='Hello World!')\n",
    "frame.Show()\n",
    "app.MainLoop()"
   ]
  },
  {
   "cell_type": "markdown",
   "metadata": {},
   "source": [
    "Output: <br>![Hello world!](img/41.png) <br>"
   ]
  },
  {
   "cell_type": "raw",
   "metadata": {},
   "source": [
    "import wx"
   ]
  },
  {
   "cell_type": "markdown",
   "metadata": {},
   "source": [
    "Tenhle řádek [importuje knihovnu](https://www.itnetwork.cz/python/zaklady/python-tutorial-knihovny-math-a-random)\n",
    "`wxPython`, která zpřístupní všechny potřebné prvky knihovny `wx` pro práci. Veškeré funkce se vyvolají pomocí předpony `wx`."
   ]
  },
  {
   "cell_type": "raw",
   "metadata": {},
   "source": [
    "app = wx.App()"
   ]
  },
  {
   "cell_type": "markdown",
   "metadata": {},
   "source": [
    "Zde vytvoříme \"základní kámen\" celé knihovny. Jedná se o základní instanci (prvek) programu využívající knihovny `wx`. <br> [wx.App](https://wxpython.org/Phoenix/docs/html/wx.App.html)\n",
    "zajišťuje plnou inicializaci programu s `wxWidgets`. Instanci ukládáme do proměnné `app`, aby byla spustitelná."
   ]
  },
  {
   "cell_type": "raw",
   "metadata": {},
   "source": [
    "frame = wx.Frame(parent=None, title='Hello World')\n",
    "frame.Show()"
   ]
  },
  {
   "cell_type": "markdown",
   "metadata": {},
   "source": [
    "Nyní jsme vytvořili a zobrazili základní \"okno\" ([frame/rám](https://wxpython.org/Phoenix/docs/html/wx.Frame.html#methods)), do kterého později budeme vykreslovat další komponenty. <br>[Parametry](https://www.tutorialspoint.com/wxpython/wx_frame_class.htm) `wx.Frame` jsme nastavili na `parent=None`, protože `wx.Frame` bude sloužit jako základní (rodičovská) komponenta, která není závislá na žádných jiných. <br>\n",
    "Nastavíme zobrazovaný název \"okna\" v parametru `title`.<br> Celý `wx.Frame` uložíme do proměnné `frame`. Proměnnou poté zobrazíme pomocí funkce `Show()`. "
   ]
  },
  {
   "cell_type": "raw",
   "metadata": {},
   "source": [
    "app.MainLoop()"
   ]
  },
  {
   "cell_type": "markdown",
   "metadata": {},
   "source": [
    "Nakonec proměnnou `app` s instancí `wx.App` přidáme do funkce `MainLoop()`. <br> [Funkce](https://wxpython.org/Phoenix/docs/html/wx.App.html#wx.App.MainLoop)\n",
    "vytváří pro aplikaci nekonečnou smyčku, která zachytává všechny události a předává je aplikaci."
   ]
  },
  {
   "cell_type": "markdown",
   "metadata": {},
   "source": [
    "### Závěr:\n",
    "Nyní známe nejdůležitější a nenahradilné metody pro spuštění a využívání knihovny `wx`. <br>\n",
    "V další lekci si ukážeme přepsání programu do OOP a `StaticText`."
   ]
  }
 ],
 "metadata": {
  "kernelspec": {
   "display_name": "Python 3",
   "language": "python",
   "name": "python3"
  },
  "language_info": {
   "codemirror_mode": {
    "name": "ipython",
    "version": 3
   },
   "file_extension": ".py",
   "mimetype": "text/x-python",
   "name": "python",
   "nbconvert_exporter": "python",
   "pygments_lexer": "ipython3",
   "version": "3.8.6"
  }
 },
 "nbformat": 4,
 "nbformat_minor": 4
}
