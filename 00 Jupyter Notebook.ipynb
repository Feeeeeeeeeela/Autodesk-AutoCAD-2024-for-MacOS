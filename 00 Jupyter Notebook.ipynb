{
 "cells": [
  {
   "cell_type": "markdown",
   "metadata": {},
   "source": [
    "# Jupyter notebook\n",
    "`Jupyter notebook` je webová aplikace s otevřeným zdrojovým kódem. Umožňuje nám vytvářet a sdílet dokumenty, které obsahují funkční kód, rovnice, vizualizace atd."
   ]
  },
  {
   "cell_type": "markdown",
   "metadata": {},
   "source": [
    "### Instalace a spuštění Notebooku\n",
    "\n",
    "Je mnoho způsobů, jak `Jupyter notebook` otevřít, který se spouští v prohlížeči. Můžete jej otevřít přímo na oficiálních [stránkách](https://jupyter.org/)\n",
    "nebo si jej nainstalujete přímo do zařízení s nainstalovaným Pythonem skrze [pip](https://pypi.org/project/pip/)\n",
    "v [příkazové řádce](https://wintip.cz/534-jak-spoustet-prikazovy-radek-klavesovou-zkratkou).\n",
    "\n",
    "`pip install notebook`\n",
    "\n",
    "Program se poté spouští v příkazovém řádku napsáním:\n",
    "\n",
    "`jupyter notebook`\n",
    "\n",
    "`Jupyter notebook` je též součástí programů `Anaconda`, která vám vytvoří přímého zástupce nebo ho spustíte pomocí `Anadonca navigatoru`.\n",
    "\n",
    "Windows 10:\n",
    "\n",
    "![Anaconda Zástupce](img/13.png)\n",
    "\n",
    "Pokud při instalaci přes `pip` na **Windows** proběhla instalace úspěšně, ale v příkazovém řádku se program `Jupyter` nerozpoznává a vrací vám chybovou hlášku:\n",
    "\n",
    "`'jupyter' is not recognized as an internal or external command, operable program or batch file`\n",
    "\n",
    "Jedná se o chybu, kdy Windows nemůže najít cestu k systémové proměnné `Jupyteru` nebo k samotnému `Pythonu`, kde je `Jupyter` nainstalován\n",
    "(jedná se většinou o špatně nastavenou `Path` pythonu ve vašem zařízení). Řešením je buď přenastavení \n",
    "[Path](https://geek-university.com/python/add-python-to-the-windows-path/), nebo můžete program spustit jednoduše upraveným příkazem:\n",
    "\n",
    "`python -m notebook`"
   ]
  },
  {
   "cell_type": "markdown",
   "metadata": {},
   "source": [
    "### Využití:"
   ]
  },
  {
   "cell_type": "markdown",
   "metadata": {},
   "source": [
    "Výhodou Jupyteru je i to, že kód může být rozepsaný ve více \"buňkách\", takže mezi částmi kódu se dají jednoduše vložit popisky, vysvětlivky atd."
   ]
  },
  {
   "cell_type": "markdown",
   "metadata": {},
   "source": [
    "Existují 4 typy buňek:\n",
    "* Code - fungující kód\n",
    "* Markdown - poznámky\n",
    "* Raw NBConvert - nespustitelný kód\n",
    "* Heading - markdown s nadpisem"
   ]
  },
  {
   "cell_type": "markdown",
   "metadata": {},
   "source": [
    "Samotné buňky mohou být ve 2 stavech.\n",
    "* Stav pro psaní a úpravu\n",
    "* \"Zapnutý/spuštěný\" stav, kdy buňku nelze upravovat      \n",
    "\n",
    "Stavy buňěk se dají jednodušše změnit pomocí dvojkliku myši nebo spuštěním \"run\"."
   ]
  },
  {
   "cell_type": "markdown",
   "metadata": {},
   "source": [
    "Fungování kódu ve více buňkách si můžete vyzkoušet spuštěním následujících buňek:"
   ]
  },
  {
   "cell_type": "code",
   "execution_count": null,
   "metadata": {},
   "outputs": [],
   "source": [
    "name = str(input(\"Zadej své jméno \\n\"))"
   ]
  },
  {
   "cell_type": "markdown",
   "metadata": {},
   "source": [
    "Spuštění buňky a vyplnění inputu:\n",
    "![spuštění kódu](img/01.png)\n",
    "\n",
    "Je nutné si uvědomit, že rozdělení kódu má za následek, že pro správné fungování je potřeba zapnout všechny části ve správném pořadí. Mezery mezi buňkama kódu mohou být neomezené."
   ]
  },
  {
   "cell_type": "code",
   "execution_count": null,
   "metadata": {},
   "outputs": [],
   "source": [
    "print(f\"Hello {name}\")"
   ]
  },
  {
   "cell_type": "markdown",
   "metadata": {},
   "source": [
    "Spuštění buňky s outputem:\n",
    "![spuštění kódu](img/02.png)"
   ]
  },
  {
   "cell_type": "markdown",
   "metadata": {},
   "source": [
    "Nevýhodou v budoucích lekcích avšak je, že `Jupyter notebook` neobsahuje skripta `pythonw`, které podporují GUI programy. Absence těhle zásadních skript má za následek, že v pozdějších lekcích, kde se objevuje více tříd, `Kernel` (terminál Jupyteru) spustí úspěšně program jen jednou a napodruhé se okno zamrazí (je to způsobené nevymazáním Cache). Dá se tomu předejít, po prvním spuštěním kódu, restartem `Kernela`."
   ]
  },
  {
   "cell_type": "markdown",
   "metadata": {},
   "source": [
    "![Restart Kernera](img/12.png)"
   ]
  }
 ],
 "metadata": {
  "kernelspec": {
   "display_name": "Python 3",
   "language": "python",
   "name": "python3"
  },
  "language_info": {
   "codemirror_mode": {
    "name": "ipython",
    "version": 3
   },
   "file_extension": ".py",
   "mimetype": "text/x-python",
   "name": "python",
   "nbconvert_exporter": "python",
   "pygments_lexer": "ipython3",
   "version": "3.8.6"
  }
 },
 "nbformat": 4,
 "nbformat_minor": 4
}
