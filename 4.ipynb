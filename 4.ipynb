{
 "cells": [
  {
   "cell_type": "markdown",
   "metadata": {},
   "source": [
    "# První menu a status bar\n"
   ]
  },
  {
   "cell_type": "code",
   "execution_count": null,
   "metadata": {},
   "outputs": [],
   "source": [
    "import wx\n",
    "\n",
    "class MyFrame(wx.Frame):\n",
    "    def __init__(self):\n",
    "        super().__init__(parent=None, title='Basic menu and status bar')\n",
    "        \n",
    "        self.Bar()\n",
    "        \n",
    "    def Bar(self):\n",
    "        menubar = wx.MenuBar()\n",
    "        filebutton = wx.Menu()\n",
    "        secondbutton = wx.Menu()\n",
    "        exititem = filebutton.Append(wx.ID_ANY, 'exit', 'status: exit')\n",
    "        \n",
    "        menubar.Append(filebutton, 'File')\n",
    "        menubar.Append(secondbutton, 'Second')\n",
    "        \n",
    "        self.SetMenuBar(menubar)\n",
    "        \n",
    "        self.Bind(wx.EVT_MENU, self.closebutton, exititem)\n",
    "        \n",
    "        self.SetTitle(\"Window\")\n",
    "        self.Show()\n",
    "        \n",
    "    def closebutton(self, event):\n",
    "        self.Close(True)\n",
    "        \n",
    "        \n",
    "        \n",
    "        \n",
    "        \n",
    "if __name__ == \"__main__\": \n",
    "    app = wx.App()\n",
    "    frame = MyFrame()\n",
    "    app.MainLoop()    \n",
    "    "
   ]
  },
  {
   "cell_type": "code",
   "execution_count": null,
   "metadata": {},
   "outputs": [],
   "source": []
  }
 ],
 "metadata": {
  "kernelspec": {
   "display_name": "Python 3",
   "language": "python",
   "name": "python3"
  },
  "language_info": {
   "codemirror_mode": {
    "name": "ipython",
    "version": 3
   },
   "file_extension": ".py",
   "mimetype": "text/x-python",
   "name": "python",
   "nbconvert_exporter": "python",
   "pygments_lexer": "ipython3",
   "version": "3.8.3"
  }
 },
 "nbformat": 4,
 "nbformat_minor": 4
}
