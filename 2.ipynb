{
 "cells": [
  {
   "cell_type": "markdown",
   "metadata": {},
   "source": [
    "# První kroky\n",
    "\n",
    "### Komplikovanější zapsání\n",
    "Kód který jsme si napsali před chvílí slouží spíše pro test správného nainstalování `wx`.\n",
    "Jenže pro úplné využití `wx.Frame` musíme vytvořit `subclass`. Program dělá úplně to stejné co předchozí, jen je napsán lépe pro další expanze a přidání dalších funkcí."
   ]
  },
  {
   "cell_type": "code",
   "execution_count": 7,
   "metadata": {},
   "outputs": [
    {
     "data": {
      "text/plain": [
       "0"
      ]
     },
     "execution_count": 7,
     "metadata": {},
     "output_type": "execute_result"
    }
   ],
   "source": [
    "import wx\n",
    "\n",
    "class FirstFrame(wx.Frame):\n",
    "    def __init__(self):\n",
    "        super().__init__(parent=None, title=\"First frame\")\n",
    "        self.Show()\n",
    "                \n",
    "app = wx.App()\n",
    "frame = FirstFrame()\n",
    "app.MainLoop()"
   ]
  },
  {
   "cell_type": "markdown",
   "metadata": {},
   "source": [
    "Funkce `super()` "
   ]
  }
 ],
 "metadata": {
  "kernelspec": {
   "display_name": "Python 3",
   "language": "python",
   "name": "python3"
  },
  "language_info": {
   "codemirror_mode": {
    "name": "ipython",
    "version": 3
   },
   "file_extension": ".py",
   "mimetype": "text/x-python",
   "name": "python",
   "nbconvert_exporter": "python",
   "pygments_lexer": "ipython3",
   "version": "3.8.3"
  }
 },
 "nbformat": 4,
 "nbformat_minor": 4
}
