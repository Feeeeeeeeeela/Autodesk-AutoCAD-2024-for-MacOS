{
 "cells": [
  {
   "cell_type": "markdown",
   "metadata": {},
   "source": [
    "# Jupyter notebook\n",
    "`Jupyter notebook` je webová aplikace s otevřeným zdrojovým kódem. Umožňuje nám vytvářet a sdílet dokumenty, které obsahují tzv. \"živý\" kód, rovnice, vizualizace atd."
   ]
  },
  {
   "cell_type": "markdown",
   "metadata": {},
   "source": [
    "Výhodou Jupyteru je i to, že kód může být rozepsaný ve více \"buňkách\", takže mezi částmi kódu se dají jednoduše vložit popisky, vysvětlivky atd."
   ]
  },
  {
   "cell_type": "markdown",
   "metadata": {},
   "source": [
    "Existují 3 typy buňek:\n",
    "* Code - fungující kód\n",
    "* Markdown - poznámky\n",
    "* Raw NBConvert - nespustitelný kód"
   ]
  },
  {
   "cell_type": "markdown",
   "metadata": {},
   "source": [
    "Fungování kódu ve více buňkách si můžete vyzkoušet spuštěním následujících aplikací:"
   ]
  },
  {
   "cell_type": "code",
   "execution_count": null,
   "metadata": {},
   "outputs": [],
   "source": [
    "name = str(input(\"Zadej své jméno \\n\"))"
   ]
  },
  {
   "cell_type": "markdown",
   "metadata": {},
   "source": [
    "Je nutné si uvědomit, že rozdělení kódu má za následek, že pro správné fungování je potřeba zapnout všechny části ve správném pořadí. Mezery mezi buňkama kódu mohou být neomezené."
   ]
  },
  {
   "cell_type": "code",
   "execution_count": null,
   "metadata": {},
   "outputs": [],
   "source": [
    "print(f\"Hello {name}\")"
   ]
  },
  {
   "cell_type": "markdown",
   "metadata": {},
   "source": [
    "Nevýhodou v budoucích lekcích avšak je, že `Jupyter notebook` neobsahuje skripta `pythonw`, které podporují GUI programy. Absence těhle zásadních skript má za následek, že v pozdějších lekcích, kde se objevuje více tříd, `Kernel` (terminál Jupyteru) spustí úspěšně program jen jednou a napodruhé se okno zamrazí (je to způsobené nevymazáním Cache). Dá se tomu předejít, když po prvním spuštěním kódu manuálně restartujeme `Kernela`."
   ]
  },
  {
   "cell_type": "markdown",
   "metadata": {},
   "source": [
    "![Restart Kernera](img/12.png)"
   ]
  },
  {
   "cell_type": "markdown",
   "metadata": {},
   "source": [
    "# Instalace wxPython\n",
    "### Windows a macOS\n",
    "Instalace pomocí [pip](https://pypi.org/project/pip/)."
   ]
  },
  {
   "cell_type": "markdown",
   "metadata": {},
   "source": [
    "Pokud používáte Windows nebo macOS s již nainstalovaným Pythonem, níže uvedený příkaz v [příkazové řádce](https://wintip.cz/534-jak-spoustet-prikazovy-radek-klavesovou-zkratkou) stáhne příslušné soubory pro knihovnu `wx`, a nainstaluje je do vašeho prostředí. Nástroj pip, který při tom využijeme, by měl být obsažen při instalaci samotného Pythonu ve verzi 2.0 a vyšší."
   ]
  },
  {
   "cell_type": "raw",
   "metadata": {},
   "source": [
    "pip install wxPython"
   ]
  },
  {
   "cell_type": "markdown",
   "metadata": {},
   "source": [
    "Berte v potaz, že **Knihovna `wx` není zatím kompatibilní s pythonem 3.9** (listopad 2020)"
   ]
  },
  {
   "cell_type": "markdown",
   "metadata": {},
   "source": [
    "### Vývojová prostředí Conda nebo Anaconda\n",
    "Při práci v prostředích `Condy` nebo `Anacondy` (např. Spyder), můžete nainstalovat `wxPython` pomocí příkazu `conda install`."
   ]
  },
  {
   "cell_type": "raw",
   "metadata": {},
   "source": [
    "conda install -c anaconda wxpython"
   ]
  },
  {
   "cell_type": "markdown",
   "metadata": {},
   "source": [
    "Pokud máte nainstalovanou celou `Anacondu` ve svém počítači, můžete využít `Anaconda navigator`, kde si můžete vytvořít virtuální prostředí a v `CMD.exe Prompt` (který nainstalujete jedním kliknutím) můžete `wxpython` stáhnout pomocí zmíněného příkazu přes `pip`.    \n",
    "![Anaconda navigator](img/11.png)"
   ]
  },
  {
   "cell_type": "markdown",
   "metadata": {},
   "source": [
    "Úspěšnou instalaci `wxPython` můžete vyzkoušet zkopírováním a spuštěním následujících 6 řádků v prostředí s `Pythonem`: "
   ]
  },
  {
   "cell_type": "raw",
   "metadata": {},
   "source": [
    "import wx\n",
    "\n",
    "app = wx.App()\n",
    "frame = wx.Frame(parent=None, title='Hello World!')\n",
    "frame.Show()\n",
    "app.MainLoop()"
   ]
  },
  {
   "cell_type": "markdown",
   "metadata": {},
   "source": [
    "Program by vám měl spustit malé šedé okno. Pokud se tak stane, tak jste nainstalovali `wxPython` správně. <br> Při zobrazení erroru, kdy program nerozeznává knihovnu `wx`, je důležité si zkontrolovat, zda pracujeve v prostředí, kde jste si `wxPython` stáhli a nainstalovali. <br>\n",
    "Co program specificky vytváří, si dále vysvětlíme v první `wx` lekci."
   ]
  },
  {
   "cell_type": "markdown",
   "metadata": {},
   "source": [
    "Originál instalace najdete [zde](https://wxpython.org/pages/downloads/index.html)."
   ]
  },
  {
   "cell_type": "markdown",
   "metadata": {},
   "source": [
    "### Závěr:\n",
    "První lekce za námi. Nyní máme `wx.Python` a `Jupyter Notebook` úspěšně nainstalovaný a spustitelný. V další lekci si projdeme *teoreticky* základy do objektově-orientovaného programování."
   ]
  }
 ],
 "metadata": {
  "kernelspec": {
   "display_name": "Python 3",
   "language": "python",
   "name": "python3"
  },
  "language_info": {
   "codemirror_mode": {
    "name": "ipython",
    "version": 3
   },
   "file_extension": ".py",
   "mimetype": "text/x-python",
   "name": "python",
   "nbconvert_exporter": "python",
   "pygments_lexer": "ipython3",
   "version": "3.8.6"
  }
 },
 "nbformat": 4,
 "nbformat_minor": 4
}
