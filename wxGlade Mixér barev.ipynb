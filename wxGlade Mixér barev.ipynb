{
 "cells": [
  {
   "cell_type": "markdown",
   "metadata": {},
   "source": [
    "### Mixér barev ve wxGlade\n",
    "Pro ukázku si vytvoříme míxér barev z názorných příkladů, kde jsme kód psali ručně a jsme již seznámeni s problematikou."
   ]
  },
  {
   "cell_type": "markdown",
   "metadata": {},
   "source": [
    "![míxér barev](img/wxgladefinal_screen.png)"
   ]
  },
  {
   "cell_type": "markdown",
   "metadata": {},
   "source": [
    "Na začátku si vytvoříme základní frame.  <br>\n",
    "V pracovním okně by se nám měl vytvořit v hlavní aplikaci frame a automaticky se vytvoří jeho základní sizer:\n",
    "![1](img/wxglade1_screen.png)"
   ]
  },
  {
   "cell_type": "code",
   "execution_count": null,
   "metadata": {},
   "outputs": [],
   "source": []
  }
 ],
 "metadata": {
  "kernelspec": {
   "display_name": "Python 3",
   "language": "python",
   "name": "python3"
  },
  "language_info": {
   "codemirror_mode": {
    "name": "ipython",
    "version": 3
   },
   "file_extension": ".py",
   "mimetype": "text/x-python",
   "name": "python",
   "nbconvert_exporter": "python",
   "pygments_lexer": "ipython3",
   "version": "3.8.6"
  }
 },
 "nbformat": 4,
 "nbformat_minor": 4
}
