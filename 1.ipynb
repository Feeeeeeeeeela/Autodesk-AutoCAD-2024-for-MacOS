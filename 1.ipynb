{
 "cells": [
  {
   "cell_type": "markdown",
   "metadata": {},
   "source": [
    "# První program\n",
    "\n",
    "Začneme s nejjednoduššením aplikací wx.\n",
    "Program toho moc neudělá, jen zobrazí malé okno. Jedná se hlavně o pokus, zda jsme `wxPython` nainstalovali správně."
   ]
  },
  {
   "cell_type": "code",
   "execution_count": 1,
   "metadata": {
    "scrolled": true
   },
   "outputs": [
    {
     "data": {
      "text/plain": [
       "0"
      ]
     },
     "execution_count": 1,
     "metadata": {},
     "output_type": "execute_result"
    }
   ],
   "source": [
    "import wx\n",
    "\n",
    "app = wx.App()\n",
    "frame = wx.Frame(parent=None, title='Hello World!')\n",
    "frame.Show()\n",
    "app.MainLoop()"
   ]
  },
  {
   "cell_type": "markdown",
   "metadata": {},
   "source": [
    "Output: <br>![1](img/helloworld_screen.png)\n",
    "\n"
   ]
  },
  {
   "cell_type": "raw",
   "metadata": {},
   "source": [
    "import wx"
   ]
  },
  {
   "cell_type": "markdown",
   "metadata": {},
   "source": [
    "Tenhle řádek importuje wxPython modul. Tímhle se nám zpřístupní všechny funkce modulu `wx`. Veškeré jeho funkce se volají předpounou `wx`."
   ]
  },
  {
   "cell_type": "raw",
   "metadata": {},
   "source": [
    "app = wx.App()"
   ]
  },
  {
   "cell_type": "markdown",
   "metadata": {},
   "source": [
    "Zde se vytvoříme základní objekt aplikace. Každý program používající knihovnu `wx` musí vytvářet právě tento objekt. "
   ]
  },
  {
   "cell_type": "raw",
   "metadata": {},
   "source": [
    "frame = wx.Frame(parent=None, title='Hello World')\n",
    "frame.Show()"
   ]
  },
  {
   "cell_type": "markdown",
   "metadata": {},
   "source": [
    "Zde jsme vytvořili a zobrazili základní okno(frame/rám), do kterého budem vykreslovat další komponenty (je tedy rodičovskou komponentou. Rodičovský komponent `frame` jsme nastavili na `None`, což znamená že `frame` nemá žádného rodiče. Když už jsme vytvořeli komponentu `wx.Frame`, tak musíme zavolat metodu `Show()`, abychom okno vykreslili. "
   ]
  },
  {
   "cell_type": "raw",
   "metadata": {},
   "source": [
    "app.MainLoop()"
   ]
  },
  {
   "cell_type": "markdown",
   "metadata": {},
   "source": [
    "Poslední řádek vytváří pro aplikaci nekonečnoiu smyčku. Smyčka zachytává všechny události a předává je aplikaci."
   ]
  }
 ],
 "metadata": {
  "kernelspec": {
   "display_name": "Python 3",
   "language": "python",
   "name": "python3"
  },
  "language_info": {
   "codemirror_mode": {
    "name": "ipython",
    "version": 3
   },
   "file_extension": ".py",
   "mimetype": "text/x-python",
   "name": "python",
   "nbconvert_exporter": "python",
   "pygments_lexer": "ipython3",
   "version": "3.8.3"
  }
 },
 "nbformat": 4,
 "nbformat_minor": 4
}
