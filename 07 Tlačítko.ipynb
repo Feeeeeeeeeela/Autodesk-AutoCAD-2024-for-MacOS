{
 "cells": [
  {
   "cell_type": "markdown",
   "metadata": {},
   "source": [
    "# Tlačítko na panelu\n",
    "Nyní si vyzkoušíme vytvořit tlačítko. Aby mělo nějakou užitečnou funkci, vytvoříme tzv. exitbutton, který vypne naše okno."
   ]
  },
  {
   "cell_type": "code",
   "execution_count": null,
   "metadata": {},
   "outputs": [],
   "source": [
    "import wx\n",
    "\n",
    "class MyFrame(wx.Frame):    \n",
    "    def __init__(self):\n",
    "        super().__init__(parent=None, title='First button')\n",
    "        self.Show()\n",
    "        panel = wx.Panel(self, size=(80,80))\n",
    "        button = wx.Button(panel, label=\"exit\", size=(60,60))\n",
    "        self.Bind(wx.EVT_BUTTON, self.closebutton, button)\n",
    "        \n",
    "    def closebutton(self, event):\n",
    "        self.Close(True)\n",
    "    \n",
    "\n",
    "if __name__ == \"__main__\": \n",
    "    app = wx.App()\n",
    "    frame = MyFrame()\n",
    "    app.MainLoop()\n",
    "        "
   ]
  },
  {
   "cell_type": "markdown",
   "metadata": {},
   "source": [
    "Output:\n",
    "![Output](img/71.png)"
   ]
  },
  {
   "cell_type": "markdown",
   "metadata": {},
   "source": [
    "Jako první si vytvoříme `panel`, na který položíme tlačítko. Panel je lajdsky řečeno \"bílé pole\", které slouží k umísťování objektů na frame. Narozdíl od `framu` se s ním dá více pracovat jako s objektem. Parametry a přesnou definici `wx.Panel` najdeme v [Dokumentaci](https://wxpython.org/Phoenix/docs/html/wx.Panel.html#wx.Panel.__init__). <br>\n",
    "V našem případě `parent` panelu bude `self`, protože `panel` vytváříme přímo ve `framu` (později budeme `panel` vytvářet jako samostatný objekt). <br>\n",
    "Dalším parametrem `size` nastavíme velikost."
   ]
  },
  {
   "cell_type": "raw",
   "metadata": {},
   "source": [
    "panel = wx.Panel(self, size=(80,80))"
   ]
  },
  {
   "cell_type": "markdown",
   "metadata": {},
   "source": [
    "Nyní vytvoříme samotné tlačítko pomocí [`wx.Button`](https://wxpython.org/Phoenix/docs/html/wx.Button.html). Umístíme jej na `panel`. V [parametrech](https://wxpython.org/Phoenix/docs/html/wx.Button.html#methods) ještě nastavíme jeho zobrazovaný text `label` a velikost `size`. Tlačítko si uložíme do proměnné."
   ]
  },
  {
   "cell_type": "raw",
   "metadata": {},
   "source": [
    "button = wx.Button(panel, label=\"exit\", size=(60,60))"
   ]
  },
  {
   "cell_type": "markdown",
   "metadata": {},
   "source": [
    "Tlačítko samo o sobě nic nedělá, a proto mu přiřadíme 'event' pomocí metody [`Bind()`](https://wxpython.org/Phoenix/docs/html/events_overview.html#dynamic-event-handling). Napíšeme před metodu `self`, protože metoda bude čerpat z funkce mimo objekt.<br>\n",
    "Do parametrů funkce jako první nastavíme typ eventu pomocí `wx.EVT_...`. Typů eventu je celá řada v [dokumentaci](https://wxpython.org/Phoenix/docs/html/wx.CommandEvent.html), ale nám postačí event pro tlačítko `EVT_BUTTON` .<br>\n",
    "V dalším parametru bude vypsán event `self.closebutton`, který později napíšeme do samostatné funkce. <br>\n",
    "Posledním parametrem je naše tlačítko v proměnné `button`, kterým jsme si definovali objekt, na němž se bude aplikovat event."
   ]
  },
  {
   "cell_type": "raw",
   "metadata": {},
   "source": [
    "self.Bind(wx.EVT_BUTTON, self.closebutton, button)"
   ]
  },
  {
   "cell_type": "markdown",
   "metadata": {},
   "source": [
    "Nakonec vytvoříme samotnou funkci pro event, kterou definujeme napsáním `event` v parametrech objektu. <br>\n",
    "Pro vypnutí okna využijeme jednoduchou metodu `Close()` s parametrem `True`."
   ]
  },
  {
   "cell_type": "raw",
   "metadata": {},
   "source": [
    "def closebutton(self, event):\n",
    "    self.Close(True)"
   ]
  },
  {
   "cell_type": "markdown",
   "metadata": {},
   "source": [
    "### Závěr:\n",
    "V téhle lekci jsme se naučili základní syntaxi pro vytvoření tlačítka. Samotný `event` je velmi obecné téma, protože pro tlačítko můžeme vytvořit jakoukoliv logiku. Příště si ukážeme základní metody vstupu pro uživatele."
   ]
  }
 ],
 "metadata": {
  "kernelspec": {
   "display_name": "Python 3",
   "language": "python",
   "name": "python3"
  },
  "language_info": {
   "codemirror_mode": {
    "name": "ipython",
    "version": 3
   },
   "file_extension": ".py",
   "mimetype": "text/x-python",
   "name": "python",
   "nbconvert_exporter": "python",
   "pygments_lexer": "ipython3",
   "version": "3.8.6"
  }
 },
 "nbformat": 4,
 "nbformat_minor": 4
}
