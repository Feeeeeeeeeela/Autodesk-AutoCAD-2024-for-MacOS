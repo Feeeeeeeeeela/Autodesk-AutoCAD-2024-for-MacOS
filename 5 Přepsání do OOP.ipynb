{
 "cells": [
  {
   "cell_type": "markdown",
   "metadata": {},
   "source": [
    "# Komplikovanější zapsání\n",
    "Pro plné využití potenciálu `wx`, musíme kód přepsat do objektového programování tak, abychom vytvořili pro `frame` samostatnou třídu. Program zobrazí stejné okno jako předešlé lekci."
   ]
  },
  {
   "cell_type": "code",
   "execution_count": null,
   "metadata": {},
   "outputs": [],
   "source": [
    "import wx\n",
    "\n",
    "class MyFrame(wx.Frame):    \n",
    "    def __init__(self):\n",
    "        super().__init__(parent=None, title='Hello World')\n",
    "        self.Show()\n",
    "\n",
    "if __name__ == \"__main__\": \n",
    "    app = wx.App()\n",
    "    frame = MyFrame()\n",
    "    app.MainLoop()"
   ]
  },
  {
   "cell_type": "markdown",
   "metadata": {},
   "source": [
    "Zaprvé si vytvoříme třídu pro náš `frame`. Třída `frame` bude fungovat jako tzv. [rodičovský](https://cs.wikipedia.org/wiki/D%C4%9Bdi%C4%8Dnost_(objektov%C4%9B_orientovan%C3%A9_programov%C3%A1n%C3%AD)) objekt, do kterého později budeme vkládat další objekty.  V parametru třídy budeme dědit z naimportovaný `wx.Frame`.  <br>\n",
    "Dále provedeme standartně inicializační metodu třídy `__init__` s parametrem `self`. "
   ]
  },
  {
   "cell_type": "raw",
   "metadata": {},
   "source": [
    "class MyFrame(wx.Frame):    \n",
    "    def __init__(self):"
   ]
  },
  {
   "cell_type": "markdown",
   "metadata": {},
   "source": [
    "Dále kvůli dědění využijeme funkci `super()`, která vytáhne atributy děděné třídy `wx.Frame`. Všechny atributy `wx.Frame` můžeme najít v [oficiální dokumentaci](https://wxpython.org/Phoenix/docs/html/wx.Frame.html#wx.Frame.__init__). My si zatím vystačíme jen s parametry `parent=None` a `title` framu. <br>\n",
    "`parent` slouží k tomu, zda je objekt vázán na nějaký jiný \"vyšší\" objekt. V našem případě je samotný `frame` hlavním objektem, tudíž `parent` nastavíme na `None`. <br>\n",
    "`frame` zobrazíme pomocí `Show`, kdy nepoužijeme proměnnou obsahující `frame`, protože `frame` je přímo součástí třídy a stačí jej vyvolat pomocí atributu `self`. "
   ]
  },
  {
   "cell_type": "raw",
   "metadata": {},
   "source": [
    "        super().__init__(parent=None, title='Hello World')\n",
    "        self.Show()"
   ]
  },
  {
   "cell_type": "markdown",
   "metadata": {},
   "source": [
    "Nakonec napíšeme podmínku  `if __name__ == \"__main__\"`.<br> Podmínka funguje způsobem: "
   ]
  },
  {
   "cell_type": "raw",
   "metadata": {},
   "source": [
    "if __name__ == \"__main__\": \n",
    "    print \"Provede se při přímém vyvolání\"\n",
    "else: \n",
    "    print \"Provede se při importu\""
   ]
  },
  {
   "cell_type": "markdown",
   "metadata": {},
   "source": [
    "Kód v téhle podmínce bloku bude spuštěn, pouze pokud je tento modul vstupním bodem do vašeho programu."
   ]
  },
  {
   "cell_type": "markdown",
   "metadata": {},
   "source": [
    "Do zmíněné podmínky napíšeme vše důležité pro spuštění okna. <br>\n",
    "Eseciální instanci `wx.App`, spuštění třídy `MyFrame` a `MainLoop`. <br>\n",
    "`MyFrame` není potřeba psát do proměnné, jedná se totiž o \"programátorské\" nepsané pravidlo."
   ]
  },
  {
   "cell_type": "raw",
   "metadata": {},
   "source": [
    "if __name__ == \"__main__\": \n",
    "    app = wx.App()\n",
    "    frame = MyFrame()\n",
    "    app.MainLoop()"
   ]
  },
  {
   "cell_type": "markdown",
   "metadata": {},
   "source": [
    "# Velikost a pozice framu\n",
    "Velikost můžeme upravovat 2 způsoby. Buď přímo jako parametr objektu/framu, nebo funkcí `SetSize()`."
   ]
  },
  {
   "cell_type": "markdown",
   "metadata": {},
   "source": [
    "V této aplikaci jsme nastavovali size parametr přímo v objektu na šířku 400px a výšku 600px."
   ]
  },
  {
   "cell_type": "code",
   "execution_count": null,
   "metadata": {},
   "outputs": [],
   "source": [
    "import wx\n",
    "\n",
    "class MyFrame(wx.Frame):    \n",
    "    def __init__(self):\n",
    "        super().__init__(parent=None, title='Hello World', size=(400,600))\n",
    "        self.Show()\n",
    "\n",
    "if __name__ == \"__main__\": \n",
    "    app = wx.App()\n",
    "    frame = MyFrame()\n",
    "    app.MainLoop()"
   ]
  },
  {
   "cell_type": "markdown",
   "metadata": {},
   "source": [
    "Podobně můžeme nastavit i pozicování okna na obrazovce. Ve výchozím stavu se okno většinou otevře v levé horní části obrazovky (záleží na operačním systému, správci oken atd.). Existuje spousta způsobů, jak nastavit pozici. <br>Nejjednodušším je metoda `Move`, ve které přímo nastavíme pozici pomocí pixelů `(x,y)`."
   ]
  },
  {
   "cell_type": "code",
   "execution_count": null,
   "metadata": {},
   "outputs": [],
   "source": [
    "import wx\n",
    "\n",
    "class MyFrame(wx.Frame):    \n",
    "    def __init__(self):\n",
    "        super().__init__(parent=None, title='Hello World')\n",
    "        self.Show()\n",
    "        \n",
    "        self.Move(1000,500)\n",
    "\n",
    "if __name__ == \"__main__\": \n",
    "    app = wx.App()\n",
    "    frame = MyFrame()\n",
    "    app.MainLoop()"
   ]
  },
  {
   "cell_type": "markdown",
   "metadata": {},
   "source": [
    "Pokud chceme aplikaci vycentrovat na obrazovku, existuje šikovná metoda `Center()`. Není třeba počítat šířku ani výšku obrazovky, metoda to udělá automaticky za nás."
   ]
  },
  {
   "cell_type": "code",
   "execution_count": null,
   "metadata": {},
   "outputs": [],
   "source": [
    "import wx\n",
    "\n",
    "class MyFrame(wx.Frame):    \n",
    "    def __init__(self):\n",
    "        super().__init__(parent=None, title='Hello World')\n",
    "        self.Show()\n",
    "        \n",
    "        self.Centre()\n",
    "\n",
    "if __name__ == \"__main__\": \n",
    "    app = wx.App()\n",
    "    frame = MyFrame()\n",
    "    app.MainLoop()"
   ]
  }
 ],
 "metadata": {
  "kernelspec": {
   "display_name": "Python 3",
   "language": "python",
   "name": "python3"
  },
  "language_info": {
   "codemirror_mode": {
    "name": "ipython",
    "version": 3
   },
   "file_extension": ".py",
   "mimetype": "text/x-python",
   "name": "python",
   "nbconvert_exporter": "python",
   "pygments_lexer": "ipython3",
   "version": "3.8.6"
  }
 },
 "nbformat": 4,
 "nbformat_minor": 4
}
