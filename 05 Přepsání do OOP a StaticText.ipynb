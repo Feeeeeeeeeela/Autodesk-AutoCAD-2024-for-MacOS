{
 "cells": [
  {
   "cell_type": "markdown",
   "metadata": {},
   "source": [
    "# Přepsání do OOP\n",
    "Pro plné využití potenciálu `wx`, musíme kód přepsat do objektového programování tak, abychom vytvořili pro `frame` samostatnou třídu. Ukážeme si zde aji základní metodu pro zobrazení textu `wx.StaticText()`"
   ]
  },
  {
   "cell_type": "code",
   "execution_count": null,
   "metadata": {},
   "outputs": [],
   "source": [
    "import wx\n",
    "\n",
    "class MyFrame(wx.Frame):    \n",
    "    def __init__(self):\n",
    "        super().__init__(parent=None, title='Hello World')\n",
    "        \n",
    "        wx.StaticText(self, label=\"First\", style=wx.ALIGN_CENTER)\n",
    "        \n",
    "        self.Show()\n",
    "\n",
    "if __name__ == \"__main__\": \n",
    "    app = wx.App()\n",
    "    frame = MyFrame()\n",
    "    app.MainLoop()"
   ]
  },
  {
   "cell_type": "markdown",
   "metadata": {},
   "source": [
    "Output:\n",
    "![Output](img/51.png)"
   ]
  },
  {
   "cell_type": "markdown",
   "metadata": {},
   "source": [
    "Zaprvé si vytvoříme třídu pro náš `frame`. Třída `frame` bude fungovat jako tzv. [rodičovský](https://cs.wikipedia.org/wiki/D%C4%9Bdi%C4%8Dnost_(objektov%C4%9B_orientovan%C3%A9_programov%C3%A1n%C3%AD)) objekt, do kterého později budeme vkládat další objekty.  V parametru třídy budeme dědit z naimportovaný `wx.Frame`.  <br>\n",
    "Dále provedeme standartně metodu třídy `__init__` s parametrem `self`. "
   ]
  },
  {
   "cell_type": "raw",
   "metadata": {},
   "source": [
    "class MyFrame(wx.Frame):    \n",
    "    def __init__(self):"
   ]
  },
  {
   "cell_type": "markdown",
   "metadata": {},
   "source": [
    "Dále kvůli dědění využijeme funkci `super()`, která vytáhne atributy děděné třídy `wx.Frame`. Všechny atributy `wx.Frame` můžeme najít v [oficiální dokumentaci](https://wxpython.org/Phoenix/docs/html/wx.Frame.html#wx.Frame.__init__). My si zatím vystačíme jen s parametry `parent=None` a `title` framu. <br>\n",
    "`parent` slouží k tomu, zda je objekt vázán na nějaký jiný \"vyšší\" objekt. V našem případě je samotný `frame` hlavním objektem, tudíž `parent` nastavíme na `None`. <br>"
   ]
  },
  {
   "cell_type": "raw",
   "metadata": {},
   "source": [
    "        super().__init__(parent=None, title='Hello World')"
   ]
  },
  {
   "cell_type": "markdown",
   "metadata": {},
   "source": [
    "Nyní příchází čas využít `wx.StaticText` pro vytvoření jednoho řádku textu. <br>\n",
    "[Parametry](https://wxpython.org/Phoenix/docs/html/wx.StaticText.html#methods) je `parent`, `label` a dále `style`, kterým můžeme upravovat text. Všechny styly můžeme najít v [dokumentaci](https://wxpython.org/Phoenix/docs/html/wx.StaticText.html#styles-window-styles). <br>\n",
    "V našem případě je `parent = self`, protože objekt píšeme přímo do `__init__` framu. "
   ]
  },
  {
   "cell_type": "raw",
   "metadata": {},
   "source": [
    "        wx.StaticText(self, label=\"text\", style=wx.ALIGN_CENTER)"
   ]
  },
  {
   "cell_type": "markdown",
   "metadata": {},
   "source": [
    "`frame` zobrazíme pomocí `Show`, kdy nepoužijeme proměnnou obsahující `frame`, protože `frame` je přímo součástí třídy a stačí jej vyvolat pomocí atributu `self`. "
   ]
  },
  {
   "cell_type": "raw",
   "metadata": {},
   "source": [
    "        self.Show()"
   ]
  },
  {
   "cell_type": "markdown",
   "metadata": {},
   "source": [
    "Nakonec napíšeme podmínku  `if __name__ == \"__main__\"`.<br> Podmínka funguje způsobem: "
   ]
  },
  {
   "cell_type": "raw",
   "metadata": {},
   "source": [
    "if __name__ == \"__main__\": \n",
    "    print \"Provede se při přímém vyvolání\"\n",
    "else: \n",
    "    print \"Provede se při importu\""
   ]
  },
  {
   "cell_type": "markdown",
   "metadata": {},
   "source": [
    "Kód v téhle podmínce bloku bude spuštěn, pouze pokud je tento modul vstupním bodem do vašeho programu."
   ]
  },
  {
   "cell_type": "markdown",
   "metadata": {},
   "source": [
    "Do zmíněné podmínky napíšeme vše důležité pro spuštění okna. <br>\n",
    "Esenciální instanci `wx.App`, spuštění třídy `MyFrame` a `MainLoop`. <br>\n",
    "`MyFrame` není reálně potřeba psát do proměnné. Jedná se totiž o \"programátorské\" nepsané pravidlo."
   ]
  },
  {
   "cell_type": "raw",
   "metadata": {},
   "source": [
    "if __name__ == \"__main__\": \n",
    "    app = wx.App()\n",
    "    frame = MyFrame()\n",
    "    app.MainLoop()"
   ]
  },
  {
   "cell_type": "markdown",
   "metadata": {},
   "source": [
    "### Závěr:\n",
    "V téhle lekci jsme přepsali základní aplikaci do OOP a naučili jsme se vypsat základní text. Příště se vysvětlíme pozicování a velikost okna."
   ]
  }
 ],
 "metadata": {
  "kernelspec": {
   "display_name": "Python 3",
   "language": "python",
   "name": "python3"
  },
  "language_info": {
   "codemirror_mode": {
    "name": "ipython",
    "version": 3
   },
   "file_extension": ".py",
   "mimetype": "text/x-python",
   "name": "python",
   "nbconvert_exporter": "python",
   "pygments_lexer": "ipython3",
   "version": "3.8.6"
  }
 },
 "nbformat": 4,
 "nbformat_minor": 4
}
