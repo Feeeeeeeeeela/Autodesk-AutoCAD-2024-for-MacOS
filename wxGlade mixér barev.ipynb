{
 "cells": [
  {
   "cell_type": "markdown",
   "metadata": {},
   "source": [
    "# Míchač barev ve wxGlade"
   ]
  },
  {
   "cell_type": "markdown",
   "metadata": {},
   "source": [
    "Na začátek si vytvoříme základní `frame`."
   ]
  },
  {
   "cell_type": "markdown",
   "metadata": {},
   "source": [
    "Prvky: | Panel:\n",
    ":- | :- \n",
    "![prvky](img/gmix1.png) | ![secondbutton](img/gmix2.png) "
   ]
  },
  {
   "cell_type": "markdown",
   "metadata": {},
   "source": [
    "Základní frame se nám vytvoří automaticky se základním vertikálním sizerem s jedním polem.    \n",
    "Pravým kliknutím na sizer přidáme sloty sizeru, abychom jich měli 4.             "
   ]
  },
  {
   "cell_type": "markdown",
   "metadata": {},
   "source": [
    "Přidání sizerů: | Obsah sizerů (teoretický):\n",
    ":- | :- \n",
    "![přidání sizerů](img/gmix3.png) | 1. popisky vstupu <br> 2. samotné vstupy <br> 3. panel <br> 4. sizer s tlačítkem pro změnu a zobrazení hex čísla"
   ]
  },
  {
   "cell_type": "markdown",
   "metadata": {},
   "source": [
    "Do prvního pole vložíme vertikální sizer se 3 položkami. <br>\n",
    "Sizer přidáme:"
   ]
  },
  {
   "cell_type": "markdown",
   "metadata": {},
   "source": [
    "Klikneme si na sizer v liště: | Dalším kliknutím zvolíme slot do kterého sizer vložíme: | Sizer nastavíme:\n",
    ":- | :- | :-\n",
    "![prvky](img/gmix4.png) | ![vložení sizer](img/gmix5.png) | ![secondbutton](img/gmix6.png)"
   ]
  },
  {
   "cell_type": "markdown",
   "metadata": {},
   "source": [
    "Nyní přidáme 3x `statictext` stejným způsobem jako vložíme | S kliknutím na prvek se nám otevřou další nastavení\n",
    ":- | :- \n",
    "![statictext](img/gmix7.png) | ![statictext možnosti](img/gmix8.png)"
   ]
  },
  {
   "cell_type": "markdown",
   "metadata": {},
   "source": [
    "V možnostech najdeme veškeré nastavení každého widgetu.\n",
    "1. V Common je nejdůležitější `name`, kde nastavujeme jméno proměnné widgetu\n",
    "2. V Layout nastavujeme responzivní chování. Proporci, ohraničení a rozvržení\n",
    "3. Ve widgetu nastavujeme specifické atributy daného prvku (u statictextu je to zobrazovaný text a jeho styl)\n",
    "4. V Codu můžeme přímo psát funkcionalitu daných widgetů"
   ]
  },
  {
   "cell_type": "markdown",
   "metadata": {},
   "source": [
    "Nastavíme tedy každému `statictextu` jeho název a proporci na 1.\n",
    "Stejným způsobem uděláme i druhý slot, kde místo `statictextu` přidáme `spinctrl`.\n",
    "![Druhý slot](img/gmix9.png)"
   ]
  },
  {
   "cell_type": "markdown",
   "metadata": {},
   "source": [
    "Do 3. slotu vložíme panel, který najdeme vedle `framu`. Jeho proporci nastavíme na 2."
   ]
  },
  {
   "cell_type": "markdown",
   "metadata": {},
   "source": [
    "Nakonec vytvoříme poslední sizer pro tlačítko a outputu pro zobrazování hex čísla.\n",
    "1. Vložíme vertikální sizer s 2 slotama a proporcí 1.\n",
    "2. Do prvního slotu vložíme \"klasické\" tlačítko s proporcí 1 a jménem \"btn\" a textem \"Change Color\"![button](img/gmix10.png)\n",
    "3. Do druhého vložíme `textctrl` s proporcí 0 a jménem \"idhex\" ![textctrl](img/gmix11.png)"
   ]
  },
  {
   "cell_type": "markdown",
   "metadata": {},
   "source": [
    "Práci uložíme buď v listě nebo `CTRL+S`. Output si můžeme kdykoliv během práce zobrazit pomocí `F5`.\n",
    "![preview](img/gmix14.png)\n",
    "Pro převedení kódu do Pythonu klikneme na `Generate source` v hlavní aplikaci, v liště nebo zkratkou `CTRL+G`.\n",
    "![Generate source](img/gmix12.png)"
   ]
  },
  {
   "cell_type": "markdown",
   "metadata": {},
   "source": [
    "Můžeme si aji nastavit v hlavní aplikaci cestu outputu.\n",
    "![cesta outputu](img/gmix13.png)\n",
    "Samotný kód vypadá následovně:"
   ]
  },
  {
   "cell_type": "code",
   "execution_count": null,
   "metadata": {},
   "outputs": [],
   "source": [
    "import wx\n",
    "\n",
    "# begin wxGlade: dependencies\n",
    "# end wxGlade\n",
    "\n",
    "# begin wxGlade: extracode\n",
    "# end wxGlade\n",
    "\n",
    "\n",
    "class MyFrame(wx.Frame):\n",
    "    def __init__(self, *args, **kwds):\n",
    "        # begin wxGlade: MyFrame.__init__\n",
    "        kwds[\"style\"] = kwds.get(\"style\", 0) | wx.DEFAULT_FRAME_STYLE\n",
    "        wx.Frame.__init__(self, *args, **kwds)\n",
    "        self.SetSize((400, 300))\n",
    "        self.first = wx.SpinCtrl(self, wx.ID_ANY, \"0\", min=0, max=100)\n",
    "        self.second = wx.SpinCtrl(self, wx.ID_ANY, \"0\", min=0, max=100)\n",
    "        self.third = wx.SpinCtrl(self, wx.ID_ANY, \"0\", min=0, max=100)\n",
    "        self.cpnl = wx.Panel(self, wx.ID_ANY)\n",
    "        self.btn = wx.Button(self, wx.ID_ANY, \"Change Color\")\n",
    "        self.idhex = wx.TextCtrl(self, wx.ID_ANY, \"\", style=wx.TE_CENTRE)\n",
    "\n",
    "        self.__set_properties()\n",
    "        self.__do_layout()\n",
    "        # end wxGlade\n",
    "\n",
    "    def __set_properties(self):\n",
    "        # begin wxGlade: MyFrame.__set_properties\n",
    "        self.SetTitle(\"frame\")\n",
    "        # end wxGlade\n",
    "\n",
    "    def __do_layout(self):\n",
    "        # begin wxGlade: MyFrame.__do_layout\n",
    "        mainsizer = wx.BoxSizer(wx.VERTICAL)\n",
    "        btnsizer = wx.BoxSizer(wx.VERTICAL)\n",
    "        sidesizer = wx.BoxSizer(wx.HORIZONTAL)\n",
    "        textsizer = wx.BoxSizer(wx.HORIZONTAL)\n",
    "        label_1 = wx.StaticText(self, wx.ID_ANY, \"Red:\")\n",
    "        textsizer.Add(label_1, 1, 0, 0)\n",
    "        label_2 = wx.StaticText(self, wx.ID_ANY, \"Green:\")\n",
    "        textsizer.Add(label_2, 1, 0, 0)\n",
    "        label_3 = wx.StaticText(self, wx.ID_ANY, \"Blue:\")\n",
    "        textsizer.Add(label_3, 1, 0, 0)\n",
    "        mainsizer.Add(textsizer, 0, wx.EXPAND, 0)\n",
    "        sidesizer.Add(self.first, 1, 0, 0)\n",
    "        sidesizer.Add(self.second, 1, 0, 0)\n",
    "        sidesizer.Add(self.third, 1, 0, 0)\n",
    "        mainsizer.Add(sidesizer, 0, wx.EXPAND, 0)\n",
    "        mainsizer.Add(self.cpnl, 2, wx.EXPAND, 0)\n",
    "        btnsizer.Add(self.btn, 1, wx.EXPAND, 0)\n",
    "        btnsizer.Add(self.idhex, 0, wx.EXPAND, 0)\n",
    "        mainsizer.Add(btnsizer, 1, wx.EXPAND, 0)\n",
    "        self.SetSizer(mainsizer)\n",
    "        self.Layout()\n",
    "        # end wxGlade\n",
    "\n",
    "# end of class MyFrame\n",
    "\n",
    "class MyApp(wx.App):\n",
    "    def OnInit(self):\n",
    "        self.frame = MyFrame(None, wx.ID_ANY, \"\")\n",
    "        self.SetTopWindow(self.frame)\n",
    "        self.frame.Show()\n",
    "        return True\n",
    "\n",
    "# end of class MyApp\n",
    "\n",
    "if __name__ == \"__main__\":\n",
    "    app = MyApp(0)\n",
    "    app.MainLoop()"
   ]
  },
  {
   "cell_type": "markdown",
   "metadata": {},
   "source": [
    "Kód nyní můžeme doplnit o funkcionalitu."
   ]
  }
 ],
 "metadata": {
  "kernelspec": {
   "display_name": "Python 3",
   "language": "python",
   "name": "python3"
  },
  "language_info": {
   "codemirror_mode": {
    "name": "ipython",
    "version": 3
   },
   "file_extension": ".py",
   "mimetype": "text/x-python",
   "name": "python",
   "nbconvert_exporter": "python",
   "pygments_lexer": "ipython3",
   "version": "3.8.6"
  }
 },
 "nbformat": 4,
 "nbformat_minor": 4
}
