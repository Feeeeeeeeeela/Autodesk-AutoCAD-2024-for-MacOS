{
 "cells": [
  {
   "cell_type": "markdown",
   "metadata": {},
   "source": [
    "# Třída wx.App\n",
    "Dalším odbornějším způsobem zápisu je vytvoření samostatné třídy pro `wx.App`. <br>\n",
    "Zjednodušuje a zpřehledňuje všechny objekty, neboť je budeme vypisovat do samostatných tříd."
   ]
  },
  {
   "cell_type": "code",
   "execution_count": null,
   "metadata": {},
   "outputs": [],
   "source": [
    "import wx\n",
    "\n",
    "class MyFrame(wx.Frame):\n",
    "    def __init__(self, parent, title, size):\n",
    "        super().__init__(parent, title = title, size = size)\n",
    "        \n",
    " \n",
    " \n",
    "class MyApp(wx.App):\n",
    "    def OnInit(self):\n",
    "        self.frame = MyFrame(parent=None, title=\"App\", size = (600,600))\n",
    "        self.frame.Show()\n",
    "        return True\n",
    "\n",
    "if __name__ == \"__main__\": \n",
    "    app=MyApp()\n",
    "    app.MainLoop()"
   ]
  },
  {
   "cell_type": "markdown",
   "metadata": {},
   "source": [
    "Rozdílem zapsání třídy `wx.Frame` je, že třída dědí parametry `parent`, `title` a `size` do nové třídy `MyApp`. Dále do téhle třídy budeme vypisovat nové třídy objektů.<br>\n",
    "V nové třídě `wx.App` v první funkci, která se většinou nazývá `OnInit`, upravíme děděné parametry `wx.Framu` a zobrazíme je pomocí `Show()`. <br>\n",
    "Protože `wx.App` je esenciální pro každý `wx` program, nastavíme `return` metody na `True`. <br>\n",
    "V konečné podmínce opět využíváme funkci `MainLoop` s proměnnou, která obsahuje třídu `wx.App`."
   ]
  },
  {
   "cell_type": "markdown",
   "metadata": {},
   "source": [
    "### Přidání panelu\n",
    "Nyní si ukážeme vytvoření `wx.Panel` v novém přepsání."
   ]
  },
  {
   "cell_type": "code",
   "execution_count": null,
   "metadata": {},
   "outputs": [],
   "source": [
    "import wx\n",
    "\n",
    "class MyFrame(wx.Frame):\n",
    "    def __init__(self, parent, title, size):\n",
    "        super().__init__(parent, title =title, size = size)\n",
    "        self.panel = MyPanel(self)\n",
    " \n",
    " \n",
    "class MyPanel(wx.Panel):\n",
    "    def __init__(self, parent):\n",
    "        super().__init__(parent)\n",
    " \n",
    " \n",
    "class MyApp(wx.App):\n",
    "    def OnInit(self):\n",
    "        self.frame = MyFrame(parent=None, title=\"Panel Window\", size = (600,600))\n",
    "        self.frame.Show()\n",
    "        return True\n",
    " \n",
    "if __name__ == \"__main__\": \n",
    "    app=MyApp()\n",
    "    app.MainLoop()"
   ]
  },
  {
   "cell_type": "markdown",
   "metadata": {},
   "source": [
    "Ve třídě `wx.Frame` přidáme naši novou třídu s panelem. <br>\n",
    "Třídu `wx.Panel` jsme nastavili jen nezbytnými parametry pro spuštění. <br>"
   ]
  },
  {
   "cell_type": "markdown",
   "metadata": {},
   "source": [
    "### Závěr:\n",
    "Doposud jsme se učili \"konkrétní\" základy využívání knihovny `wx`. <br> Programování je avšak komplexní svoji logikou, kdy se neustále učíme nové problematiky a jejich implementaci v kódu. Neexistuje na to žádný jeden konkrétní tutoriál. Tohle platí i pro knihovnu `wx`. <br>\n",
    "V dalších materiálech najdete: \n",
    "* **problematika** - rozebíraní různých užitečných metod\n",
    "* **názorné příklady** - příklady zabívající se řešením konkrétních úloh"
   ]
  }
 ],
 "metadata": {
  "kernelspec": {
   "display_name": "Python 3",
   "language": "python",
   "name": "python3"
  },
  "language_info": {
   "codemirror_mode": {
    "name": "ipython",
    "version": 3
   },
   "file_extension": ".py",
   "mimetype": "text/x-python",
   "name": "python",
   "nbconvert_exporter": "python",
   "pygments_lexer": "ipython3",
   "version": "3.8.6"
  }
 },
 "nbformat": 4,
 "nbformat_minor": 4
}
