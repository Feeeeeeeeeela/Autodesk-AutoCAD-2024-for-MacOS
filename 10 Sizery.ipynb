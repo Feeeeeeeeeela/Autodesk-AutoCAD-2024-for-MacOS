{
 "cells": [
  {
   "cell_type": "markdown",
   "metadata": {},
   "source": [
    "# Základ k Sizerům\n",
    "Existují 2 typy pozicování. **Absolutní**, kdy zadáváme přímo x a y každému objektu (tohle jsme aplikovali v našech dřívějších programech). Tenhle postup není samozřejmě efektnivní, protože velikost oken se neustále mění nejen podle uživatele, ale i podle vkládaných objektů nebo třeba závisí na hardwaru.<br> Od toho existuje **relativní** pozicování, které se **adaptuje** podle velikosti okna."
   ]
  },
  {
   "cell_type": "markdown",
   "metadata": {},
   "source": [
    "Na pomoc nám tu přichází tzv \"sizer\", který slouží jako \"abstrakní\" třída užívaná k rozložení dílčích prvků v oknech. Existují 2 typy Sizeru. <br> [`wx.BoxSizer`](https://wxpython.org/Phoenix/docs/html/wx.BoxSizer.html#wx-boxsizer) a [`wx.GridSizer`](https://wxpython.org/Phoenix/docs/html/wx.GridSizer.html#wx-gridsizer).<br>\n",
    "`wx.BoxSizer` nám slouží pro jednoduché rozložení, většinou do sloupců a řádků. <br>\n",
    "Oproti tomu `wx.GridSizer` vytváří dvourozměrnou \"mřížku\", kde pole téhle mřížky mají stejnou velikost. Přičemž šířka/výška každého pole je šířka/výška největšího prvku. <br>\n",
    "Sizery jsou nejdůležitějšími typy objektů, které vám určují celkové grafické chování a rozložení aplikace. Avšak bohužel mají velmi kompikovanou syntaxi, která se dá dělat metodou \"pokus omyl\". V pozdější části tutorialů nám k tomuhle slouží aplikace `wxGlade`. "
   ]
  },
  {
   "cell_type": "markdown",
   "metadata": {},
   "source": [
    "### BoxSizer()\n",
    "Jedná se o \"jednodušší\" sizer, který většinou užíváme pro 1 či pár objektů. Vytváříme ho pomocí metody `wx.BoxSizer()`, u kterého zde můžeme zvolit pouze mezi dvěma parametry. A to `wx.VERTICAL` a `wx.HORIZONTAL`. Paradoxem je, že **Vertikální** sizer nám přidává položky **pod sebe** a **horizontální** zase **vedle sebe**."
   ]
  },
  {
   "cell_type": "code",
   "execution_count": null,
   "metadata": {},
   "outputs": [],
   "source": [
    "import wx\n",
    "\n",
    "class MyFrame(wx.Frame):\n",
    "    def __init__(self, parent, title):\n",
    "        super(MyFrame, self).__init__(parent, title=title, size=(600,600))\n",
    "        MyPanel(self)\n",
    "        \n",
    "class MyPanel(wx.Panel):\n",
    "    def __init__(self, parent):\n",
    "        super().__init__(parent)\n",
    "        \n",
    "        vbox = wx.BoxSizer(wx.VERTICAL)\n",
    "        hbox = wx.BoxSizer(wx.HORIZONTAL)\n",
    "        \n",
    "        label1 = wx.StaticText(self, label=\"First in vertical\", style=wx.ALIGN_CENTER)\n",
    "        vbox.Add(label1, 0, wx.EXPAND)\n",
    "\n",
    "        label2 = wx.StaticText(self, label=\"Second in vertical\", style=wx.ALIGN_CENTER)\n",
    "        vbox.Add(label2, 0, wx.EXPAND)\n",
    "        \n",
    "        label3 = wx.StaticText(self, label=\"First in hotizontal\")\n",
    "        hbox.Add(label3,0, wx.EXPAND)\n",
    "        \n",
    "        label4 = wx.StaticText(self, label=\"Second in hotizontal\")\n",
    "        hbox.Add(label4,0, wx.EXPAND)\n",
    "        \n",
    "        vbox.Add(hbox)\n",
    "        self.SetSizer(vbox)     \n",
    "        \n",
    "class MyApp(wx.App):\n",
    "    def OnInit(self):\n",
    "        self.frame = MyFrame(parent=None, title=\"Panel Window\")\n",
    "        self.frame.Show()\n",
    "        return True\n",
    " \n",
    " \n",
    " \n",
    "if __name__ == \"__main__\": \n",
    "    app=MyApp()\n",
    "    app.MainLoop()"
   ]
  },
  {
   "cell_type": "markdown",
   "metadata": {},
   "source": [
    "Output:    \n",
    "![Output](img/111.png)"
   ]
  },
  {
   "cell_type": "markdown",
   "metadata": {},
   "source": [
    "V našem programu jsme si vytvořili v `Panelu` na začátek oba typy sizerů. Pro obsah jsme vytvořili 4x `wx.StaticText()`. U těch které dáváme do vertikálního sizeru si pro zkoušku přidáme `style=wx.ALIGN_CENTER`, abychom si zkusili, že při měnění velikosti okna, text zůstává vycentrován.\n",
    "<br> \n",
    "Do sizerů jsme objekty přidali pomocí metody `Add()`, kdy [parametry](https://wxpython.org/Phoenix/docs/html/wx.Sizer.html#wx.Sizer.Add) jsou `window`, `proportion` a `flag`."
   ]
  },
  {
   "cell_type": "code",
   "execution_count": null,
   "metadata": {},
   "outputs": [],
   "source": [
    "vbox.Add(label1, 0, wx.EXPAND)"
   ]
  },
  {
   "cell_type": "markdown",
   "metadata": {},
   "source": [
    "* `window` nám označuje přidávaný objekt. <br>\n",
    "* `propotion` je speciální parametr používaný jen při `BoxSizerech`. Slouží k označení zda prvek bude měnit svoji velikost při měnění velikosti okna. <br>\n",
    "`0` způsobuje, že se objekt nemění. <br>\n",
    "Čísla `0+` slouží při tom, kdy máme více položek v sizeru a chceme, aby se velikost měnili jen určité položky. <br>\n",
    "* Poslední našim užívaným parametrem je tzv. `flag`, které nastavuje chování (jedná se o nejdůležitější atribut, který je zároveň nejtěžší nastavit). Celý seznam můžete najít [zde](https://wxpython.org/Phoenix/docs/html/wx.Sizer.html#phoenix-title-sizer-flags). V našem případě `wx.EXPAND` zařizuje, že se položka \"roztáhne\" do celé velikosti, kdykoliv bude okno dostatečně veliké pro její zobrazení."
   ]
  },
  {
   "cell_type": "markdown",
   "metadata": {},
   "source": [
    "Pro lepší pochopení a vysvětlení `proporcí` a `flagů` je nejlepší využít aplikaci `wxGlade`, kde se tyhle parametry dají jednodušše \"naklikat\" a provedené změny se vám hnedka promítají (viz `wxGlade` dokumentace tutoriálu)."
   ]
  },
  {
   "cell_type": "markdown",
   "metadata": {},
   "source": [
    "Příklad nastavení sizerů ve `wxGlade`:\n",
    "![wxGlade layout parametry](img/112.png)"
   ]
  },
  {
   "cell_type": "markdown",
   "metadata": {},
   "source": [
    "Pro vykreslení Sizeru máme metodu `SetSizer()` s předponou `self`, abychom ji vyvolali v nášem `framu`. Znovu se nám v kódu objevuje funkce `Add()` ale tentokrát přidáváme sizer k sizeru, protože kdybychom je vyvolali oba, tak by se překrývaly. V praxi se tedy nejčastěji používá jeden sizer, který obsahuje jako položky další sizery."
   ]
  },
  {
   "cell_type": "code",
   "execution_count": null,
   "metadata": {},
   "outputs": [],
   "source": [
    "vbox.Add(hbox)\n",
    "self.SetSizer(vbox) "
   ]
  },
  {
   "cell_type": "markdown",
   "metadata": {},
   "source": [
    "V příkladě jsme si ukázali pouze jednoduchou aplikaci, ale téma pozicování a konkrétně sizerů je velmi rozsáhlé a nastavuje se vždy ke konkrétním aplikacím. Různá rozvržení můžeme najít na internetu nebo autoři `wx` vytvořili pár [příkladů](https://wxpython.org/Phoenix/docs/html/sizers_overview.html#wx-sizers-the-visual-approach)"
   ]
  },
  {
   "cell_type": "markdown",
   "metadata": {},
   "source": [
    "### GridSizer()"
   ]
  },
  {
   "cell_type": "markdown",
   "metadata": {},
   "source": [
    "Druhým typem sizeru je `GridSizer`, který nám vytváří mřížku."
   ]
  },
  {
   "cell_type": "code",
   "execution_count": 1,
   "metadata": {},
   "outputs": [],
   "source": [
    "import wx\n",
    "\n",
    "class MyFrame(wx.Frame):\n",
    "    def __init__(self, parent, title, size):\n",
    "        super().__init__(parent, title =title, size = size)\n",
    "        self.panel = MyPanel(self)\n",
    " \n",
    " \n",
    "class MyPanel(wx.Panel):\n",
    "    def __init__(self, parent):\n",
    "        super().__init__(parent)\n",
    "        \n",
    "        gridsizer = wx.GridSizer(5,4,10,10)\n",
    "        \n",
    "        for i in range(20):\n",
    "            btn = \"Button\" + str(i)\n",
    "            \n",
    "            gridsizer.Add(wx.Button(self, label = btn), 0, wx.EXPAND)\n",
    "            \n",
    "        self.SetSizer(gridsizer)\n",
    " \n",
    " \n",
    "class MyApp(wx.App):\n",
    "    def OnInit(self):\n",
    "        self.frame = MyFrame(parent=None, title=\"Panel Window\", size = (600,600))\n",
    "        self.frame.Show()\n",
    "        return True\n",
    " \n",
    "if __name__ == \"__main__\": \n",
    "    app=MyApp()\n",
    "    app.MainLoop()"
   ]
  },
  {
   "cell_type": "markdown",
   "metadata": {},
   "source": [
    "Output:\n",
    "![output](img/113.png)"
   ]
  },
  {
   "cell_type": "markdown",
   "metadata": {},
   "source": [
    "Podobně si v `panelu` vytvoříme sizer. Tentokrát pomocí metody `wx.GridSizer`. Parametry metody jsou: <br>(počet objektů horizontálně, počet objektů vertikálně, mezera mezi objekty horizontálně, mezera mezi objekty vertikálně) <br>\n",
    "Pomocí cyklu `for` jsme si vytvořili 20 různých tlačítek a přidali je do našeho `gridsizeru` pomocí metody `Add()`, kde jsme si vytvářeli tlačítka přímo v metodě. <br> Nakonec sizer zobrazíme pomocí `SetSizer`."
   ]
  },
  {
   "cell_type": "markdown",
   "metadata": {},
   "source": [
    "I tak jak jsme v minulém programu o `BoxSizerech` vkládali sizer do sizeru, tak to stejné platí i při `GridSizeru`. Tohle můžeme aplikovat aji, že využijeme oba typy sizerů."
   ]
  },
  {
   "cell_type": "markdown",
   "metadata": {},
   "source": [
    "### Závěr:\n",
    "Nyní známe základní syntaxi obou typů sizerů. Avšak celý základ využití sizerů stojí na jejich parametrech, které se liší podle využití. Doposud jsme si vysvětlovali absolutní základy využití funkcí knihovny `wx`. <br> Programování je avšak komplexní svoji logikou, kdy se neustále učíme nové problematiky a jejich implementaci v kódu. Neexistuje na to žádný jeden konkrétní tutoriál. <br>\n",
    "V další části tutoriálu si rozebereme praktické příklady."
   ]
  }
 ],
 "metadata": {
  "kernelspec": {
   "display_name": "Python 3",
   "language": "python",
   "name": "python3"
  },
  "language_info": {
   "codemirror_mode": {
    "name": "ipython",
    "version": 3
   },
   "file_extension": ".py",
   "mimetype": "text/x-python",
   "name": "python",
   "nbconvert_exporter": "python",
   "pygments_lexer": "ipython3",
   "version": "3.8.6"
  }
 },
 "nbformat": 4,
 "nbformat_minor": 4
}
