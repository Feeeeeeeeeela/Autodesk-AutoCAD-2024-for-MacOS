{
 "cells": [
  {
   "cell_type": "markdown",
   "metadata": {},
   "source": [
    "# title\n",
    "## major headings\n",
    "### subheadings\n",
    "#### 4th level subheadings\n",
    "__string__ <br>\n",
    "_string_ <br>\n",
    "**string** <br>\n",
    "*string* <br>\n",
    "$ mathematical symbols $ <br>\n",
    "<font color=blue>Text</font> <br>\n",
    "`jo` <br>\n",
    "<br>\n",
    "```for jo in range(12)\n",
    "    jo```"
   ]
  },
  {
   "cell_type": "markdown",
   "metadata": {},
   "source": [
    "# První kroky\n",
    "V téhle části si vyzkoušíme základní používání.\n",
    "\n",
    "### První program\n",
    "\n",
    "Začneme s nejjednoduššením aplikací wx.\n",
    "Program toho moc neudělá, jen zobrazí malé okno. Skript tu budeme analyzovat řádek po řádku."
   ]
  },
  {
   "cell_type": "raw",
   "metadata": {},
   "source": [
    "import wx\n",
    "\n",
    "app = wx.App()\n",
    "frame = wx.Frame(parent=None, title='Hello World')\n",
    "frame.Show()\n",
    "app.MainLoop()"
   ]
  },
  {
   "cell_type": "markdown",
   "metadata": {},
   "source": [
    "![1](img/helloworld_screen.png)\n",
    "\n"
   ]
  },
  {
   "cell_type": "raw",
   "metadata": {},
   "source": [
    "import wx"
   ]
  },
  {
   "cell_type": "markdown",
   "metadata": {},
   "source": [
    "Tenhle řádek importuje wxPython modul. Tímhle se nám zpřístupní všechny funkce modulu `wx`. Veškeré jeho funkce se volají předpounou `wx`."
   ]
  },
  {
   "cell_type": "raw",
   "metadata": {},
   "source": [
    "app = wx.App()"
   ]
  },
  {
   "cell_type": "markdown",
   "metadata": {},
   "source": [
    "Zde se vytvoříme základní objekt aplikace. Každý program používající knihovnu `wx` musí vytvářet právě tento objekt. "
   ]
  },
  {
   "cell_type": "raw",
   "metadata": {},
   "source": [
    "frame = wx.Frame(parent=None, title='Hello World')\n",
    "frame.Show()"
   ]
  },
  {
   "cell_type": "markdown",
   "metadata": {},
   "source": [
    "Zde jsme vytvořili a zobrazili základní okno(frame/rám), do kterého budem vykreslovat další komponenty (je tedy rodičovskou komponentou. Rodičovský komponent `frame` jsme nastavili na `None`, což znamená že `frame` nemá žádného rodiče. Když už jsme vytvořeli komponentu `wx.Frame`, tak musíme zavolat metodu `Show()`, abychom okno vykreslili. "
   ]
  },
  {
   "cell_type": "raw",
   "metadata": {},
   "source": [
    "app.MainLoop()"
   ]
  },
  {
   "cell_type": "markdown",
   "metadata": {},
   "source": [
    "Poslední řádek vytváří pro aplikaci nekonečnoiu smyčku. Smyčka zachytává všechny události a předává je aplikaci."
   ]
  }
 ],
 "metadata": {
  "kernelspec": {
   "display_name": "Python 3",
   "language": "python",
   "name": "python3"
  },
  "language_info": {
   "codemirror_mode": {
    "name": "ipython",
    "version": 3
   },
   "file_extension": ".py",
   "mimetype": "text/x-python",
   "name": "python",
   "nbconvert_exporter": "python",
   "pygments_lexer": "ipython3",
   "version": "3.8.3"
  }
 },
 "nbformat": 4,
 "nbformat_minor": 4
}
