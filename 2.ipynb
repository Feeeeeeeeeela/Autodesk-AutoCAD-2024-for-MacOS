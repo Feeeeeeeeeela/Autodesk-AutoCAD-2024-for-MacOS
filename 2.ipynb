{
 "cells": [
  {
   "cell_type": "markdown",
   "metadata": {},
   "source": [
    "### Komplikovanější zapsání\n",
    "Pro plné využití potenciálu `wx`, musíme kód přepsat tak, aby samotný objekt `wx.Frame` měl vlastní třídu. Program zobrazí úplně stejné okno jako předtím, ale samotný kód je napsán objektově. Takhle na začátku sice vypadá komplikovaněji než úvodní program, ale umožňuje další využití a je přehlednější."
   ]
  },
  {
   "cell_type": "code",
   "execution_count": 4,
   "metadata": {},
   "outputs": [],
   "source": [
    "import wx\n",
    "\n",
    "class MyFrame(wx.Frame):    \n",
    "    def __init__(self):\n",
    "        super().__init__(parent=None, title='Hello World')\n",
    "        self.Show()\n",
    "\n",
    "if __name__ == \"__main__\": \n",
    "    app = wx.App()\n",
    "    frame = MyFrame()\n",
    "    app.MainLoop()\n"
   ]
  },
  {
   "cell_type": "markdown",
   "metadata": {},
   "source": [
    "[Inicializační](http://howto.py.cz/cap12.htm) metoda třídy `__init__` zajišťuje, abychom nemuseli při každé nové deklaraci vytvářet atributy ručně.\n",
    "Takhle se vyhneme zbytečným errorům kvůli nedeklarovaným datovým hodnotám."
   ]
  },
  {
   "cell_type": "markdown",
   "metadata": {},
   "source": [
    "V kódu je využita funkce `super()`, která nám umožňuje se vyhnout výslovnému názvu třídy a zároveň umožňuje práci s více dědičnostmi."
   ]
  },
  {
   "cell_type": "markdown",
   "metadata": {},
   "source": [
    "Objevuje se zde i podmínka `if __name__ == \"__main__\":`, která funguje způsobem: <br>\n",
    "```if __name__ == \"__main__\": \n",
    "    print \"Provede se při přímém vyvolání\"\n",
    "else: \n",
    "    print \"Provede se při importu\"``` <br>\n",
    "Takže kód v téhle podmínce bloku bude spuštěn, pouze pokud je tento modul vstupním bodem do vašeho programu."
   ]
  },
  {
   "cell_type": "markdown",
   "metadata": {},
   "source": [
    "### Velikost a pozice framu\n",
    "Velikost můžeme upravovat 2 způsoby. Buď přímo jako parametr našeho objektu/framu nebo funkcí `SetSize()`."
   ]
  },
  {
   "cell_type": "code",
   "execution_count": 5,
   "metadata": {},
   "outputs": [],
   "source": [
    "import wx\n",
    "\n",
    "class MyFrame(wx.Frame):    \n",
    "    def __init__(self):\n",
    "        super().__init__(parent=None, title='Hello World', size=(400,600))\n",
    "        self.Show()\n",
    "\n",
    "if __name__ == \"__main__\": \n",
    "    app = wx.App()\n",
    "    frame = MyFrame()\n",
    "    app.MainLoop()"
   ]
  },
  {
   "cell_type": "markdown",
   "metadata": {},
   "source": [
    "V téhle aplikaci jsme nastavovali size parametr přímo objektu/framu na šířku 400px a výšku 60px."
   ]
  },
  {
   "cell_type": "markdown",
   "metadata": {},
   "source": [
    "Podobně můžeme i nastavit pozicování našeho okna na obrazovce. Bez výchozím stavu se okno většinou otevře v levé horní části obrazovky(někdy to může změnit operační systém nebo správce oken atd.). Existuje vícero způsobů, jak nastavit pozici. V dalším příkladě je použita funkce `Move(x,y)` ve které přímo nastavíme pozici pomocí pixelů."
   ]
  },
  {
   "cell_type": "code",
   "execution_count": 10,
   "metadata": {},
   "outputs": [],
   "source": [
    "import wx\n",
    "\n",
    "class MyFrame(wx.Frame):    \n",
    "    def __init__(self):\n",
    "        super().__init__(parent=None, title='Hello World')\n",
    "        self.Show()\n",
    "        \n",
    "        self.Move(1000,500)\n",
    "\n",
    "if __name__ == \"__main__\": \n",
    "    app = wx.App()\n",
    "    frame = MyFrame()\n",
    "    app.MainLoop()"
   ]
  },
  {
   "cell_type": "markdown",
   "metadata": {},
   "source": [
    "Pokud chceme naši aplikaci vycentrovat na obrazovku, má `wxPython` šikovnou metodu `Center()`, která jednoduše vycentruje okno na obrazovce. Není třeba počítat šířku a výšku obrazovky."
   ]
  },
  {
   "cell_type": "code",
   "execution_count": 1,
   "metadata": {},
   "outputs": [],
   "source": [
    "import wx\n",
    "\n",
    "class MyFrame(wx.Frame):    \n",
    "    def __init__(self):\n",
    "        super().__init__(parent=None, title='Hello World')\n",
    "        self.Show()\n",
    "        \n",
    "        self.Centre()\n",
    "\n",
    "if __name__ == \"__main__\": \n",
    "    app = wx.App()\n",
    "    frame = MyFrame()\n",
    "    app.MainLoop()"
   ]
  }
 ],
 "metadata": {
  "kernelspec": {
   "display_name": "Python 3",
   "language": "python",
   "name": "python3"
  },
  "language_info": {
   "codemirror_mode": {
    "name": "ipython",
    "version": 3
   },
   "file_extension": ".py",
   "mimetype": "text/x-python",
   "name": "python",
   "nbconvert_exporter": "python",
   "pygments_lexer": "ipython3",
   "version": "3.8.3"
  }
 },
 "nbformat": 4,
 "nbformat_minor": 4
}
