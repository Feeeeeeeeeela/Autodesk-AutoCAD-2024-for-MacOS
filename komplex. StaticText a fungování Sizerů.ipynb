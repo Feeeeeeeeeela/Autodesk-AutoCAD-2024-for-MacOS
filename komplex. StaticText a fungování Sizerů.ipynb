{
 "cells": [
  {
   "cell_type": "code",
   "execution_count": null,
   "metadata": {},
   "outputs": [],
   "source": [
    "import wx\n",
    "\n",
    "class MyFrame(wx.Frame):\n",
    "    def __init__(self, parent, title):\n",
    "        super(MyFrame, self).__init__(parent, title=title, size=(600,600))\n",
    "        MyPanel(self)\n",
    "        \n",
    "class MyPanel(wx.Panel):\n",
    "    def __init__(self, parent):\n",
    "        super().__init__(parent)\n",
    "        \n",
    "        vbox = wx.BoxSizer(wx.VERTICAL)\n",
    "        hbox = wx.BoxSizer(wx.HORIZONTAL)\n",
    "        \n",
    "        label1 = wx.StaticText(self, label=\"Juuujdaaaaaaa\", style=wx.ALIGN_CENTER)\n",
    "        vbox.Add(label1, 0,wx.EXPAND)\n",
    "\n",
    "        label2 = wx.StaticText(self, label=\"Houuuu2\", style=wx.ALIGN_CENTER)\n",
    "        vbox.Add(label2, 0, wx.EXPAND)\n",
    "        \n",
    "        label3 = wx.StaticText(self, label=\"Ho\")\n",
    "        hbox.Add(label3, 0,wx.EXPAND)\n",
    "        \n",
    "        label4 = wx.StaticText(self, label=\"Houuuu3\")\n",
    "        hbox.Add(label4, 0, wx.EXPAND)\n",
    "        \n",
    "        \n",
    "        vbox.Add(hbox, wx.ALL)\n",
    "        self.SetSizer(vbox)\n",
    "        \n",
    "        \n",
    "        \n",
    "class MyApp(wx.App):\n",
    "    def OnInit(self):\n",
    "        self.frame = MyFrame(parent=None, title=\"Panel Window\")\n",
    "        self.frame.Show()\n",
    "        return True\n",
    " \n",
    " \n",
    " \n",
    "app = MyApp()\n",
    "app.MainLoop()"
   ]
  },
  {
   "cell_type": "code",
   "execution_count": null,
   "metadata": {},
   "outputs": [],
   "source": []
  },
  {
   "cell_type": "code",
   "execution_count": null,
   "metadata": {},
   "outputs": [],
   "source": []
  }
 ],
 "metadata": {
  "kernelspec": {
   "display_name": "Python 3",
   "language": "python",
   "name": "python3"
  },
  "language_info": {
   "codemirror_mode": {
    "name": "ipython",
    "version": 3
   },
   "file_extension": ".py",
   "mimetype": "text/x-python",
   "name": "python",
   "nbconvert_exporter": "python",
   "pygments_lexer": "ipython3",
   "version": "3.8.3"
  }
 },
 "nbformat": 4,
 "nbformat_minor": 4
}
