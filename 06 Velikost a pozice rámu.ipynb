{
 "cells": [
  {
   "cell_type": "markdown",
   "metadata": {},
   "source": [
    "# Velikost a pozice framu\n",
    "Velikost můžeme upravovat dvěma způsoby:\n",
    "* parametrem objektu/framu \n",
    "* metodou `SetSize()`."
   ]
  },
  {
   "cell_type": "markdown",
   "metadata": {},
   "source": [
    "Zde nastavujeme velikost přímo v parametru třídy `wx.Frame`."
   ]
  },
  {
   "cell_type": "code",
   "execution_count": null,
   "metadata": {},
   "outputs": [],
   "source": [
    "import wx\n",
    "\n",
    "class MyFrame(wx.Frame):    \n",
    "    def __init__(self):\n",
    "        super().__init__(parent=None, title='Hello World', size=(400,600))\n",
    "        self.Show()\n",
    "\n",
    "if __name__ == \"__main__\": \n",
    "    app = wx.App()\n",
    "    frame = MyFrame()\n",
    "    app.MainLoop()"
   ]
  },
  {
   "cell_type": "markdown",
   "metadata": {},
   "source": [
    "S metodou `SetSize` vypadá syntaxe následovně."
   ]
  },
  {
   "cell_type": "code",
   "execution_count": null,
   "metadata": {},
   "outputs": [],
   "source": [
    "import wx\n",
    "\n",
    "class MyFrame(wx.Frame):    \n",
    "    def __init__(self):\n",
    "        super().__init__(parent=None, title='Hello World')\n",
    "        self.SetSize(400,600)\n",
    "        self.Show()\n",
    "\n",
    "if __name__ == \"__main__\": \n",
    "    app = wx.App()\n",
    "    frame = MyFrame()\n",
    "    app.MainLoop()"
   ]
  },
  {
   "cell_type": "markdown",
   "metadata": {},
   "source": [
    "Podobným způsobem můžeme nastavit i pozicování okna na obrazovce. <br>\n",
    "Ve výchozím stavu se okno většinou otevře v levé horní části obrazovky (záleží na operačním systému, správci oken atd.). <br>\n",
    "Existuje mnoho způsobů, jak nastavit pozicování. <br>\n",
    "Nejjednodušší je využití metody `Move`, ve které nastavíme pozici pomocí pixelů `(x,y)`."
   ]
  },
  {
   "cell_type": "code",
   "execution_count": 1,
   "metadata": {},
   "outputs": [],
   "source": [
    "import wx\n",
    "\n",
    "class MyFrame(wx.Frame):    \n",
    "    def __init__(self):\n",
    "        super().__init__(parent=None, title='Hello World')\n",
    "        self.Show()\n",
    "        \n",
    "        self.Move(1000,500)\n",
    "\n",
    "if __name__ == \"__main__\": \n",
    "    app = wx.App()\n",
    "    frame = MyFrame()\n",
    "    app.MainLoop()"
   ]
  },
  {
   "cell_type": "markdown",
   "metadata": {},
   "source": [
    "Pokud chceme aplikaci vycentrovat na obrazovku, existuje metoda `Center()`. <br>\n",
    "Není třeba počítat šířku ani výšku obrazovky, metoda to udělá automaticky za nás."
   ]
  },
  {
   "cell_type": "code",
   "execution_count": null,
   "metadata": {},
   "outputs": [],
   "source": [
    "import wx\n",
    "\n",
    "class MyFrame(wx.Frame):    \n",
    "    def __init__(self):\n",
    "        super().__init__(parent=None, title='Hello World')\n",
    "        self.Show()\n",
    "        \n",
    "        self.Centre()\n",
    "\n",
    "if __name__ == \"__main__\": \n",
    "    app = wx.App()\n",
    "    frame = MyFrame()\n",
    "    app.MainLoop()"
   ]
  },
  {
   "cell_type": "markdown",
   "metadata": {},
   "source": [
    "### Závěr:\n",
    "Nyní umíme základní nastavení velikosti a pozicování. V příští lekci si ukážeme základní vstupy pro uživatele."
   ]
  }
 ],
 "metadata": {
  "kernelspec": {
   "display_name": "Python 3",
   "language": "python",
   "name": "python3"
  },
  "language_info": {
   "codemirror_mode": {
    "name": "ipython",
    "version": 3
   },
   "file_extension": ".py",
   "mimetype": "text/x-python",
   "name": "python",
   "nbconvert_exporter": "python",
   "pygments_lexer": "ipython3",
   "version": "3.8.6"
  }
 },
 "nbformat": 4,
 "nbformat_minor": 4
}
