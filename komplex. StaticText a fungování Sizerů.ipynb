{
 "cells": [
  {
   "cell_type": "code",
   "execution_count": null,
   "metadata": {},
   "outputs": [],
   "source": [
    "import wx\n",
    "\n",
    "class MyFrame(wx.Frame):\n",
    "    def __init__(self, parent, title):\n",
    "        super(MyFrame, self).__init__(parent, title=title, size=(600,600))\n",
    "        MyPanel(self)\n",
    "        \n",
    "class MyPanel(wx.Panel):\n",
    "    def __init__(self, parent):\n",
    "        super().__init__(parent)\n",
    "        \n",
    "        vbox = wx.BoxSizer(wx.VERTICAL)\n",
    "        hbox = wx.BoxSizer(wx.HORIZONTAL)\n",
    "        \n",
    "        label1 = wx.StaticText(self, label=\"First in vertical\", style=wx.ALIGN_CENTER)\n",
    "        vbox.Add(label1, 0, wx.EXPAND)\n",
    "\n",
    "        label2 = wx.StaticText(self, label=\"Second in vertical\", style=wx.ALIGN_CENTER)\n",
    "        vbox.Add(label2, 0, wx.EXPAND)\n",
    "        \n",
    "        label3 = wx.StaticText(self, label=\"First in hotizontal\")\n",
    "        hbox.Add(label3,wx.EXPAND)\n",
    "        \n",
    "        label4 = wx.StaticText(self, label=\"Second in hotizontal\")\n",
    "        hbox.Add(label4, wx.EXPAND)\n",
    "        \n",
    "        \n",
    "        vbox.Add(hbox, wx.ALL)\n",
    "        self.SetSizer(vbox)\n",
    "        \n",
    "        \n",
    "        \n",
    "class MyApp(wx.App):\n",
    "    def OnInit(self):\n",
    "        self.frame = MyFrame(parent=None, title=\"Panel Window\")\n",
    "        self.frame.Show()\n",
    "        return True\n",
    " \n",
    " \n",
    " \n",
    "app = MyApp()\n",
    "app.MainLoop()"
   ]
  },
  {
   "cell_type": "code",
   "execution_count": null,
   "metadata": {},
   "outputs": [],
   "source": []
  },
  {
   "cell_type": "raw",
   "metadata": {},
   "source": [
    "self.SetSizer(hbox)\n",
    "self.SetSizer(vbox)"
   ]
  }
 ],
 "metadata": {
  "kernelspec": {
   "display_name": "Python 3",
   "language": "python",
   "name": "python3"
  },
  "language_info": {
   "codemirror_mode": {
    "name": "ipython",
    "version": 3
   },
   "file_extension": ".py",
   "mimetype": "text/x-python",
   "name": "python",
   "nbconvert_exporter": "python",
   "pygments_lexer": "ipython3",
   "version": "3.8.3"
  }
 },
 "nbformat": 4,
 "nbformat_minor": 4
}
