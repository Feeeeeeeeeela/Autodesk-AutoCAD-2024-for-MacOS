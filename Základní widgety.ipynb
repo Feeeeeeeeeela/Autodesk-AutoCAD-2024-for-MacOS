{
 "cells": [
  {
   "cell_type": "markdown",
   "metadata": {},
   "source": [
    "# [Základní widgety:](https://wxpython.org/Phoenix/docs/html/gallery.html)"
   ]
  },
  {
   "cell_type": "markdown",
   "metadata": {},
   "source": [
    "### [StaticText:](https://wxpython.org/Phoenix/docs/html/wx.StaticText.html)"
   ]
  },
  {
   "cell_type": "markdown",
   "metadata": {},
   "source": [
    "![statictext](img/seznam/statictext.png)"
   ]
  },
  {
   "cell_type": "markdown",
   "metadata": {},
   "source": [
    "Widget zobrazuje klasický text se kterým se nedá nic dělat.     \n",
    "Všechny parametry:\n",
    "* parent – umístění na \"rodičovský\" prvek\n",
    "* id – ID prvku\n",
    "* label – text\n",
    "* pos – pozice v okně\n",
    "* size – velikost\n",
    "* style – [seznam stylů](https://wxpython.org/Phoenix/docs/html/wx.StaticText.html#styles-window-styles)\n",
    "* name – jméno widgetu"
   ]
  },
  {
   "cell_type": "markdown",
   "metadata": {},
   "source": [
    "### [Button:](https://wxpython.org/Phoenix/docs/html/wx.Button.html)"
   ]
  },
  {
   "cell_type": "markdown",
   "metadata": {},
   "source": [
    "![button](img/seznam/button.png)"
   ]
  },
  {
   "cell_type": "markdown",
   "metadata": {},
   "source": [
    "Základní tlačítko s textem.      \n",
    "Všechny parametry:\n",
    "* parent – umístění na \"rodičovský\" prvek\n",
    "* id – ID prvku\n",
    "* label – text\n",
    "* pos – pozice v okně\n",
    "* size – velikost\n",
    "* style – [seznam stylů](https://wxpython.org/Phoenix/docs/html/wx.Button.html#styles-window-styles)\n",
    "* name – jméno widgetu"
   ]
  },
  {
   "cell_type": "markdown",
   "metadata": {},
   "source": [
    "### [TextCtrl:](https://docs.wxpython.org/wx.TextCtrl.html)"
   ]
  },
  {
   "cell_type": "markdown",
   "metadata": {},
   "source": [
    "![textctrl](img/seznam/textctrl.png)"
   ]
  },
  {
   "cell_type": "markdown",
   "metadata": {},
   "source": [
    "Slouží k zapisování a zobrazování textu. Existují 2 typy. Jedno a více řádkový.      \n",
    "Všechny parametry:\n",
    "* parent – umístění na \"rodičovský\" prvek\n",
    "* id – ID prvku\n",
    "* value – hodnota ve formátu stringu\n",
    "* pos – pozice v okně\n",
    "* size – velikost\n",
    "* style – [seznam stylů](https://docs.wxpython.org/wx.TextCtrl.html#styles-window-styles)\n",
    "* validator - [validátor](https://wxpython.org/Phoenix/docs/html/validator_overview.html)\n",
    "* name – jméno widgetu"
   ]
  },
  {
   "cell_type": "markdown",
   "metadata": {},
   "source": [
    "### [ToggleButton:](https://docs.wxpython.org/wx.ToggleButton.html)"
   ]
  },
  {
   "cell_type": "markdown",
   "metadata": {},
   "source": [
    "![togglebutton](img/seznam/togglebutton.png)"
   ]
  },
  {
   "cell_type": "markdown",
   "metadata": {},
   "source": [
    "Přepínací tlačítko s textem.      \n",
    "Všechny parametry:\n",
    "* parent – umístění na \"rodičovský\" prvek\n",
    "* id – ID prvku\n",
    "* label – text\n",
    "* pos – pozice v okně\n",
    "* size – velikost\n",
    "* style – [seznam stylů](https://docs.wxpython.org/wx.ToggleButton.html#events-events-emitted-by-this-class)\n",
    "* name – jméno widgetu"
   ]
  },
  {
   "cell_type": "markdown",
   "metadata": {},
   "source": [
    "### [TreeCtrl:](https://docs.wxpython.org/wx.TreeCtrl.html)"
   ]
  },
  {
   "cell_type": "markdown",
   "metadata": {},
   "source": [
    "![treectrl](img/seznam/treectrl.png)"
   ]
  },
  {
   "cell_type": "markdown",
   "metadata": {},
   "source": [
    "TreeCtrl zobrazuje informace jako hierarchii s položkami, které lze rozšířit a zobrazit další tím položky. (syntaxí funguje podobně jako menubar)      \n",
    "Všechny parametry:\n",
    "* parent – umístění na \"rodičovský\" prvek\n",
    "* id – ID prvku\n",
    "* pos – pozice v okně\n",
    "* size – velikost\n",
    "* style – [seznam stylů](https://docs.wxpython.org/wx.TreeCtrl.html#styles-window-styles)\n",
    "* validator - [validátor](https://wxpython.org/Phoenix/docs/html/validator_overview.html)\n",
    "* name – jméno widgetu"
   ]
  },
  {
   "cell_type": "markdown",
   "metadata": {},
   "source": [
    "### [StaticBox:](https://docs.wxpython.org/wx.StaticBox.html)"
   ]
  },
  {
   "cell_type": "markdown",
   "metadata": {},
   "source": [
    "![staticbox](img/seznam/staticbox.png)"
   ]
  },
  {
   "cell_type": "markdown",
   "metadata": {},
   "source": [
    "Jedná se o ohraničený box, do kterého se dají vkládat další prvky.      \n",
    "Všechny parametry:\n",
    "* parent – umístění na \"rodičovský\" prvek\n",
    "* id – ID prvku\n",
    "* label – zobrazovaný text boxu\n",
    "* pos – pozice v okně\n",
    "* size – velikost\n",
    "* style – Neexistují žádné specifické styly, pouze ALIGN_LEFT, ALIGN_CENTRE_HORIZONTAL a ALIGN_RIGHT pro zobrazení `labelu`\n",
    "* name (string) – jméno widgetu"
   ]
  },
  {
   "cell_type": "markdown",
   "metadata": {},
   "source": [
    "### [SpinButton](https://docs.wxpython.org/wx.SpinButton.html)"
   ]
  },
  {
   "cell_type": "markdown",
   "metadata": {},
   "source": [
    "![spinbutton](img/seznam/spinbutton.png)"
   ]
  },
  {
   "cell_type": "markdown",
   "metadata": {},
   "source": [
    "Jedná se o 2 jednoduché tlačítka s šipkou (nahorů/dolů nebo doprava/doleva)     \n",
    "Všechny parametry:       \n",
    "* parent – umístění na \"rodičovský\" prvek\n",
    "* id – ID prvku\n",
    "* pos – pozice v okně\n",
    "* size – velikost\n",
    "* style – [seznam stylů](https://docs.wxpython.org/wx.SpinButton.html#styles-window-styles)\n",
    "* name – jméno widgetu"
   ]
  },
  {
   "cell_type": "markdown",
   "metadata": {},
   "source": [
    "### [SpinCtrl:](https://docs.wxpython.org/wx.SpinCtrl.html)"
   ]
  },
  {
   "cell_type": "markdown",
   "metadata": {},
   "source": [
    "![spinctrl](img/seznam/spinctrl.png)"
   ]
  },
  {
   "cell_type": "markdown",
   "metadata": {},
   "source": [
    "Jedná se o kombinaci `TextCtrl` a `SpinButtonu` v jednom prvku.     \n",
    "Všechny parametry:      \n",
    "* parent – umístění na \"rodičovský\" prvek\n",
    "* id – ID prvku\n",
    "* label – text\n",
    "* pos – pozice v okně\n",
    "* size – velikost\n",
    "* style – [seznam stylů](https://docs.wxpython.org/wx.SpinCtrl.html#styles-window-styles)\n",
    "* min (int) – minimální hodnota\n",
    "* max (int) – maximální hodnota\n",
    "* initial (int) – počáteční hodnota\n",
    "* name string – jméno widgetu"
   ]
  },
  {
   "cell_type": "markdown",
   "metadata": {},
   "source": [
    "### [SpinCtrlDouble:](https://docs.wxpython.org/wx.SpinCtrlDouble.html)"
   ]
  },
  {
   "cell_type": "markdown",
   "metadata": {},
   "source": [
    "![spinctrldouble](img/seznam/spinctrldouble.png)"
   ]
  },
  {
   "cell_type": "markdown",
   "metadata": {},
   "source": [
    "Jedná se o `SpinCtrl` s desetiným číslem.      \n",
    "Všechny parametry:      \n",
    "* parent – umístění na \"rodičovský\" prvek\n",
    "* id – ID prvku\n",
    "* label – text\n",
    "* pos – pozice v okně\n",
    "* size – velikost\n",
    "* style – [seznam stylů](https://docs.wxpython.org/wx.SpinCtrlDouble.html#styles-window-styles)\n",
    "* min (float) – minimální hodnota\n",
    "* max (float) – maximální hodnota\n",
    "* initial (float) – počáteční hodnota\n",
    "* inc (float) – hodnota přírůstku\n",
    "* name string – jméno widgetu"
   ]
  },
  {
   "cell_type": "markdown",
   "metadata": {},
   "source": [
    "### [Slider:](https://docs.wxpython.org/wx.Slider.html)"
   ]
  },
  {
   "cell_type": "markdown",
   "metadata": {},
   "source": [
    "![slider](img/seznam/slider.png)"
   ]
  },
  {
   "cell_type": "markdown",
   "metadata": {},
   "source": [
    "Pojizdný jezdec.     \n",
    "Všechny parametry:      \n",
    "* parent – umístění na \"rodičovský\" prvek\n",
    "* id – ID prvku\n",
    "* value (int) – počáteční pozice slideru\n",
    "* minValue (int) – minimální hodnota\n",
    "* maxValue (int) – maximální hodnota\n",
    "* pos – pozice v okně\n",
    "* size – velikost\n",
    "* style – [seznam stylů](https://docs.wxpython.org/wx.Slider.html#styles-window-styles)\n",
    "* validator - [validátor](https://wxpython.org/Phoenix/docs/html/validator_overview.html)\n",
    "* name – jméno widgetu"
   ]
  },
  {
   "cell_type": "markdown",
   "metadata": {},
   "source": [
    "### [ScrollBar:](https://docs.wxpython.org/wx.ScrollBar.html)"
   ]
  },
  {
   "cell_type": "markdown",
   "metadata": {},
   "source": [
    "![ScrollBar](img/seznam/scrollbar.png)"
   ]
  },
  {
   "cell_type": "markdown",
   "metadata": {},
   "source": [
    "Jedná se o posuvník, slider s šipkami, který může být horizontální či vertikální.      \n",
    "Všechny parametry:\n",
    "* parent – umístění na \"rodičovský\" prvek\n",
    "* id – ID prvku\n",
    "* pos – pozice v okně\n",
    "* size – velikost\n",
    "* style – [seznam stylů](https://docs.wxpython.org/wx.ScrollBar.html#styles-window-styles)\n",
    "* validator - [validátor](https://wxpython.org/Phoenix/docs/html/validator_overview.html)\n",
    "* name – jméno widgetu"
   ]
  },
  {
   "cell_type": "markdown",
   "metadata": {},
   "source": [
    "### [SearchCtrl:](https://docs.wxpython.org/wx.SearchCtrl.html)"
   ]
  },
  {
   "cell_type": "markdown",
   "metadata": {},
   "source": [
    "![seachctrl](img/seznam/searchctrl.png)"
   ]
  },
  {
   "cell_type": "markdown",
   "metadata": {},
   "source": [
    "Jedná se o prvek s tlačítkem lupy a křížkem pro smazání.      \n",
    "Všechny parametry:      \n",
    "* parent – umístění na \"rodičovský\" prvek\n",
    "* id – ID prvku\n",
    "* value (string) – počáteční hodnota textu\n",
    "* pos – pozice v okně\n",
    "* size – velikost\n",
    "* style – [seznam stylů](https://docs.wxpython.org/wx.SearchCtrl.html#styles-window-styles)\n",
    "* validator - [validátor](https://wxpython.org/Phoenix/docs/html/validator_overview.html)\n",
    "* name - jméno widgetu"
   ]
  },
  {
   "cell_type": "markdown",
   "metadata": {},
   "source": [
    "### [RadioButton:](https://docs.wxpython.org/wx.RadioButton.html)"
   ]
  },
  {
   "cell_type": "markdown",
   "metadata": {},
   "source": [
    "![radiobutton](img/seznam/radiobutton.png)"
   ]
  },
  {
   "cell_type": "markdown",
   "metadata": {},
   "source": [
    "Jedná se o \"checkbox\" s tečkou.      \n",
    "Všechny parametry:      \n",
    "* parent – umístění na \"rodičovský\" prvek\n",
    "* id – ID prvku\n",
    "* label – popisek\n",
    "* pos – pozice v okně\n",
    "* size – velikost\n",
    "* style – [seznam stylů](https://docs.wxpython.org/wx.RadioButton.html#styles-window-styles)\n",
    "* validator - [validátor](https://wxpython.org/Phoenix/docs/html/validator_overview.html)\n",
    "* name - jméno widgetu"
   ]
  },
  {
   "cell_type": "markdown",
   "metadata": {},
   "source": [
    "### [RadioBox:](https://docs.wxpython.org/wx.RadioBox.html)"
   ]
  },
  {
   "cell_type": "markdown",
   "metadata": {},
   "source": [
    "![radiobox](img/seznam/radiobox.png)"
   ]
  },
  {
   "cell_type": "markdown",
   "metadata": {},
   "source": [
    "Jedná se o spojení `StaticBoxu` s `RadioButtonem` .      \n",
    "Všechny parametry:    \n",
    "* parent – umístění na \"rodičovský\" prvek\n",
    "* id – ID prvku\n",
    "* label – zobrazovaný text boxu\n",
    "* pos – pozice v okně\n",
    "* size – velikost\n",
    "* choices (list of strings) – možnosti\n",
    "* majorDimension (int) – maximální množství \"zaškrtlých\" políček\n",
    "* style – [seznam stylů](https://docs.wxpython.org/wx.RadioBox.html#styles-window-styles)\n",
    "* validator - [validátor](https://wxpython.org/Phoenix/docs/html/validator_overview.html)\n",
    "* name - jméno widgetu"
   ]
  },
  {
   "cell_type": "markdown",
   "metadata": {},
   "source": [
    "### [Gauge:](https://docs.wxpython.org/wx.Gauge.html)"
   ]
  },
  {
   "cell_type": "markdown",
   "metadata": {},
   "source": [
    "![gauge](img/seznam/gauge.png)"
   ]
  },
  {
   "cell_type": "markdown",
   "metadata": {},
   "source": [
    "Jedná se o vertikální/horizontální pole často pro využíváno zobrazování času.      \n",
    "Všechny parametry:\n",
    "* parent – umístění na \"rodičovský\" prvek\n",
    "* id – ID prvku\n",
    "* range (int) – maximální hodnota\n",
    "* pos – pozice v okně\n",
    "* size – velikost\n",
    "* style – [seznam stylů](https://docs.wxpython.org/wx.Gauge.html#styles-window-styles)\n",
    "* validator - [validátor](https://wxpython.org/Phoenix/docs/html/validator_overview.html)\n",
    "* name - jméno widgetu"
   ]
  },
  {
   "cell_type": "markdown",
   "metadata": {},
   "source": [
    "### [CheckBox:](https://docs.wxpython.org/wx.CheckBox.html)"
   ]
  },
  {
   "cell_type": "markdown",
   "metadata": {},
   "source": [
    "![checkbox](img/seznam/checkbox.png)"
   ]
  },
  {
   "cell_type": "markdown",
   "metadata": {},
   "source": [
    "Zaškrtávací box (jiný styl oproti `RadioButtonu`)      \n",
    "Všechny parametry:       \n",
    "* parent – umístění na \"rodičovský\" prvek\n",
    "* id – ID prvku\n",
    "* label – popisek\n",
    "* pos – pozice v okně\n",
    "* size – velikost\n",
    "* style – [seznam stylů](https://docs.wxpython.org/wx.CheckBox.html#styles-window-styles)\n",
    "* validator - [validátor](https://wxpython.org/Phoenix/docs/html/validator_overview.html)\n",
    "* name - jméno widgetu"
   ]
  },
  {
   "cell_type": "markdown",
   "metadata": {},
   "source": [
    "### [CheckListBox:](https://docs.wxpython.org/wx.CheckListBox.html)"
   ]
  },
  {
   "cell_type": "markdown",
   "metadata": {},
   "source": [
    "![checklistbox](img/seznam/checklistbox.png)"
   ]
  },
  {
   "cell_type": "markdown",
   "metadata": {},
   "source": [
    "Stejná struktura jako `RadioBox`.     \n",
    "Všechny parametry:      \n",
    "* parent – umístění na \"rodičovský\" prvek\n",
    "* id – ID prvku\n",
    "* label – zobrazovaný text boxu\n",
    "* pos – pozice v okně\n",
    "* size – velikost\n",
    "* choices (list of strings) – možnosti\n",
    "* majorDimension (int) – maximální množství \"zaškrtlých\" políček\n",
    "* validator - [validátor](https://wxpython.org/Phoenix/docs/html/validator_overview.html)\n",
    "* name - jméno widgetu"
   ]
  },
  {
   "cell_type": "markdown",
   "metadata": {},
   "source": [
    "### [Choice:](https://docs.wxpython.org/wx.Choice.html)"
   ]
  },
  {
   "cell_type": "markdown",
   "metadata": {},
   "source": [
    "![choice](img/seznam/choice.png)"
   ]
  },
  {
   "cell_type": "markdown",
   "metadata": {},
   "source": [
    "Rozkládací seznam položek.      \n",
    "Všechny parametry:      \n",
    "* parent – umístění na \"rodičovský\" prvek\n",
    "* id – ID prvku\n",
    "* label – zobrazovaný text boxu\n",
    "* pos – pozice v okně\n",
    "* size – velikost\n",
    "* choices (list of strings) – možnosti\n",
    "* majorDimension (int) – maximální množství \"zaškrtlých\" políček\n",
    "* style – [seznam stylů](https://docs.wxpython.org/wx.Choice.html#styles-window-styles)\n",
    "* validator - [validátor](https://wxpython.org/Phoenix/docs/html/validator_overview.html)\n",
    "* name - jméno widgetu"
   ]
  },
  {
   "cell_type": "markdown",
   "metadata": {},
   "source": [
    "### [Notebook:](https://docs.wxpython.org/wx.Notebook.html)"
   ]
  },
  {
   "cell_type": "markdown",
   "metadata": {},
   "source": [
    "![notebook](img/seznam/notebook.png)"
   ]
  },
  {
   "cell_type": "markdown",
   "metadata": {},
   "source": [
    "Jedná se o prvek poznámkového bloku, který pracuje s více okny (více bloků).       \n",
    "Všechny parametry:      \n",
    "* parent – umístění na \"rodičovský\" prvek\n",
    "* id – ID prvku\n",
    "* pos – pozice v okně\n",
    "* size – velikost\n",
    "* style – [seznam stylů](https://docs.wxpython.org/wx.Notebook.html#styles-window-styles)\n",
    "* name - jméno widgetu"
   ]
  },
  {
   "cell_type": "markdown",
   "metadata": {},
   "source": [
    "### [Choicebook:](https://docs.wxpython.org/wx.Choicebook.html)"
   ]
  },
  {
   "cell_type": "markdown",
   "metadata": {},
   "source": [
    "![choicebook](img/seznam/choicebook.png)"
   ]
  },
  {
   "cell_type": "markdown",
   "metadata": {},
   "source": [
    "Jedná se o kombinaci podobnou `notebooku` s `choice`, která zobrazuje místo seznamu stringů celé notebooky.     \n",
    "Všechny parametry:       \n",
    "* parent – umístění na \"rodičovský\" prvek\n",
    "* id – ID prvku\n",
    "* pos – pozice v okně\n",
    "* size – velikost\n",
    "* style – [seznam stylů](https://docs.wxpython.org/wx.Choicebook.html#styles-window-styles)\n",
    "* name - jméno widgetu"
   ]
  },
  {
   "cell_type": "markdown",
   "metadata": {},
   "source": [
    "### [ColourPickerCtrl:](https://docs.wxpython.org/wx.ColourPickerCtrl.html)"
   ]
  },
  {
   "cell_type": "markdown",
   "metadata": {},
   "source": [
    "![colourpickerctrl](img/seznam/colourpickerctrl.png)"
   ]
  },
  {
   "cell_type": "markdown",
   "metadata": {},
   "source": [
    "Prvek zobrazí [`ColourDialog`](https://docs.wxpython.org/wx.ColourDialog.html#wx-colourdialog), kde uživatel zadá barvu.     \n",
    "`ColourDialog`:\n",
    "![colourdialog](img/seznam/colourdialog.png)\n",
    "Všechny parametry:        \n",
    "* parent – umístění na \"rodičovský\" prvek\n",
    "* id – ID prvku\n",
    "* colour – počáteční barva\n",
    "* pos – pozice v okně\n",
    "* size – velikost\n",
    "* style – [seznam stylů](https://docs.wxpython.org/wx.ColourPickerCtrl.html#styles-window-styles)\n",
    "* validator - [validátor](https://wxpython.org/Phoenix/docs/html/validator_overview.html)\n",
    "* name - jméno widgetu"
   ]
  },
  {
   "cell_type": "markdown",
   "metadata": {},
   "source": [
    "### [FontPickerCtrl:](https://docs.wxpython.org/wx.FontPickerCtrl.html)"
   ]
  },
  {
   "cell_type": "markdown",
   "metadata": {},
   "source": [
    "![fontpickerctrl](img/seznam/fontpickerctrl.png)"
   ]
  },
  {
   "cell_type": "markdown",
   "metadata": {},
   "source": [
    "Prvek zobrazí [`FontDialog`](https://docs.wxpython.org/wx.FontDialog.html#wx-fontdialog), kde uživatel nastaví font textu.   \n",
    "`FontDialog`: ![fontdialog](img/seznam/fontdialog.png)\n",
    "Všechny parametry:      \n",
    "* parent – umístění na \"rodičovský\" prvek\n",
    "* id – ID prvku\n",
    "* font – počáteční font\n",
    "* pos – pozice v okně\n",
    "* size – velikost\n",
    "* style – [seznam stylů](https://docs.wxpython.org/wx.FontPickerCtrl.html#styles-window-styles)\n",
    "* validator - [validátor](https://wxpython.org/Phoenix/docs/html/validator_overview.html)\n",
    "* name - jméno widgetu"
   ]
  },
  {
   "cell_type": "markdown",
   "metadata": {},
   "source": [
    "### [DirPickerCtrl:](https://docs.wxpython.org/wx.DirPickerCtrl.html)"
   ]
  },
  {
   "cell_type": "markdown",
   "metadata": {},
   "source": [
    "![dirpickerctrl](img/seznam/dirpickerctrl.png)"
   ]
  },
  {
   "cell_type": "markdown",
   "metadata": {},
   "source": [
    "Prvek zobrazí průzkumníka souborů (ve wx [`DirDialog`](https://docs.wxpython.org/wx.DirDialog.html#wx-dirdialog)) <br> `DirDialog`: ![dirdialog](img/seznam/dirdialog.png)\n",
    "Všechny parametry:      \n",
    "* parent – umístění na \"rodičovský\" prvek\n",
    "* id – ID prvku\n",
    "* path – počáteční cesta\n",
    "* message - zpráva zobrazovaná uživateli\n",
    "* pos – pozice v okně\n",
    "* size – velikost\n",
    "* style – [seznam stylů](https://docs.wxpython.org/wx.DirPickerCtrl.html#styles-window-styles)\n",
    "* validator - [validátor](https://wxpython.org/Phoenix/docs/html/validator_overview.html)\n",
    "* name - jméno widgetu"
   ]
  },
  {
   "cell_type": "markdown",
   "metadata": {},
   "source": [
    "### [FilePickerCtrl:](https://docs.wxpython.org/wx.FilePickerCtrl.html)"
   ]
  },
  {
   "cell_type": "markdown",
   "metadata": {},
   "source": [
    "![filepickerctrl](img/seznam/filepickerctrl.png)"
   ]
  },
  {
   "cell_type": "markdown",
   "metadata": {},
   "source": [
    "Skrz prvek uživatel určí daný soubor (ve wx [`FileDialog`](https://docs.wxpython.org/wx.FileDialog.html#wx-filedialog))     \n",
    "`FileDialog`: ![filedialog](img/seznam/filedialog.png)\n",
    "Všechny parametry:      \n",
    "* parent – umístění na \"rodičovský\" prvek\n",
    "* id – ID prvku\n",
    "* path – počáteční cesta\n",
    "* message - zpráva zobrazovaná uživateli\n",
    "* wildcard (string) – definování typu souborů, které může uživatel vybírat\n",
    "* pos – pozice v okně\n",
    "* size – velikost\n",
    "* style – [seznam stylů](https://docs.wxpython.org/wx.FilePickerCtrl.html#styles-window-styles)\n",
    "* validator - [validátor](https://wxpython.org/Phoenix/docs/html/validator_overview.html)\n",
    "* name - jméno widgetu"
   ]
  },
  {
   "cell_type": "markdown",
   "metadata": {},
   "source": [
    "### [GenericDirCtrl:](https://docs.wxpython.org/wx.GenericDirCtrl.html)"
   ]
  },
  {
   "cell_type": "markdown",
   "metadata": {},
   "source": [
    "![genericdirctrl](img/seznam/genericdirctrl.png)"
   ]
  },
  {
   "cell_type": "markdown",
   "metadata": {},
   "source": [
    "Průzkumník souborů využívající `TreeCtrl` nebo `Choice`.     \n",
    "Všechny parametry:       \n",
    "* parent – umístění na \"rodičovský\" prvek\n",
    "* id – ID prvku\n",
    "* dir – počáteční soubor\n",
    "* pos – pozice v okně\n",
    "* size – velikost\n",
    "* style – [seznam stylů](https://docs.wxpython.org/wx.GenericDirCtrl.html#styles-window-styles)\n",
    "* filter - filtr pro zobrazované formáty\n",
    "* validator - [validátor](https://wxpython.org/Phoenix/docs/html/validator_overview.html)\n",
    "* name - jméno widgetu"
   ]
  },
  {
   "cell_type": "markdown",
   "metadata": {},
   "source": [
    "### [ComboBox:](https://docs.wxpython.org/wx.ComboBox.html)"
   ]
  },
  {
   "cell_type": "markdown",
   "metadata": {},
   "source": [
    "![combobox](img/seznam/combobox.png)"
   ]
  },
  {
   "cell_type": "markdown",
   "metadata": {},
   "source": [
    "Jedná se o kombinaci kontroleru a listboxu. Může obsahovat read-only položky, drop-down seznam s/bez textovým polem.     \n",
    "Všechny parametry:      \n",
    "* parent – umístění na \"rodičovský\" prvek\n",
    "* id – ID prvku\n",
    "* value – počáteční hodnota\n",
    "* pos – pozice v okně\n",
    "* size – velikost\n",
    "* choices - seznam položek\n",
    "* style – [seznam stylů](https://docs.wxpython.org/wx.ComboBox.html#styles-window-styles)\n",
    "* validator - [validátor](https://wxpython.org/Phoenix/docs/html/validator_overview.html)\n",
    "* name - jméno widgetu"
   ]
  },
  {
   "cell_type": "markdown",
   "metadata": {},
   "source": [
    "### [ComboCtrl:](https://docs.wxpython.org/wx.ComboCtrl.html)"
   ]
  },
  {
   "cell_type": "markdown",
   "metadata": {},
   "source": [
    "![comboctrl](img/seznam/comboctrl.png)"
   ]
  },
  {
   "cell_type": "markdown",
   "metadata": {},
   "source": [
    "Jedná se o modifikovatelný `ComboBox` .              \n",
    "Všechny parametry:       \n",
    "* parent – umístění na \"rodičovský\" prvek\n",
    "* id – ID prvku\n",
    "* value – počáteční hodnota\n",
    "* pos – pozice v okně\n",
    "* size – velikost\n",
    "* style – [seznam stylů](https://docs.wxpython.org/wx.ComboCtrl.html#styles-window-styles)\n",
    "* validator - [validátor](https://wxpython.org/Phoenix/docs/html/validator_overview.html)\n",
    "* name - jméno widgetu"
   ]
  },
  {
   "cell_type": "markdown",
   "metadata": {},
   "source": [
    "### [ListCtrl:](https://docs.wxpython.org/wx.ListCtrl.html)"
   ]
  },
  {
   "cell_type": "markdown",
   "metadata": {},
   "source": [
    "![listctrl](img/seznam/listctrl.png)"
   ]
  },
  {
   "cell_type": "markdown",
   "metadata": {},
   "source": [
    "Prvek vytváří list s různými formáty (zobrazení seznamu, hlášení a ikon).       \n",
    "Všechny parametry:       \n",
    "* parent – umístění na \"rodičovský\" prvek\n",
    "* id – ID prvku\n",
    "* pos – pozice v okně\n",
    "* size – velikost\n",
    "* style – [seznam stylů](https://docs.wxpython.org/wx.ListCtrl.html#styles-window-styles)\n",
    "* validator - [validátor](https://wxpython.org/Phoenix/docs/html/validator_overview.html)\n",
    "* name - jméno widgetu"
   ]
  },
  {
   "cell_type": "markdown",
   "metadata": {},
   "source": [
    "### [ListBox:](https://docs.wxpython.org/wx.ListBox.html)"
   ]
  },
  {
   "cell_type": "markdown",
   "metadata": {},
   "source": [
    "![listbox](img/seznam/listbox.png)"
   ]
  },
  {
   "cell_type": "markdown",
   "metadata": {},
   "source": [
    "Box se seznamem.     \n",
    "Všechny parametry:      \n",
    "* parent – umístění na \"rodičovský\" prvek\n",
    "* id – ID prvku\n",
    "* pos – pozice v okně\n",
    "* size – velikost\n",
    "* choices - seznam položek\n",
    "* style – [seznam stylů](https://docs.wxpython.org/wx.ListBox.html#styles-window-styles)\n",
    "* validator - [validátor](https://wxpython.org/Phoenix/docs/html/validator_overview.html)\n",
    "* name - jméno widgetu"
   ]
  },
  {
   "cell_type": "markdown",
   "metadata": {},
   "source": [
    "### [ListBook:](https://docs.wxpython.org/wx.Listbook.html)"
   ]
  },
  {
   "cell_type": "markdown",
   "metadata": {},
   "source": [
    "![listbook](img/seznam/notebook.png)"
   ]
  },
  {
   "cell_type": "markdown",
   "metadata": {},
   "source": [
    "Jedná se o podobný prvek `Notebooku`, který ovšem používá `ListCtrl`.     \n",
    "Všechny parametry:     \n",
    "* parent – umístění na \"rodičovský\" prvek\n",
    "* id – ID prvku\n",
    "* pos – pozice v okně\n",
    "* size – velikost\n",
    "* style – [seznam stylů](https://docs.wxpython.org/wx.Notebook.html#styles-window-styles)\n",
    "* name - jméno widgetu"
   ]
  },
  {
   "cell_type": "markdown",
   "metadata": {},
   "source": [
    "### [Icon:](https://wxpython.org/Phoenix/docs/html/wx.Icon.html)\n",
    "Ikonka framu, která využívá [bitmapu](https://wxpython.org/Phoenix/docs/html/wx.Bitmap.html)      \n",
    "Všechny parametry:      \n",
    "* name (string) – Definování obrázku (název + popřípadě jeho cesta)\n",
    "* type (BitmapType) – Definování typu souboru pomocí [bitmap typu](https://wxpython.org/Phoenix/docs/html/wx.BitmapType.enumeration.html#wx-bitmaptype)\n",
    "* desiredWidth (int) – Specifikuje šířku ikonky (tento parametr platí pouze pokud v okně je více zdrojů ikonek s jinými velikosti)\n",
    "*  desiredHeight (int) – Specifikuje výšku ikonky (tento parametr platí pouze pokud v okně je více zdrojů ikonek s jinými velikosti)"
   ]
  },
  {
   "cell_type": "markdown",
   "metadata": {},
   "source": [
    "Zdroj:      \n",
    "[WxGalerie](https://wxpython.org/Phoenix/docs/html/gallery.html)"
   ]
  }
 ],
 "metadata": {
  "kernelspec": {
   "display_name": "Python 3",
   "language": "python",
   "name": "python3"
  },
  "language_info": {
   "codemirror_mode": {
    "name": "ipython",
    "version": 3
   },
   "file_extension": ".py",
   "mimetype": "text/x-python",
   "name": "python",
   "nbconvert_exporter": "python",
   "pygments_lexer": "ipython3",
   "version": "3.8.6"
  }
 },
 "nbformat": 4,
 "nbformat_minor": 4
}
