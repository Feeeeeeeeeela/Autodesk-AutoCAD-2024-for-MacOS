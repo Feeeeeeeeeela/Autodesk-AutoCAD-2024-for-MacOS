{
 "cells": [
  {
   "cell_type": "markdown",
   "metadata": {},
   "source": [
    "# Vstupy pro uživatele\n",
    "`input` od uživatele můžeme ve `wx` získat mnoha způsoby. Protože způsob `inputu` závisí na konkrétních případech programů, tak si v téhle lekci ukážeme ty nejzákladnější a to `TextCtrl` a Vstupní dialog."
   ]
  },
  {
   "cell_type": "markdown",
   "metadata": {},
   "source": [
    "### Textový řádek\n",
    "Vytvořený program nám spustí základní okno s třemi prvky. První bude \"řádek textu\", který bude sloužit jako náš `input`. Druhý prvek bude tlačítko, které nám uloží hodnotu řádku textu a zobrazího do posledního objektu, který bude další `TextCtrl`. Pro přehlednost jsme si zde vytvořili nový objekt `Gui`, kam tyhle prvky napíšeme."
   ]
  },
  {
   "cell_type": "code",
   "execution_count": null,
   "metadata": {},
   "outputs": [],
   "source": [
    "import wx\n",
    "\n",
    "class MyFrame(wx.Frame):    \n",
    "    def __init__(self):\n",
    "        super().__init__(parent=None, title='Output')\n",
    "        \n",
    "        self.Gui()\n",
    "        self.Show()\n",
    "        \n",
    "    def Gui(self):\n",
    "        panel = wx.Panel(self)  \n",
    "        \n",
    "        self.text_ctrl = wx.TextCtrl(panel)\n",
    "        \n",
    "        pressbutton = wx.Button(panel, label='Press Me',pos=(0, 25), size=(60,20))\n",
    "        \n",
    "        self.output = wx.TextCtrl(panel, pos=(0,50))\n",
    "        \n",
    "        pressbutton.Bind(wx.EVT_BUTTON, self.on_press)\n",
    "        \n",
    "        \n",
    "    def on_press(self, event):\n",
    "        value = self.text_ctrl.GetValue()\n",
    "        self.output.SetValue(value)\n",
    "        \n",
    "\n",
    "if __name__ == '__main__':\n",
    "    app = wx.App()\n",
    "    frame = MyFrame()\n",
    "    app.MainLoop()"
   ]
  },
  {
   "cell_type": "markdown",
   "metadata": {},
   "source": [
    "Output:    \n",
    "![Output](img/81.png)"
   ]
  },
  {
   "cell_type": "markdown",
   "metadata": {},
   "source": [
    "První novou metodou je `wx.TextCtrl()`. Je to velmi komplexní metoda, která nejen slouží `input` pro uživatele, ale i jako output pro zobrazení `str` hodnoty. Veškeré její funkce najdeme v [dokumentaci](https://wxpython.org/Phoenix/docs/html/wx.TextCtrl.html). V parametrech nám vystačí pouze umístění na `panel`. Metodu si ještě propojíme s proměnnou se `self`, protože budem s ní pracovat ve funkci eventu."
   ]
  },
  {
   "cell_type": "code",
   "execution_count": null,
   "metadata": {},
   "outputs": [],
   "source": [
    "self.text_ctrl = wx.TextCtrl(panel)"
   ]
  },
  {
   "cell_type": "markdown",
   "metadata": {},
   "source": [
    "Když už máme vytvořený `input` pro uživatele, tak vytvoříme tlačítko `pressbutton`, které nám bude `input` zpracovávat.\n",
    "V parametrech tlačítka nám nově přibyl parametr pozice `pos=(1,25)`, aby se nám tlačítko a textpanel nepřekrývali. Když totiž nenastavíme u prvku parametr `pos`, tak se nám vždy dá na pozici `(0,0)`. <br>\n",
    "K více efektivnějšímu pozicování se dostaneme v budoucích lekcích."
   ]
  },
  {
   "cell_type": "code",
   "execution_count": null,
   "metadata": {},
   "outputs": [],
   "source": [
    "pressbutton = wx.Button(panel, label='Press Me',pos=(0, 25), size=(60,20))"
   ]
  },
  {
   "cell_type": "markdown",
   "metadata": {},
   "source": [
    "Pro Output si vytvoříme druhý textový řádek. Opět uložíme do proměnné se `self`."
   ]
  },
  {
   "cell_type": "code",
   "execution_count": null,
   "metadata": {},
   "outputs": [],
   "source": [
    "self.output = wx.TextCtrl(panel, pos=(0,50))"
   ]
  },
  {
   "cell_type": "markdown",
   "metadata": {},
   "source": [
    "Nakonec si nabindujeme tlačítko a vytvoříme eventovou metodu `on_press`, kde využijeme metod `GetValue` pro získání zapsaného textu a `SetValue` pro nastavení `labelu` druhého řádku textu."
   ]
  },
  {
   "cell_type": "code",
   "execution_count": null,
   "metadata": {},
   "outputs": [],
   "source": [
    "pressbutton.Bind(wx.EVT_BUTTON, self.on_press)\n",
    "        \n",
    "        \n",
    "    def on_press(self, event):\n",
    "        value = self.text_ctrl.GetValue()\n",
    "        self.output.SetValue(value)"
   ]
  },
  {
   "cell_type": "markdown",
   "metadata": {},
   "source": [
    "### Alternativa bez vyvolávajícího tlačítka\n",
    "Program můžeme též napsat bez vyvolávacího tlačítka."
   ]
  },
  {
   "cell_type": "code",
   "execution_count": null,
   "metadata": {},
   "outputs": [],
   "source": [
    "import wx\n",
    "\n",
    "class MyFrame(wx.Frame):    \n",
    "    def __init__(self):\n",
    "        super().__init__(parent=None, title='Output')\n",
    "        \n",
    "        self.Gui()\n",
    "        self.Show()\n",
    "        \n",
    "    def Gui(self):\n",
    "        panel = wx.Panel(self)  \n",
    "        \n",
    "        self.text_ctrl = wx.TextCtrl(panel)\n",
    "        \n",
    "        self.output = wx.TextCtrl(panel, pos=(0,50))\n",
    "        \n",
    "        self.Bind(wx.EVT_TEXT, self.on_press, self.text_ctrl)\n",
    "        \n",
    "        \n",
    "    def on_press(self, event):\n",
    "        value = self.text_ctrl.GetValue()\n",
    "        self.output.SetValue(value)\n",
    "        \n",
    "\n",
    "if __name__ == '__main__':\n",
    "    app = wx.App()\n",
    "    frame = MyFrame()\n",
    "    app.MainLoop()"
   ]
  },
  {
   "cell_type": "markdown",
   "metadata": {},
   "source": [
    "Output:     \n",
    "![Output](img/83.png)"
   ]
  },
  {
   "cell_type": "markdown",
   "metadata": {},
   "source": [
    "Poslouží nám k tomu z minulé lekce typ `eventu` tlačítka při bindování. Při prohledání [dokumentace](https://wxpython.org/Phoenix/docs/html/wx.CommandEvent.html) můžeme zjistit, že pro `textctrl` existují 3 typy eventu:\n",
    "![Textctrl eventy](img/84.png)     \n",
    "`EVT_TEXT` tedy spouští eventovou funkci po jakékoliv změně."
   ]
  },
  {
   "cell_type": "markdown",
   "metadata": {},
   "source": [
    "### Vstupní Dialog\n",
    "Vstupní dialog (entry dialog) je widget, který se spustí před zobrazením \"hlavního\" okna."
   ]
  },
  {
   "cell_type": "markdown",
   "metadata": {},
   "source": [
    "V následujícím programu jsme využili předběžné získání hodnoty z `entry dialogu` k tomu, že se nám mění `title` zobrazovaného okna."
   ]
  },
  {
   "cell_type": "code",
   "execution_count": null,
   "metadata": {},
   "outputs": [],
   "source": [
    "import wx\n",
    "\n",
    "class MyFrame(wx.Frame):    \n",
    "    def __init__(self):\n",
    "        super().__init__(parent=None)\n",
    "        \n",
    "        self.Gui()\n",
    "        self.Show()\n",
    "        \n",
    "    def Gui(self):\n",
    "        panel = wx.Panel(self)\n",
    "        \n",
    "        namebox = wx.TextEntryDialog(None, \"Jaké je tvé jméno?\", \"Vstupní dialog\",\"zadej jméno\")\n",
    "        namebox.ShowModal()\n",
    "        \n",
    "        username = namebox.GetValue()\n",
    "                    \n",
    "        self.SetTitle(\"Vítej \"+username)\n",
    "        \n",
    "if __name__ == \"__main__\": \n",
    "    app = wx.App()\n",
    "    frame = MyFrame()\n",
    "    app.MainLoop()"
   ]
  },
  {
   "cell_type": "markdown",
   "metadata": {},
   "source": [
    "Celou logiku panelu, která zařídí aby se `entry dialog` zobrazil před hlavním oknem, není definování objektu `wx.TextEntryDialog`, ale je speciální metoda `ShowModal`, která je jednou z variací metody `Show`. <br> \n",
    "Zmíněný `wx.TextEntryDialog` nám pouze dopomáhá tím, že se jedná o předvytvořený `frame` s `panelem` a `textovým řádkem`. Nastavenými parametry jsou `parent`, `text zobrazovaný na panelu`, `title framu` a nakonec `text, který již bude napsán při spuštění text panelu`. Více o něm zjistíte [zde](https://wxpython.org/Phoenix/docs/html/wx.TextEntryDialog.html). <br>\n",
    "![TextEntryDialog](img/82.png)\n",
    "<br>\n",
    "Dále si vytáhneme `input` do proměnné, kterou posléze využijeme pro změnu `titlu` hlavního framu, který přepíše `title` v parametrech `__init__` pomocí metody `SetTitle()`."
   ]
  },
  {
   "cell_type": "markdown",
   "metadata": {},
   "source": [
    "### Závěr:\n",
    "Nyní jsme schopni přijmout input od uživatele. Příště si popíšeme vytvoření lišty."
   ]
  }
 ],
 "metadata": {
  "kernelspec": {
   "display_name": "Python 3",
   "language": "python",
   "name": "python3"
  },
  "language_info": {
   "codemirror_mode": {
    "name": "ipython",
    "version": 3
   },
   "file_extension": ".py",
   "mimetype": "text/x-python",
   "name": "python",
   "nbconvert_exporter": "python",
   "pygments_lexer": "ipython3",
   "version": "3.8.6"
  }
 },
 "nbformat": 4,
 "nbformat_minor": 4
}
