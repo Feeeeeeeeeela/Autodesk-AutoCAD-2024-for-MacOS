{
 "cells": [
  {
   "cell_type": "markdown",
   "metadata": {},
   "source": [
    "<a href=\"https://www.wxpython.org/\"><img src=\"img/wxtutorial_logo.png\" alt=\"MIT license\"></a>\n",
    "\n",
    "### Instalace:\n",
    "\n",
    "* [WxPython](https://nbviewer.jupyter.org/github/Feeeeeeeeeela/WxTutorial/blob/master/00%20WxPython.ipynb)\n",
    "* [Jupyter Notebook](https://nbviewer.jupyter.org/github/Feeeeeeeeeela/WxTutorial/blob/master/00%20Jupyter%20Notebook.ipynb)\n",
    "\n",
    "### Základní sada:            \n",
    "\n",
    "1. [OOP Teorie](https://nbviewer.jupyter.org/github/Feeeeeeeeeela/WxTutorial/blob/master/01%20OOP%20Teorie.ipynb)\n",
    "2. [OOP Praxe](https://nbviewer.jupyter.org/github/Feeeeeeeeeela/WxTutorial/blob/master/02%20OOP%20praxe.ipynb)\n",
    "3. [První aplikace](https://nbviewer.jupyter.org/github/Feeeeeeeeeela/WxTutorial/blob/master/03%20Prvn%C3%AD%20aplikace.ipynb)\n",
    "4. [Přepsání do OOP a StaticText](https://nbviewer.jupyter.org/github/Feeeeeeeeeela/WxTutorial/blob/master/04%20P%C5%99eps%C3%A1n%C3%AD%20do%20OOP%20a%20StaticText.ipynb)\n",
    "5. [Velikost a pozice](https://nbviewer.jupyter.org/github/Feeeeeeeeeela/WxTutorial/blob/master/05%20Velikost%20a%20pozice%20r%C3%A1mu.ipynb)\n",
    "6. [Tlačítko](https://nbviewer.jupyter.org/github/Feeeeeeeeeela/WxTutorial/blob/master/06%20Tla%C4%8D%C3%ADtko.ipynb)\n",
    "7. [Vstup pro uživatele (TextCtrl a vstupní dialog)](https://nbviewer.jupyter.org/github/Feeeeeeeeeela/WxTutorial/blob/master/07%20Vstupy%20pro%20u%C5%BEivatele.ipynb)\n",
    "8. [Menubar](https://nbviewer.jupyter.org/github/Feeeeeeeeeela/WxTutorial/blob/master/08%20Menubar.ipynb)\n",
    "9. [Třída wx.App](https://nbviewer.jupyter.org/github/Feeeeeeeeeela/WxTutorial/blob/master/09%20T%C5%99%C3%ADda%20wx.App.ipynb)\n",
    "10. [Úvod k sizerům](https://nbviewer.jupyter.org/github/Feeeeeeeeeela/WxTutorial/blob/master/10%20Sizery.ipynb)\n",
    "\n",
    "### Názorné příklady:\n",
    "\n",
    "* [Mixér barev](https://nbviewer.jupyter.org/github/Feeeeeeeeeela/WxTutorial/blob/master/p%C5%99%20Mix%C3%A9r%20barev.ipynb)\n",
    "* [Kalkulačka](https://nbviewer.jupyter.org/github/Feeeeeeeeeela/WxTutorial/blob/master/p%C5%99%20Kalkula%C4%8Dka.ipynb)\n",
    "* [Práce s více panely](https://nbviewer.jupyter.org/github/Feeeeeeeeeela/WxTutorial/blob/master/p%C5%99%20Pr%C3%A1ce%20s%20v%C3%ADce%20panely.ipynb)\n",
    "\n",
    "### WxGlade:\n",
    "\n",
    "* [Instalace a úvod](https://nbviewer.jupyter.org/github/Feeeeeeeeeela/WxTutorial/blob/master/wxGlade%20Instalace%20a%20%C3%BAvod.ipynb) \n",
    "* [Mixér barev](https://nbviewer.jupyter.org/github/Feeeeeeeeeela/WxTutorial/blob/master/wxGlade%20mix%C3%A9r%20barev.ipynb)\n",
    "\n",
    "### Všechny základní widgety:\n",
    "\n",
    "* [Seznam widgetů](https://nbviewer.jupyter.org/github/Feeeeeeeeeela/WxTutorial/blob/master/Z%C3%A1kladn%C3%AD%20widgety.ipynb)"
   ]
  }
 ],
 "metadata": {
  "kernelspec": {
   "display_name": "Python 3",
   "language": "python",
   "name": "python3"
  },
  "language_info": {
   "codemirror_mode": {
    "name": "ipython",
    "version": 3
   },
   "file_extension": ".py",
   "mimetype": "text/x-python",
   "name": "python",
   "nbconvert_exporter": "python",
   "pygments_lexer": "ipython3",
   "version": "3.8.6"
  }
 },
 "nbformat": 4,
 "nbformat_minor": 4
}
