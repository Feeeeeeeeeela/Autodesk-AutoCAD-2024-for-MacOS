{
 "cells": [
  {
   "cell_type": "markdown",
   "metadata": {},
   "source": [
    "# Instalace wxPython\n",
    "Originál instalace najdete [zde](https://wxpython.org/pages/downloads/index.html)"
   ]
  },
  {
   "cell_type": "markdown",
   "metadata": {},
   "source": [
    "## Windows a macOS\n",
    "Instalace pomocí [pip](https://pypi.org/project/pip/)."
   ]
  },
  {
   "cell_type": "code",
   "execution_count": 1,
   "metadata": {},
   "outputs": [
    {
     "name": "stdout",
     "output_type": "stream",
     "text": [
      "Requirement already up-to-date: wxPython in c:\\users\\kaktu\\anaconda3\\lib\\site-packages (4.1.0)\n",
      "Requirement already satisfied, skipping upgrade: pillow in c:\\users\\kaktu\\anaconda3\\lib\\site-packages (from wxPython) (7.2.0)\n",
      "Requirement already satisfied, skipping upgrade: six in c:\\users\\kaktu\\appdata\\roaming\\python\\python38\\site-packages (from wxPython) (1.15.0)\n",
      "Requirement already satisfied, skipping upgrade: numpy; python_version >= \"3.0\" in c:\\users\\kaktu\\anaconda3\\lib\\site-packages (from wxPython) (1.18.5)\n",
      "Note: you may need to restart the kernel to use updated packages.\n"
     ]
    }
   ],
   "source": [
    "pip install -U wxPython"
   ]
  },
  {
   "cell_type": "markdown",
   "metadata": {},
   "source": [
    "Pokud používáte Windows nebo macOS s kompatibilním Pythonem, výše uvedený příkaz stáhne příslušné soubory, nejnovější verzi `wx`, a nainstaluje jej do prostředí Python nebo do virtuálního prostředí. Nástroj pip by jste měli mít již nainstalovaný, pokud již vaše zařízení obsahuje python verze 2.0 a vyšší."
   ]
  },
  {
   "cell_type": "markdown",
   "metadata": {},
   "source": [
    "### Conda nebo Anaconda\n",
    "Pokud používáte prostředí Pythonu spravované Condou nebo Anacondou, můžete nainstalovat wxPython pomocí nástroje conda stejně, jako byste nainstalovali jakýkoli jiný balíček. <br>\n",
    "`conda install -c anaconda wxpython`"
   ]
  },
  {
   "cell_type": "markdown",
   "metadata": {},
   "source": [
    "Úspěšnou instalaci `wxPython` můžete vyzkoušet zkopírováním a spuštěním následujících 4 řádků:\n",
    "```\n",
    "import wx\n",
    "\n",
    "app = wx.App()\n",
    "frame = wx.Frame(parent=None, title='Hello World!')\n",
    "frame.Show()\n",
    "app.MainLoop()``` \n",
    "<br>\n",
    "Program vám spustí malé šedé okno, tak jste nainstalovali správně `wxPython`, pokud na vás vyskočil error z příkazového řádku, je důležité si zkontrolovat, zda pracujeve v prostředí, kde jste si `wxPython` stáhli a nainstalovali. "
   ]
  },
  {
   "cell_type": "markdown",
   "metadata": {},
   "source": [
    "# Jupyter notebook\n",
    "Jupyter notebook je webová aplikace s otevřeným zdrojovým kódem, která vám umožňuje vytvářet a sdílet dokumenty, které obsahují živý kód, rovnice, vizualizace atd."
   ]
  },
  {
   "cell_type": "markdown",
   "metadata": {},
   "source": [
    "## Instalace a spuštění\n",
    "Je mnoho způsobů jak otevřít Jupyter notebook, který pracuje v prohlížeči. Můžete ho otevřít přímo na oficiálních [stránkách](https://jupyter.org/) nebo si ho nainstalujete přímo do počítače skrze [pip](https://pypi.org/project/pip/).<br>\n",
    "`pip install notebook` <br>\n",
    "Program se poté spouští do příkazovou řádkou napsáním: <br>\n",
    "`jupyter notebook` <br>\n",
    "Jupyter notebook je též součást programů Anaconda, která vám vytvoří přímého zástupce."
   ]
  },
  {
   "cell_type": "markdown",
   "metadata": {},
   "source": [
    "Pokud při instalaci na **Windows** proběhla instalace úspěšně, ale příkazová řádka program `Jupyter` nepoznává a vrací vám chybovou hlášku: <br>\n",
    "`'jupyter' is not recognized as an internal or external command,\n",
    "operable program or batch file` <br>\n",
    "Jedná se o chybu, kdy Windows nemůže najít cestu k systémové proměnné `Jupyteru`. Program poté musíte spouštět trochu jiným příkazem:\n",
    "`python -m notebook` "
   ]
  },
  {
   "cell_type": "code",
   "execution_count": null,
   "metadata": {},
   "outputs": [],
   "source": []
  }
 ],
 "metadata": {
  "kernelspec": {
   "display_name": "Python 3",
   "language": "python",
   "name": "python3"
  },
  "language_info": {
   "codemirror_mode": {
    "name": "ipython",
    "version": 3
   },
   "file_extension": ".py",
   "mimetype": "text/x-python",
   "name": "python",
   "nbconvert_exporter": "python",
   "pygments_lexer": "ipython3",
   "version": "3.8.3"
  }
 },
 "nbformat": 4,
 "nbformat_minor": 4
}
