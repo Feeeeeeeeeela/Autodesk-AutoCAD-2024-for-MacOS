{
 "cells": [
  {
   "cell_type": "markdown",
   "metadata": {},
   "source": [
    "# WxTutorial\n",
    "<br>\n",
    "\n",
    "### Instalace:\n",
    "\n",
    "* [WxPython]()\n",
    "* [Jupyter Notebook]()\n",
    "\n",
    "### Základní sada:            \n",
    "\n",
    "1. [OOP Teorie]()\n",
    "2. [OOP Praxe]()\n",
    "3. [První aplikace]()\n",
    "4. [Přepsání do OOP a StaticText]()\n",
    "5. [Velikost a pozice]()\n",
    "6. [Tlačítko]()\n",
    "7. [Vstup pro uživatele (TextCtrl a vstupní dialog)]()\n",
    "8. [Menubar]()\n",
    "9. [Třída wx.App]()\n",
    "10. [Úvod k sizerům]()\n",
    "\n",
    "### Názorné příklady:\n",
    "\n",
    "* [Mixér barev]()\n",
    "* [Kalkulačka]()\n",
    "* [Práce s více panely]()\n",
    "\n",
    "### WxGlade:\n",
    "\n",
    "* [Instalace a úvod]() \n",
    "* [Mixér barev]()\n",
    "\n",
    "### Všechny základní widgety:\n",
    "\n",
    "* [Seznam widgetů]()"
   ]
  },
  {
   "cell_type": "code",
   "execution_count": null,
   "metadata": {},
   "outputs": [],
   "source": []
  }
 ],
 "metadata": {
  "kernelspec": {
   "display_name": "Python 3",
   "language": "python",
   "name": "python3"
  },
  "language_info": {
   "codemirror_mode": {
    "name": "ipython",
    "version": 3
   },
   "file_extension": ".py",
   "mimetype": "text/x-python",
   "name": "python",
   "nbconvert_exporter": "python",
   "pygments_lexer": "ipython3",
   "version": "3.8.6"
  }
 },
 "nbformat": 4,
 "nbformat_minor": 4
}
