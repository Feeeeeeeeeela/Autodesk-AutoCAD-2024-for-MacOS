{
 "cells": [
  {
   "cell_type": "markdown",
   "metadata": {},
   "source": [
    "# DPM úkoly:\n",
    "* [x] abstrakt\n",
    "* [x] úvod k pythonu\n",
    "* [ ] úvod do objektového programování\n",
    "* [x] úvod k wxpythonu\n",
    "* [x] úvod k jupyter notebooku"
   ]
  },
  {
   "cell_type": "markdown",
   "metadata": {},
   "source": [
    "## Abstrakt\n",
    "Cílem diplomové práce je vytvořit sbírku tutoriálů popisující základy knihovny wxWidgets v programovacím jazyce python. Samotná knihovna pythonu podporující wxWidgets se nazývá wxPython. Sbírka je určena pro studenty programování začínající s grafickým uživatelským rozhraní, kteří již mají za sebou základní zkušenosti s pythonem. Součástí tutoriálů je úvod do objektově orientovaného programování, které se při tvorbě grafického rozhraní využívá. Po dokončení základních tutoriálů je součástí sbírky i sada názorných příkladů, řešící základní jednoduché aplikace."
   ]
  },
  {
   "cell_type": "markdown",
   "metadata": {},
   "source": [
    "# Teoretická část:"
   ]
  },
  {
   "cell_type": "markdown",
   "metadata": {},
   "source": [
    "## Úvod k pythonu\n",
    "Cílem této kapitoly je obecný úvod programovacího jazyka python.\n",
    "\n",
    "### Python\n",
    "Python je univerzální programovací jazyk. \n",
    "\n",
    "Patří mezi tzv. \"interpretované jazyky\". To znamená, že napsaný zdrojový kód v jazyce Python je převeden (interpretován) pomocí programu (interpreter/tlumočník) do jazyka, se kterým pracuje počítač. Samotní tlumočníci pro Python jsou k dispozici na všech operačních systémech.\n",
    "\n",
    "Python byl navržen tak, že místo toho, aby byly veškeré jeho funkce v jádru, tak je velmi rozšiřitelný.\n",
    "Má jednodušší a méně přeplněnou syntaxi a gramatiku, např. díky využití mezer.\n",
    "\n",
    "### Historie:\n",
    "Programovací jazyk Python byl navrhnut mezi roky 1990-1991 holaňdanem Guidem van Rossumem v národním výzkumném institutu pro matiku a informatiku ([CWI](https://cs.qaz.wiki/wiki/Centrum_Wiskunde_%26_Informatica)) v Amsterdamu. Samotné pojmenování pythonu nemá nic společného s druhem hada, neboť Van Rossum pojmenoval python po televizním pořadu anglické BBC [Monty Pythonův létající kruh](https://cs.qaz.wiki/wiki/Monty_Python%27s_Flying_Circus).\n",
    "\n",
    "První verzi kódu zveřejnil Van Rossum v únoru roku 1991 (verze 0.9.0). Již v této fázi vývoje bylo možné v pythonu pracovat s třídy a dědičnostmi. K dispozici již také byli i základní datové typy jako string, list či dict. V počátečním vydání obsahoval python [modulový systém](https://cs.qaz.wiki/wiki/Modular_programming).\n",
    "\n",
    "Python dosáhl verze 1 v lednu 1994. Novými funkcemi byla lambda a práce s [mapováním](https://cs.qaz.wiki/wiki/Map_(higher-order_function), [filtrováním](https://cs.qaz.wiki/wiki/Filter_(higher-order_function))a [redukování](https://cs.qaz.wiki/wiki/Fold_(higher-order_function)) [vyšších řádů](https://cs.qaz.wiki/wiki/Higher-order_function) (Funkce vyšších řádů berou jednu nebo více funkcí nebo atributů a jako výsledek vrací jednu funkci). Později Van Rossum opouští CWI a pokračuje na pythonu ve [CNRI](https://cs.qaz.wiki/wiki/Corporation_for_National_Research_Initiatives) (Korporace pro národní výzkumné iniciativy) ve Virginii. Další důležitou verzí je 1.4, kde se objevili [pojmenované parametry](https://cs.qaz.wiki/wiki/Named_parameter) nebo podpora komplexních čísel.\n",
    "\n",
    "Během Van Rossumova pobytu ve CNRI se institut snažil o zpřístupnění možnosti programování pro veřejnost se základním vzdělání. Tohle mělo později za následek menší \"šachování\" mezi licencemi pythonu 1.6, které měli za cíl získání [licence svobodného softwaru](https://cs.qaz.wiki/wiki/Free-software_license). Další verze 1.6.1 sice neobsahovala žádné důležité funkce, ale měla změněnou licenci na [GPL](https://cs.qaz.wiki/wiki/GNU_General_Public_License) (General Public License neboli bezplatná softwarová licence).\n",
    "\n",
    "Verze 2.0 byla vydána v říjnu 2000, která představila [seznamy](https://cs.qaz.wiki/wiki/List_comprehension). 2.2 představila sjednocení typů Pythonu (typů napsaných v C) a tříd (typů napsaných v Pythonu) do jedné hierarchie. 2.5 představil prhlášení [with](https://en.wikipedia.org/wiki/Python_syntax_and_semantics#With_statements) umožňující otevření a zavření souboru a další funkce.\n",
    "\n",
    "Python 2.6 byl vydán, aby se shodoval s Pythonem 3.0 a varoval hlavně o funkcích, které jsou ve verzi 3.0 odstraněny. Podobně byl vydán i 2.7, který se shodoval s 3.1. Python 2.7 byl posledním vydáním v sérii 2. V listopadu 2014 bylo oznámeno konec podpory 2.7 do roku 2020. Uživatelé byli vyzváni, aby postupně přešli na Python 3.0. 1. ledna 2020 byl [\"zmražen\"](https://cs.qaz.wiki/wiki/Freeze_(software_engineering)) kód Pythonu 2.7. Konečné vydání, 2.7.18, došlo 20. dubna 2020 a zahrnovalo opravy kritických chyb a blokátorů vydání.\n",
    "\n",
    "Verze 3.0 přišla 3. prosince 2008. 3.0 byla navržena, aby napravila základní konstrukční chyby jazyka. Tyhle změny avšak znemožnili zpětnou kompabilitu se staršími verzemi (tudíž došlo k samotnému oddělení verzí z 2.x na 3.0). Hlavním motem změn bylo odstranění nadbytečných, duplicitních konstrukcí a modulů. Vznikl nástroj tzv. 2to3, který dokázal přepsat automaticky Python 2 do nové verze, avšak nástroj nefunguje na 100% a některé aspekty nedokáže zvládnout.\n",
    "\n",
    "Hlavními úpravami byly:\n",
    "* Změna print, aby se jednalo o vestavěnou funkci. V Pythonu 2.6 a 2.7 print()je k dispozici jako vestavěný, ale je maskovaný syntaxí tiskového příkazu, kterou lze deaktivovat zadáním from __ future __ (bez mezer) import print_functionv horní části souboru\n",
    "* Odebrání inputu ve verzi 2. Z verze poté byl přebrat raw_input, který byl přejmenován na input \n",
    "* Přidání podpory pro anotace jednotlivých funkcí (Když v kódu byla nepoužívaná funkce se špatnou syntaxí, tak se program ve 2.x nespustil)\n",
    "* sjednocení str / unicode typů\n",
    "* Odebrání funkcí zpětné kompatibility, včetně tříd starého stylu, výjimek řetězců a implicitních relativních importů\n",
    "* Změna funkce celočíselného dělení. (ve 2.0 5 / 2 = 2, nyní 5 / 2 = 2.5. ve 3.0 vznikla náhradní syntaxe 5 // 2 = 2)"
   ]
  },
  {
   "cell_type": "markdown",
   "metadata": {},
   "source": [
    "# WxPython\n",
    "WxPython je obal pro multiplatformní GUI aplikační programovací rozhraní wxWidgets(napsán v C++) pro programovací jazyk Python. Jedná se o otevřený rozšiřující modul Pythonu.\n",
    "\n",
    "### Historie\n",
    "WxPython byl vytvořen [Robinem Dunnem](https://wiki.wxpython.org/RobinDunn), když potřeboval GUI k operačnímu systému [HP-UX](https://cs.qaz.wiki/wiki/HP-UX) a [Windows 3.1](https://cs.qaz.wiki/wiki/Windows_3.1x). Při hodnocení komečních řešení narazil na vazby Pythonu se sadou nástrojů wxWidgets.\n",
    "\n",
    "První verze verze byly vytvořeny ručně. Avšak brzy se kódová základna velmi obtížně udržovala synchronizovaná s novými verzemi wxWidgets. Pozdější verze byly vytvořeny pomocí [SWIG](https://cs.qaz.wiki/wiki/SWIG)(nástroj pro propojení knihoven v C se skriptovacími jazyky), který výrazně snížil množství práce na aktualizaci. \n",
    "První \"moderní\" verze byla oznámena v roce 1998.\n",
    "\n",
    "\n",
    "## WxWidgets\n",
    "Samotná sada nástrojů wxWidgets je knihovna nástrojů pro vytváření [graficky uživatelských rozhraní](https://cs.qaz.wiki/wiki/Graphical_user_interface) (GUI) napříč všemi platformami. WxWidgets umožňuje kódu GUI kompilovat a spouštět na několika počítačových platformách s minimálními nebo se žádnými změnami kódu. \n",
    "Jedná se o bezplatný a otevřený software distribuovaný za podmínek [licence WxWidgets](https://cs.qaz.wiki/wiki/WxWidgets#License), která je obdobná GPL. \n",
    "\n",
    "### Historie\n",
    "WxWidgets (původně wxWindows) zahájil v roce 1992  [Julian Smart](http://www.anthemion.co.uk/julian.htm) z [University of Edinburgh](https://cs.qaz.wiki/wiki/University_of_Edinburgh). V roce 2004 došlo k přejmenování wxWindows v důsledku požadavků společnosti Microsoft.\n",
    "Hlavní verze byla vydána 6. ledna 2004. Samotná verze 3.0 byla vydána 11. listopadu 2013."
   ]
  },
  {
   "cell_type": "markdown",
   "metadata": {},
   "source": [
    "# Jupyter notebook\n",
    "Jedná se o webové interaktnivní prostředí výpočetní prosředí pro vytváření stejnojmeného dokumentu, které je součástí [Projektu Jupyter](https://cs.qaz.wiki/wiki/Project_Jupyter). Samotný dokument Notebooku je [JSON](https://cs.qaz.wiki/wiki/JSON) (formát slovníku). Zápis do notebooku je prováděn pomocí tzv \"buněk\", které mohou obsahovat funkční kód ([mnoha jazyků](https://www.youtube.com/watch?v=6tHy8QPXwUg)), text(markdown), matematiku, grafy, obrázky. Dokumenty mají koncovku \"ipynb\".\n",
    "\n",
    "### Historie\n",
    "V roce 2014 vznikl Projekt Jupyter oddělením od [IPythonu](https://cs.qaz.wiki/wiki/IPython) (viz text). IPython nadále existuje jako prostředí Pythonu, zatímco notebook a další jazykově nezávislé části IPythonu se přesunuly pod názvem Jupyter.\n",
    "V roce 2015 [GitHub](https://cs.qaz.wiki/wiki/GitHub) a projekt Jupyter oznámili nativní vykreslování formátu souborů notebooků Jupyter (soubory .ipynb) na platformě GitHub.\n",
    "\n",
    "## Projekt Jupyter\n",
    "Je nezisková organizace vytvořená s motem \"rozvinout otevřený software a služby pro interaktnivní práci na počítači přes desitký programovacích jazyků\". Jupyter vznikl oddělením od IPythonu v roce 2014, za kterým stál [Fernando Pérez](https://cs.qaz.wiki/wiki/Fernando_Pérez_(software_developer)). Pod Projekt Jupyter spadají interaktivní výpočetní produkty Jupyter Notebook, JupyterHub a JupyterLab.\n",
    "\n",
    "## IPython\n",
    "IPython (Interactive Python) je [příkazový shell](https://cs.qaz.wiki/wiki/Shell_(computing)) (příkazový řádek pro práci s počítačem) pro interaktnivní výpočty ve více programovacích jazycích (původně pouze pro Python). Podporuje práci s [multimédii](https://cs.qaz.wiki/wiki/Interactive_media), [introspekci](https://cs.qaz.wiki/wiki/Type_introspection) (schopnost programu zkoumat typ a vlastnosti objektu při běhu), nástroje pro [paralerní výpočty](https://cs.qaz.wiki/wiki/Parallel_computing)(výpočet komplikovaných příkladů pomocí rozdělení na menší díly, které se vyřeší jednodušše) a [rozhraní poznámkového bloku](https://cs.qaz.wiki/wiki/Notebook_interface) s podporou kódu, textu, matematických výrazů a dalších médií."
   ]
  },
  {
   "cell_type": "markdown",
   "metadata": {},
   "source": [
    "## Objektově orientované programování\n",
    "Jedná se o tzv. [programovací parqadigma](https://cs.qaz.wiki/wiki/Programming_paradigm). Jedná se o způsob jak rozdělit programovací jazyky. Paradigma se zabývají implikacemi (prováděním) provádění jazyka (samotné psaní kódu). Paradigma se rozdělují:\n",
    "* [Imperativy](https://cs.qaz.wiki/wiki/Imperative_programming) - uživatel upravuje/instruuje samotné zařízení/stroj, tím mění jeho stav\n",
    "    1. [Proceduární programování](https://cs.qaz.wiki/wiki/Procedural_programming) (strukturované programování) - nejzákladnější/nejjednodušší paradigma, které seskupuje pokyny do postupů (jednoduše obsahuje řadu výpočtových kroků, které vedou k cílenému výsledku). \n",
    "    2. [Objektově orientované programování](https://cs.qaz.wiki/wiki/Object-oriented_programming) (OOP) - paradigma je založené na konceptu tzv. \"objektů\". Samotné objekty poté obsahují buď data nebo funkce. (Data ve formě atributů nebo vlastností; funkce známe spíše jako \"metody\") \n",
    "\n",
    "    \n",
    "* [Deklarativní](https://cs.qaz.wiki/wiki/Declarative_programming) - uživatel pouze upravuje vlastnosti požadovaného výsledku, ale ne způsob jeho výpočtu\n",
    "    1. Funkcionální programování\n",
    "    2. Logické programování\n",
    "    3. Matematické programování\n",
    "    \n"
   ]
  },
  {
   "cell_type": "markdown",
   "metadata": {},
   "source": [
    "# Praktická část\n",
    "V této části si rozebereme materiály."
   ]
  },
  {
   "cell_type": "code",
   "execution_count": null,
   "metadata": {},
   "outputs": [],
   "source": []
  }
 ],
 "metadata": {
  "kernelspec": {
   "display_name": "Python 3",
   "language": "python",
   "name": "python3"
  },
  "language_info": {
   "codemirror_mode": {
    "name": "ipython",
    "version": 3
   },
   "file_extension": ".py",
   "mimetype": "text/x-python",
   "name": "python",
   "nbconvert_exporter": "python",
   "pygments_lexer": "ipython3",
   "version": "3.7.3"
  }
 },
 "nbformat": 4,
 "nbformat_minor": 4
}
