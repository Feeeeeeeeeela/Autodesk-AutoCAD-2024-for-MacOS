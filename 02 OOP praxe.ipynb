{
 "cells": [
  {
   "cell_type": "markdown",
   "metadata": {},
   "source": [
    "# Praxe v OOP\n",
    "Abychom nezůstali jen u teorie, tak si vytvoříme 2 třídy, přiřemž jedna bude dědit druhou.    "
   ]
  },
  {
   "cell_type": "markdown",
   "metadata": {},
   "source": [
    "Pro příklad si na začátek zobrazíme základní funkci na vypisování vlastnostní zvířete."
   ]
  },
  {
   "cell_type": "code",
   "execution_count": null,
   "metadata": {},
   "outputs": [],
   "source": [
    "class Animal:\n",
    "    def __init__(self, weight, height, name):\n",
    "        self.weight = weight\n",
    "        self.height = height\n",
    "        self.name = name\n",
    "        \n",
    "def phyinfo(self):\n",
    "        print(self.weight)\n",
    "        print(self.height)\n",
    "        print(self.name) "
   ]
  },
  {
   "cell_type": "markdown",
   "metadata": {},
   "source": [
    "Vytvoříme si název `třídy`. <br>\n",
    "Jako první funkci třídy si definujeme tzv. [inicializační](http://howto.py.cz/cap12.htm) metodu `__init__`. Přesná definice `__init__` je velmi komplikovaná a historií zasahuje až dob, kdy vznikalo OOP v jazyku C. Pro nás metoda způsobuje, že se provede jako úplně **první** a jen **jednou**. Takže zde napíšeme všechny důležité atributy třídy. <br>\n",
    "Velmi důležitým parametrem za metodou `__init__` je `self`, který metodě zpřístupňuje konkétní objekt. Bez `self` nemají další objekty třídy přístup k datům třídy. <br>\n",
    "Ostaní parametry jsme si vytvořili již sami a zpřístupnili jsme je dalším objektům tím, že jsme si vytvořili proměnné se `self`. "
   ]
  },
  {
   "cell_type": "code",
   "execution_count": null,
   "metadata": {},
   "outputs": [],
   "source": [
    "class Animal:\n",
    "    def __init__(self, weight, height, name):\n",
    "        self.weight = weight\n",
    "        self.height = height\n",
    "        self.name = name"
   ]
  },
  {
   "cell_type": "markdown",
   "metadata": {},
   "source": [
    "Metodu `phyinfo`(physical information) jsme si vytvoříme proto, aby vypisovala naše proměnné. <br>\n",
    "Do `print` vložíme proměnné se `self`, protože je přebíráme z jiného objektu."
   ]
  },
  {
   "cell_type": "code",
   "execution_count": null,
   "metadata": {},
   "outputs": [],
   "source": [
    "def phyinfo(self):\n",
    "        print(self.weight)\n",
    "        print(self.height)\n",
    "        print(self.name) "
   ]
  },
  {
   "cell_type": "markdown",
   "metadata": {},
   "source": [
    "Nyní máme třídu hotovou. <br>\n",
    "Pro definování proměnných objektu třídy, používáme podobnou syntaxi jako u funkcí. Do parametrů **musíme vložit** všechny vytvořené parametry třídy, jinak se objeví v outputu error. <br>\n",
    "Na druhém řádku si vyvoláme funkci pro vypsání proměnných."
   ]
  },
  {
   "cell_type": "code",
   "execution_count": null,
   "metadata": {},
   "outputs": [],
   "source": [
    "jarda = Animal(100, 180, \"Jarda\")\n",
    "jarda.phyinfo()"
   ]
  },
  {
   "cell_type": "markdown",
   "metadata": {},
   "source": [
    "Nyní si vyzkoušíme dědičnost."
   ]
  },
  {
   "cell_type": "code",
   "execution_count": null,
   "metadata": {},
   "outputs": [],
   "source": [
    "class Favfood(Animal):\n",
    "    def __init__(self, weight, height, name, fav_food):\n",
    "        super().__init__(weight, height, name)\n",
    "        self.fav_food = fav_food\n",
    "    \n",
    "    def  print_food(self):\n",
    "        print(f\"{self.name}'s favourite food is {self.fav_food}\")"
   ]
  },
  {
   "cell_type": "markdown",
   "metadata": {},
   "source": [
    "Dědění jiné třídy se zapisuje přímo do parametru třídy. <br>\n",
    "Musíme být opatrní a do `__init__` vypsat i zděděné atributy. <br>\n",
    "V kódu je využita dále funkce `super()`, která umožňuje vyhnutí se výslovnému názvu děděné třídy při volání a zároveň umožňuje práci s více dědičnostmi. <br>\n",
    "Konkétně zde funkce `super()` dědí atributy třídy `Animal`."
   ]
  },
  {
   "cell_type": "code",
   "execution_count": null,
   "metadata": {},
   "outputs": [],
   "source": [
    "class Favfood(Animal):\n",
    "    def __init__(self, weight, height, name, fav_food):\n",
    "        super().__init__(weight, height, name)\n",
    "        self.fav_food = fav_food"
   ]
  },
  {
   "cell_type": "markdown",
   "metadata": {},
   "source": [
    "Ve zbytku opakujeme víceméně to stejné, co jsme udělali v předchozí třídě."
   ]
  },
  {
   "cell_type": "code",
   "execution_count": null,
   "metadata": {},
   "outputs": [],
   "source": [
    "    def  print_food(self):\n",
    "        print(f\"{self.name}'s favourite food is {self.fav_food}\")"
   ]
  },
  {
   "cell_type": "markdown",
   "metadata": {},
   "source": [
    "Pro zkoušku si nyní vyvoláme místo `Animal` nově vytvořenou třídu `Favfood`, do které vložíme všechny parametry. V ukázce můžeme zjistit, že funguje funkce i z předchozí třídy."
   ]
  },
  {
   "cell_type": "code",
   "execution_count": null,
   "metadata": {},
   "outputs": [],
   "source": [
    "janda = Favfood(200, 300, \"Janda\", \"Bramborový salát\")\n",
    "janda.phyinfo()\n",
    "janda.print_food()"
   ]
  },
  {
   "cell_type": "markdown",
   "metadata": {},
   "source": [
    "### Závěr:\n",
    "Možná OOP vypadá komplikovaně oproti \"standardnímu programování\". Ale co se týče využití a efektivnosti, OOP nezná konkurenci. K vytváření GUI je OOP nutné znát k psaní programů, které mají více oken a s jeho pochopením se stává vytváření GUI aplikací velmi jednoduché. <br>\n",
    "V další lekci OOP ještě nevyužijeme, ale ukážeme si nejjednodušší `wx` aplikaci."
   ]
  }
 ],
 "metadata": {
  "kernelspec": {
   "display_name": "Python 3",
   "language": "python",
   "name": "python3"
  },
  "language_info": {
   "codemirror_mode": {
    "name": "ipython",
    "version": 3
   },
   "file_extension": ".py",
   "mimetype": "text/x-python",
   "name": "python",
   "nbconvert_exporter": "python",
   "pygments_lexer": "ipython3",
   "version": "3.8.6"
  }
 },
 "nbformat": 4,
 "nbformat_minor": 4
}
